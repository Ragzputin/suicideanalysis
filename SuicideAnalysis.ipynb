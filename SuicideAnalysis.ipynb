{
 "cells": [
  {
   "cell_type": "markdown",
   "metadata": {},
   "source": [
    "# Step 1: The Hypotheses"
   ]
  },
  {
   "cell_type": "markdown",
   "metadata": {},
   "source": [
    "## Hypothesis 1: GDP Per Capita vs Suicide"
   ]
  },
  {
   "cell_type": "markdown",
   "metadata": {},
   "source": [
    "There's this endless debate between people who are advocates of the \"money brings happiness\" philosophy and their opponents, the \"money's just a number\" proponents. Let's put these two statements to the test. If it is true that money brings happiness, then as GDP per capita goes up, the number of suicides will go down. We can randomly sample the population and see what the trend is in our sample.\n",
    "\n",
    "In order to do this, we need to divide our population into two sectors: the high GDP per capita sector and the low GDP per capita sector. From these two we can proceed to randomly sample the number of suicides in each group. \n",
    "\n",
    "The above is my reasoning thus far. So, let me lay out my alternate and null hypotheses as follows:\n",
    "\n",
    "Alternate Hypothesis: Citizens from lower gdp per capita group are more prone to suicide than those in the higher gdp per capita group on average. $\\mu_l$ - $\\mu_{h}$ > 0  (exciting, new claim!)\n",
    "\n",
    "Null Hypothesis: The suicide rates between the two groups is the same on average. $\\mu_l$ - $\\mu_h$ = 0 (no difference bro!)"
   ]
  },
  {
   "cell_type": "markdown",
   "metadata": {},
   "source": [
    "## Hypothesis 2: Sex vs Suicide "
   ]
  },
  {
   "cell_type": "markdown",
   "metadata": {},
   "source": [
    "I am curious to know - are men or women more likely to commit suicide? It would be interesting indeed if we found that say men committed suicide on average more than women. If so, I wonder what the cause of that would be?\n",
    "\n",
    "I will construct the following 1-sided hypotheses to test this:\n",
    "\n",
    "Alternate Hypothesis: The average suicide rate of men higher than that in women. $$\\mu_{men}-\\mu_{women} > 0$$\n",
    "\n",
    "Null Hypothesis: There is no difference between the number of men and number of women who commit suicide. $$\\mu_{men}-\\mu_{women} = 0$$"
   ]
  },
  {
   "cell_type": "markdown",
   "metadata": {},
   "source": [
    "## Hypothesis 3: Generation vs Suicide "
   ]
  },
  {
   "cell_type": "markdown",
   "metadata": {},
   "source": [
    "Did past generations have more suicides compared to current generations? I've been hearing that suicide rates have been going up. If this is true then the past generations would have lower suicide rates than current generations. So, based on this premise, I'm going to construct my hypotheses like this:\n",
    "\n",
    "Alternate Hypothesis: The average suicide rate among current generations (Gen X, Millenials, Gen Z) is more than that in previous generations (Silent, G.I., Boomers) (whoa! Cool!). $\\mu_{new} - \\mu_{old} > 0$\n",
    "\n",
    "Null Hypothesis: The average suicide rate among current generations is the same as suicide rates in previous generations (no difference bro!). $\\mu_{new} - \\mu_{old} = 0$"
   ]
  },
  {
   "cell_type": "markdown",
   "metadata": {},
   "source": [
    "## Hypothesis 4: Age vs Suicide "
   ]
  },
  {
   "cell_type": "markdown",
   "metadata": {},
   "source": [
    "Does age affect suicide? Do younger people commit suicide more than older folks? Or is it the other way around? \n",
    "\n",
    "The data is already divided by age group, so we can put forth the below hypotheses:\n",
    "\n",
    "Alternate Hypothesis: The suicide rates among the various age groups are different (new! exciting!).\n",
    "\n",
    "Null Hypothesis: The suicide rates among the various age groups is the same (no difference bro!)."
   ]
  },
  {
   "cell_type": "markdown",
   "metadata": {},
   "source": [
    "## Hypothesis 5: Time vs Suicide "
   ]
  },
  {
   "cell_type": "markdown",
   "metadata": {},
   "source": [
    "As we go through time, is suicide increasing? Or is it decreasing? I've heard that suicide rates have been increasing. Let's put this to the test.\n",
    "\n",
    "Alternate Hypothesis: The suicide rates in past years (1985 - 2000) is greater than the suicide rates in recent years (2001 - 2016)\n",
    "\n",
    "Null Hypothesis: The suicide rates in past years (1985 - 2000) is the same as the suicide rates in recent years (2001 - 2016)"
   ]
  },
  {
   "cell_type": "markdown",
   "metadata": {},
   "source": [
    "# Step 2: Retrieving the Data "
   ]
  },
  {
   "cell_type": "code",
   "execution_count": 1,
   "metadata": {},
   "outputs": [],
   "source": [
    "import pandas as pd\n",
    "import numpy as np\n",
    "import matplotlib.pyplot as plt\n",
    "from statsmodels.stats.weightstats import ztest\n",
    "from statsmodels.stats.proportion import proportions_ztest\n",
    "from statsmodels.graphics.gofplots import qqplot\n",
    "from scipy.stats import chi2, chisquare\n",
    "from IPython.core.debugger import set_trace"
   ]
  },
  {
   "cell_type": "code",
   "execution_count": 2,
   "metadata": {},
   "outputs": [],
   "source": [
    "#Read from the master.csv file and put into a dataframe\n",
    "suicides = pd.read_csv('master.csv',sep=',',header=0,names=['country','yr','sex','age','suicides_no',\n",
    "                                                            'population','suicides_100k','country_yr',\n",
    "                                                            'HDI_yr','gdp_yr','gdp_pc','gen'])"
   ]
  },
  {
   "cell_type": "code",
   "execution_count": 3,
   "metadata": {},
   "outputs": [
    {
     "data": {
      "text/html": [
       "<div>\n",
       "<style scoped>\n",
       "    .dataframe tbody tr th:only-of-type {\n",
       "        vertical-align: middle;\n",
       "    }\n",
       "\n",
       "    .dataframe tbody tr th {\n",
       "        vertical-align: top;\n",
       "    }\n",
       "\n",
       "    .dataframe thead th {\n",
       "        text-align: right;\n",
       "    }\n",
       "</style>\n",
       "<table border=\"1\" class=\"dataframe\">\n",
       "  <thead>\n",
       "    <tr style=\"text-align: right;\">\n",
       "      <th></th>\n",
       "      <th>country</th>\n",
       "      <th>yr</th>\n",
       "      <th>sex</th>\n",
       "      <th>age</th>\n",
       "      <th>suicides_no</th>\n",
       "      <th>population</th>\n",
       "      <th>suicides_100k</th>\n",
       "      <th>country_yr</th>\n",
       "      <th>HDI_yr</th>\n",
       "      <th>gdp_yr</th>\n",
       "      <th>gdp_pc</th>\n",
       "      <th>gen</th>\n",
       "    </tr>\n",
       "  </thead>\n",
       "  <tbody>\n",
       "    <tr>\n",
       "      <th>0</th>\n",
       "      <td>Albania</td>\n",
       "      <td>1987</td>\n",
       "      <td>male</td>\n",
       "      <td>15-24 years</td>\n",
       "      <td>21</td>\n",
       "      <td>312900</td>\n",
       "      <td>6.71</td>\n",
       "      <td>Albania1987</td>\n",
       "      <td>NaN</td>\n",
       "      <td>2,156,624,900</td>\n",
       "      <td>796</td>\n",
       "      <td>Generation X</td>\n",
       "    </tr>\n",
       "    <tr>\n",
       "      <th>1</th>\n",
       "      <td>Albania</td>\n",
       "      <td>1987</td>\n",
       "      <td>male</td>\n",
       "      <td>35-54 years</td>\n",
       "      <td>16</td>\n",
       "      <td>308000</td>\n",
       "      <td>5.19</td>\n",
       "      <td>Albania1987</td>\n",
       "      <td>NaN</td>\n",
       "      <td>2,156,624,900</td>\n",
       "      <td>796</td>\n",
       "      <td>Silent</td>\n",
       "    </tr>\n",
       "    <tr>\n",
       "      <th>2</th>\n",
       "      <td>Albania</td>\n",
       "      <td>1987</td>\n",
       "      <td>female</td>\n",
       "      <td>15-24 years</td>\n",
       "      <td>14</td>\n",
       "      <td>289700</td>\n",
       "      <td>4.83</td>\n",
       "      <td>Albania1987</td>\n",
       "      <td>NaN</td>\n",
       "      <td>2,156,624,900</td>\n",
       "      <td>796</td>\n",
       "      <td>Generation X</td>\n",
       "    </tr>\n",
       "    <tr>\n",
       "      <th>3</th>\n",
       "      <td>Albania</td>\n",
       "      <td>1987</td>\n",
       "      <td>male</td>\n",
       "      <td>75+ years</td>\n",
       "      <td>1</td>\n",
       "      <td>21800</td>\n",
       "      <td>4.59</td>\n",
       "      <td>Albania1987</td>\n",
       "      <td>NaN</td>\n",
       "      <td>2,156,624,900</td>\n",
       "      <td>796</td>\n",
       "      <td>G.I. Generation</td>\n",
       "    </tr>\n",
       "    <tr>\n",
       "      <th>4</th>\n",
       "      <td>Albania</td>\n",
       "      <td>1987</td>\n",
       "      <td>male</td>\n",
       "      <td>25-34 years</td>\n",
       "      <td>9</td>\n",
       "      <td>274300</td>\n",
       "      <td>3.28</td>\n",
       "      <td>Albania1987</td>\n",
       "      <td>NaN</td>\n",
       "      <td>2,156,624,900</td>\n",
       "      <td>796</td>\n",
       "      <td>Boomers</td>\n",
       "    </tr>\n",
       "  </tbody>\n",
       "</table>\n",
       "</div>"
      ],
      "text/plain": [
       "   country    yr     sex          age  suicides_no  population  suicides_100k  \\\n",
       "0  Albania  1987    male  15-24 years           21      312900           6.71   \n",
       "1  Albania  1987    male  35-54 years           16      308000           5.19   \n",
       "2  Albania  1987  female  15-24 years           14      289700           4.83   \n",
       "3  Albania  1987    male    75+ years            1       21800           4.59   \n",
       "4  Albania  1987    male  25-34 years            9      274300           3.28   \n",
       "\n",
       "    country_yr  HDI_yr         gdp_yr  gdp_pc              gen  \n",
       "0  Albania1987     NaN  2,156,624,900     796     Generation X  \n",
       "1  Albania1987     NaN  2,156,624,900     796           Silent  \n",
       "2  Albania1987     NaN  2,156,624,900     796     Generation X  \n",
       "3  Albania1987     NaN  2,156,624,900     796  G.I. Generation  \n",
       "4  Albania1987     NaN  2,156,624,900     796          Boomers  "
      ]
     },
     "execution_count": 3,
     "metadata": {},
     "output_type": "execute_result"
    }
   ],
   "source": [
    "#Check the first 5 entries in dataframe\n",
    "suicides.head()"
   ]
  },
  {
   "cell_type": "code",
   "execution_count": 4,
   "metadata": {},
   "outputs": [
    {
     "name": "stdout",
     "output_type": "stream",
     "text": [
      "<class 'pandas.core.frame.DataFrame'>\n",
      "RangeIndex: 27820 entries, 0 to 27819\n",
      "Data columns (total 12 columns):\n",
      "country          27820 non-null object\n",
      "yr               27820 non-null int64\n",
      "sex              27820 non-null object\n",
      "age              27820 non-null object\n",
      "suicides_no      27820 non-null int64\n",
      "population       27820 non-null int64\n",
      "suicides_100k    27820 non-null float64\n",
      "country_yr       27820 non-null object\n",
      "HDI_yr           8364 non-null float64\n",
      "gdp_yr           27820 non-null object\n",
      "gdp_pc           27820 non-null int64\n",
      "gen              27820 non-null object\n",
      "dtypes: float64(2), int64(4), object(6)\n",
      "memory usage: 2.5+ MB\n"
     ]
    }
   ],
   "source": [
    "suicides.info()"
   ]
  },
  {
   "cell_type": "code",
   "execution_count": 5,
   "metadata": {},
   "outputs": [
    {
     "data": {
      "text/plain": [
       "(27820, 12)"
      ]
     },
     "execution_count": 5,
     "metadata": {},
     "output_type": "execute_result"
    }
   ],
   "source": [
    "suicides.shape"
   ]
  },
  {
   "cell_type": "markdown",
   "metadata": {},
   "source": [
    "# Step 3: Testing the Hypotheses "
   ]
  },
  {
   "cell_type": "markdown",
   "metadata": {},
   "source": [
    "## Hypothesis 1: GDP Per Capita versus Suicide "
   ]
  },
  {
   "cell_type": "markdown",
   "metadata": {},
   "source": [
    "Method 1: Take the max GDP per capita, take the min GDP per capita and compute (max - min) / 2. This will give us a \"naive\" boundary between the two groups for now. "
   ]
  },
  {
   "cell_type": "code",
   "execution_count": 6,
   "metadata": {},
   "outputs": [
    {
     "data": {
      "text/plain": [
       "0         796\n",
       "1         796\n",
       "2         796\n",
       "3         796\n",
       "4         796\n",
       "5         796\n",
       "6         796\n",
       "7         796\n",
       "8         796\n",
       "9         796\n",
       "10        796\n",
       "11        796\n",
       "12        769\n",
       "13        769\n",
       "14        769\n",
       "15        769\n",
       "16        769\n",
       "17        769\n",
       "18        769\n",
       "19        769\n",
       "20        769\n",
       "21        769\n",
       "22        769\n",
       "23        769\n",
       "24        833\n",
       "25        833\n",
       "26        833\n",
       "27        833\n",
       "28        833\n",
       "29        833\n",
       "         ... \n",
       "27790    1964\n",
       "27791    1964\n",
       "27792    1964\n",
       "27793    1964\n",
       "27794    1964\n",
       "27795    1964\n",
       "27796    2150\n",
       "27797    2150\n",
       "27798    2150\n",
       "27799    2150\n",
       "27800    2150\n",
       "27801    2150\n",
       "27802    2150\n",
       "27803    2150\n",
       "27804    2150\n",
       "27805    2150\n",
       "27806    2150\n",
       "27807    2150\n",
       "27808    2309\n",
       "27809    2309\n",
       "27810    2309\n",
       "27811    2309\n",
       "27812    2309\n",
       "27813    2309\n",
       "27814    2309\n",
       "27815    2309\n",
       "27816    2309\n",
       "27817    2309\n",
       "27818    2309\n",
       "27819    2309\n",
       "Name: gdp_pc, Length: 27820, dtype: int64"
      ]
     },
     "execution_count": 6,
     "metadata": {},
     "output_type": "execute_result"
    }
   ],
   "source": [
    "suicides.gdp_pc"
   ]
  },
  {
   "cell_type": "code",
   "execution_count": 7,
   "metadata": {},
   "outputs": [],
   "source": [
    "#Let's do a groupby on gdp per capita and see how many total suicides there are\n",
    "gdp_pc_grouped = suicides.groupby('gdp_pc')[['suicides_100k']].sum()"
   ]
  },
  {
   "cell_type": "code",
   "execution_count": 8,
   "metadata": {},
   "outputs": [
    {
     "data": {
      "text/html": [
       "<div>\n",
       "<style scoped>\n",
       "    .dataframe tbody tr th:only-of-type {\n",
       "        vertical-align: middle;\n",
       "    }\n",
       "\n",
       "    .dataframe tbody tr th {\n",
       "        vertical-align: top;\n",
       "    }\n",
       "\n",
       "    .dataframe thead th {\n",
       "        text-align: right;\n",
       "    }\n",
       "</style>\n",
       "<table border=\"1\" class=\"dataframe\">\n",
       "  <thead>\n",
       "    <tr style=\"text-align: right;\">\n",
       "      <th></th>\n",
       "      <th>suicides_100k</th>\n",
       "    </tr>\n",
       "    <tr>\n",
       "      <th>gdp_pc</th>\n",
       "      <th></th>\n",
       "    </tr>\n",
       "  </thead>\n",
       "  <tbody>\n",
       "    <tr>\n",
       "      <th>251</th>\n",
       "      <td>18.00</td>\n",
       "    </tr>\n",
       "    <tr>\n",
       "      <th>291</th>\n",
       "      <td>191.44</td>\n",
       "    </tr>\n",
       "    <tr>\n",
       "      <th>313</th>\n",
       "      <td>182.63</td>\n",
       "    </tr>\n",
       "    <tr>\n",
       "      <th>345</th>\n",
       "      <td>193.30</td>\n",
       "    </tr>\n",
       "    <tr>\n",
       "      <th>357</th>\n",
       "      <td>51.05</td>\n",
       "    </tr>\n",
       "  </tbody>\n",
       "</table>\n",
       "</div>"
      ],
      "text/plain": [
       "        suicides_100k\n",
       "gdp_pc               \n",
       "251             18.00\n",
       "291            191.44\n",
       "313            182.63\n",
       "345            193.30\n",
       "357             51.05"
      ]
     },
     "execution_count": 8,
     "metadata": {},
     "output_type": "execute_result"
    }
   ],
   "source": [
    "gdp_pc_grouped.head()"
   ]
  },
  {
   "cell_type": "code",
   "execution_count": 9,
   "metadata": {},
   "outputs": [],
   "source": [
    "gdp_pc_grouped = gdp_pc_grouped.reset_index()"
   ]
  },
  {
   "cell_type": "code",
   "execution_count": 10,
   "metadata": {},
   "outputs": [
    {
     "data": {
      "text/html": [
       "<div>\n",
       "<style scoped>\n",
       "    .dataframe tbody tr th:only-of-type {\n",
       "        vertical-align: middle;\n",
       "    }\n",
       "\n",
       "    .dataframe tbody tr th {\n",
       "        vertical-align: top;\n",
       "    }\n",
       "\n",
       "    .dataframe thead th {\n",
       "        text-align: right;\n",
       "    }\n",
       "</style>\n",
       "<table border=\"1\" class=\"dataframe\">\n",
       "  <thead>\n",
       "    <tr style=\"text-align: right;\">\n",
       "      <th></th>\n",
       "      <th>gdp_pc</th>\n",
       "      <th>suicides_100k</th>\n",
       "    </tr>\n",
       "  </thead>\n",
       "  <tbody>\n",
       "    <tr>\n",
       "      <th>0</th>\n",
       "      <td>251</td>\n",
       "      <td>18.00</td>\n",
       "    </tr>\n",
       "    <tr>\n",
       "      <th>1</th>\n",
       "      <td>291</td>\n",
       "      <td>191.44</td>\n",
       "    </tr>\n",
       "    <tr>\n",
       "      <th>2</th>\n",
       "      <td>313</td>\n",
       "      <td>182.63</td>\n",
       "    </tr>\n",
       "    <tr>\n",
       "      <th>3</th>\n",
       "      <td>345</td>\n",
       "      <td>193.30</td>\n",
       "    </tr>\n",
       "    <tr>\n",
       "      <th>4</th>\n",
       "      <td>357</td>\n",
       "      <td>51.05</td>\n",
       "    </tr>\n",
       "  </tbody>\n",
       "</table>\n",
       "</div>"
      ],
      "text/plain": [
       "   gdp_pc  suicides_100k\n",
       "0     251          18.00\n",
       "1     291         191.44\n",
       "2     313         182.63\n",
       "3     345         193.30\n",
       "4     357          51.05"
      ]
     },
     "execution_count": 10,
     "metadata": {},
     "output_type": "execute_result"
    }
   ],
   "source": [
    "gdp_pc_grouped.head()"
   ]
  },
  {
   "cell_type": "code",
   "execution_count": 11,
   "metadata": {},
   "outputs": [],
   "source": [
    "gdp_mean = gdp_pc_grouped.mean()[0]"
   ]
  },
  {
   "cell_type": "code",
   "execution_count": 12,
   "metadata": {},
   "outputs": [
    {
     "data": {
      "text/plain": [
       "17283.135691894313"
      ]
     },
     "execution_count": 12,
     "metadata": {},
     "output_type": "execute_result"
    }
   ],
   "source": [
    "gdp_mean"
   ]
  },
  {
   "cell_type": "code",
   "execution_count": 13,
   "metadata": {},
   "outputs": [],
   "source": [
    "#We engineer a new binary column called \"gdp_pc_hilo\" which shows 1 = high gdp, 0 = low gdp\n",
    "gdp_pc_grouped['gdp_pc_hilo'] = gdp_pc_grouped.gdp_pc.apply(lambda x : 0 if x < gdp_mean else 1)"
   ]
  },
  {
   "cell_type": "code",
   "execution_count": 14,
   "metadata": {},
   "outputs": [
    {
     "data": {
      "text/html": [
       "<div>\n",
       "<style scoped>\n",
       "    .dataframe tbody tr th:only-of-type {\n",
       "        vertical-align: middle;\n",
       "    }\n",
       "\n",
       "    .dataframe tbody tr th {\n",
       "        vertical-align: top;\n",
       "    }\n",
       "\n",
       "    .dataframe thead th {\n",
       "        text-align: right;\n",
       "    }\n",
       "</style>\n",
       "<table border=\"1\" class=\"dataframe\">\n",
       "  <thead>\n",
       "    <tr style=\"text-align: right;\">\n",
       "      <th></th>\n",
       "      <th>gdp_pc</th>\n",
       "      <th>suicides_100k</th>\n",
       "      <th>gdp_pc_hilo</th>\n",
       "    </tr>\n",
       "  </thead>\n",
       "  <tbody>\n",
       "    <tr>\n",
       "      <th>1439</th>\n",
       "      <td>17299</td>\n",
       "      <td>139.08</td>\n",
       "      <td>1</td>\n",
       "    </tr>\n",
       "    <tr>\n",
       "      <th>1440</th>\n",
       "      <td>17349</td>\n",
       "      <td>99.19</td>\n",
       "      <td>1</td>\n",
       "    </tr>\n",
       "    <tr>\n",
       "      <th>1441</th>\n",
       "      <td>17387</td>\n",
       "      <td>143.68</td>\n",
       "      <td>1</td>\n",
       "    </tr>\n",
       "    <tr>\n",
       "      <th>1442</th>\n",
       "      <td>17395</td>\n",
       "      <td>0.00</td>\n",
       "      <td>1</td>\n",
       "    </tr>\n",
       "    <tr>\n",
       "      <th>1443</th>\n",
       "      <td>17415</td>\n",
       "      <td>405.88</td>\n",
       "      <td>1</td>\n",
       "    </tr>\n",
       "  </tbody>\n",
       "</table>\n",
       "</div>"
      ],
      "text/plain": [
       "      gdp_pc  suicides_100k  gdp_pc_hilo\n",
       "1439   17299         139.08            1\n",
       "1440   17349          99.19            1\n",
       "1441   17387         143.68            1\n",
       "1442   17395           0.00            1\n",
       "1443   17415         405.88            1"
      ]
     },
     "execution_count": 14,
     "metadata": {},
     "output_type": "execute_result"
    }
   ],
   "source": [
    "#Get the high group (treatment) into a separate dataframe\n",
    "high_group = gdp_pc_grouped[gdp_pc_grouped['gdp_pc_hilo'] == 1]\n",
    "high_group.head()"
   ]
  },
  {
   "cell_type": "code",
   "execution_count": 15,
   "metadata": {},
   "outputs": [
    {
     "data": {
      "text/html": [
       "<div>\n",
       "<style scoped>\n",
       "    .dataframe tbody tr th:only-of-type {\n",
       "        vertical-align: middle;\n",
       "    }\n",
       "\n",
       "    .dataframe tbody tr th {\n",
       "        vertical-align: top;\n",
       "    }\n",
       "\n",
       "    .dataframe thead th {\n",
       "        text-align: right;\n",
       "    }\n",
       "</style>\n",
       "<table border=\"1\" class=\"dataframe\">\n",
       "  <thead>\n",
       "    <tr style=\"text-align: right;\">\n",
       "      <th></th>\n",
       "      <th>gdp_pc</th>\n",
       "      <th>suicides_100k</th>\n",
       "      <th>gdp_pc_hilo</th>\n",
       "    </tr>\n",
       "  </thead>\n",
       "  <tbody>\n",
       "    <tr>\n",
       "      <th>0</th>\n",
       "      <td>251</td>\n",
       "      <td>18.00</td>\n",
       "      <td>0</td>\n",
       "    </tr>\n",
       "    <tr>\n",
       "      <th>1</th>\n",
       "      <td>291</td>\n",
       "      <td>191.44</td>\n",
       "      <td>0</td>\n",
       "    </tr>\n",
       "    <tr>\n",
       "      <th>2</th>\n",
       "      <td>313</td>\n",
       "      <td>182.63</td>\n",
       "      <td>0</td>\n",
       "    </tr>\n",
       "    <tr>\n",
       "      <th>3</th>\n",
       "      <td>345</td>\n",
       "      <td>193.30</td>\n",
       "      <td>0</td>\n",
       "    </tr>\n",
       "    <tr>\n",
       "      <th>4</th>\n",
       "      <td>357</td>\n",
       "      <td>51.05</td>\n",
       "      <td>0</td>\n",
       "    </tr>\n",
       "  </tbody>\n",
       "</table>\n",
       "</div>"
      ],
      "text/plain": [
       "   gdp_pc  suicides_100k  gdp_pc_hilo\n",
       "0     251          18.00            0\n",
       "1     291         191.44            0\n",
       "2     313         182.63            0\n",
       "3     345         193.30            0\n",
       "4     357          51.05            0"
      ]
     },
     "execution_count": 15,
     "metadata": {},
     "output_type": "execute_result"
    }
   ],
   "source": [
    "#Get the low group (treatment) into a separate dataframe\n",
    "low_group = gdp_pc_grouped[gdp_pc_grouped['gdp_pc_hilo'] == 0]\n",
    "low_group.head()"
   ]
  },
  {
   "cell_type": "code",
   "execution_count": 16,
   "metadata": {},
   "outputs": [
    {
     "data": {
      "text/plain": [
       "1439"
      ]
     },
     "execution_count": 16,
     "metadata": {},
     "output_type": "execute_result"
    }
   ],
   "source": [
    "low_group.gdp_pc_hilo.count()"
   ]
  },
  {
   "cell_type": "code",
   "execution_count": 17,
   "metadata": {},
   "outputs": [
    {
     "data": {
      "text/plain": [
       "794"
      ]
     },
     "execution_count": 17,
     "metadata": {},
     "output_type": "execute_result"
    }
   ],
   "source": [
    "high_group.gdp_pc_hilo.count()"
   ]
  },
  {
   "cell_type": "markdown",
   "metadata": {},
   "source": [
    "Before we move along, we need to pay attention to two main statistical criteria. We would like to use the normal model (bell curve) to estimate the population proportions in the high and low groups. \n",
    "\n",
    "1. Independence Criterion - We need our sample size to be lower than 10% of the total population to ensure that the observations are sufficiently independent. On top of this, we also need our sample size to be big enough. If the population is not heavily skewed, then we can get away with a sample size of 30 or more in each group. However, if we see the suicide_100k variable, it is heavily skewed. In this case, we need to fulfill a sample size of greater than 100.\n",
    "\n",
    "2. Success-Failure Criterion- We need to ensure that the total number of successes and total number of failures in each group (sample size * proportion) is greater than 10. \n",
    "\n",
    "\n",
    "\n",
    "Once the above criteria are satisfied, we can use the normal model to estimate our population proportions."
   ]
  },
  {
   "cell_type": "code",
   "execution_count": 18,
   "metadata": {},
   "outputs": [],
   "source": [
    "#First, let's start with N = 200 random samples from both groups. This ensures we are far away from the \n",
    "#100 minimum and so we can ensure independence to some extent.\n",
    "sample_size = 1000\n",
    "population = suicides.shape[0]\n",
    "\n",
    "high = np.random.choice(high_group.gdp_pc.values,sample_size)\n",
    "low = np.random.choice(low_group.gdp_pc.values,sample_size)"
   ]
  },
  {
   "cell_type": "markdown",
   "metadata": {},
   "source": [
    "We have taken a sample size of 1000 for both groups. The total population size is 27820 and 10% of this is 2782. So we are well within our 10% limit and our sample size is greater than 100. So we satisfy the Independence criterion."
   ]
  },
  {
   "cell_type": "code",
   "execution_count": 19,
   "metadata": {},
   "outputs": [
    {
     "data": {
      "text/html": [
       "<div>\n",
       "<style scoped>\n",
       "    .dataframe tbody tr th:only-of-type {\n",
       "        vertical-align: middle;\n",
       "    }\n",
       "\n",
       "    .dataframe tbody tr th {\n",
       "        vertical-align: top;\n",
       "    }\n",
       "\n",
       "    .dataframe thead th {\n",
       "        text-align: right;\n",
       "    }\n",
       "</style>\n",
       "<table border=\"1\" class=\"dataframe\">\n",
       "  <thead>\n",
       "    <tr style=\"text-align: right;\">\n",
       "      <th></th>\n",
       "      <th>suicides_100k</th>\n",
       "      <th>gdp_pc_hilo</th>\n",
       "    </tr>\n",
       "    <tr>\n",
       "      <th>gdp_pc</th>\n",
       "      <th></th>\n",
       "      <th></th>\n",
       "    </tr>\n",
       "  </thead>\n",
       "  <tbody>\n",
       "    <tr>\n",
       "      <th>17299</th>\n",
       "      <td>139.08</td>\n",
       "      <td>1</td>\n",
       "    </tr>\n",
       "    <tr>\n",
       "      <th>17349</th>\n",
       "      <td>99.19</td>\n",
       "      <td>1</td>\n",
       "    </tr>\n",
       "    <tr>\n",
       "      <th>17387</th>\n",
       "      <td>143.68</td>\n",
       "      <td>1</td>\n",
       "    </tr>\n",
       "    <tr>\n",
       "      <th>17395</th>\n",
       "      <td>0.00</td>\n",
       "      <td>1</td>\n",
       "    </tr>\n",
       "    <tr>\n",
       "      <th>17415</th>\n",
       "      <td>405.88</td>\n",
       "      <td>1</td>\n",
       "    </tr>\n",
       "  </tbody>\n",
       "</table>\n",
       "</div>"
      ],
      "text/plain": [
       "        suicides_100k  gdp_pc_hilo\n",
       "gdp_pc                            \n",
       "17299          139.08            1\n",
       "17349           99.19            1\n",
       "17387          143.68            1\n",
       "17395            0.00            1\n",
       "17415          405.88            1"
      ]
     },
     "execution_count": 19,
     "metadata": {},
     "output_type": "execute_result"
    }
   ],
   "source": [
    "high_group.set_index('gdp_pc',inplace=True)\n",
    "high_group.head()"
   ]
  },
  {
   "cell_type": "code",
   "execution_count": 20,
   "metadata": {},
   "outputs": [
    {
     "data": {
      "text/html": [
       "<div>\n",
       "<style scoped>\n",
       "    .dataframe tbody tr th:only-of-type {\n",
       "        vertical-align: middle;\n",
       "    }\n",
       "\n",
       "    .dataframe tbody tr th {\n",
       "        vertical-align: top;\n",
       "    }\n",
       "\n",
       "    .dataframe thead th {\n",
       "        text-align: right;\n",
       "    }\n",
       "</style>\n",
       "<table border=\"1\" class=\"dataframe\">\n",
       "  <thead>\n",
       "    <tr style=\"text-align: right;\">\n",
       "      <th></th>\n",
       "      <th>suicides_100k</th>\n",
       "      <th>gdp_pc_hilo</th>\n",
       "    </tr>\n",
       "    <tr>\n",
       "      <th>gdp_pc</th>\n",
       "      <th></th>\n",
       "      <th></th>\n",
       "    </tr>\n",
       "  </thead>\n",
       "  <tbody>\n",
       "    <tr>\n",
       "      <th>251</th>\n",
       "      <td>18.00</td>\n",
       "      <td>0</td>\n",
       "    </tr>\n",
       "    <tr>\n",
       "      <th>291</th>\n",
       "      <td>191.44</td>\n",
       "      <td>0</td>\n",
       "    </tr>\n",
       "    <tr>\n",
       "      <th>313</th>\n",
       "      <td>182.63</td>\n",
       "      <td>0</td>\n",
       "    </tr>\n",
       "    <tr>\n",
       "      <th>345</th>\n",
       "      <td>193.30</td>\n",
       "      <td>0</td>\n",
       "    </tr>\n",
       "    <tr>\n",
       "      <th>357</th>\n",
       "      <td>51.05</td>\n",
       "      <td>0</td>\n",
       "    </tr>\n",
       "  </tbody>\n",
       "</table>\n",
       "</div>"
      ],
      "text/plain": [
       "        suicides_100k  gdp_pc_hilo\n",
       "gdp_pc                            \n",
       "251             18.00            0\n",
       "291            191.44            0\n",
       "313            182.63            0\n",
       "345            193.30            0\n",
       "357             51.05            0"
      ]
     },
     "execution_count": 20,
     "metadata": {},
     "output_type": "execute_result"
    }
   ],
   "source": [
    "low_group.set_index('gdp_pc',inplace=True)\n",
    "low_group.head()"
   ]
  },
  {
   "cell_type": "code",
   "execution_count": 21,
   "metadata": {},
   "outputs": [
    {
     "data": {
      "text/plain": [
       "1000"
      ]
     },
     "execution_count": 21,
     "metadata": {},
     "output_type": "execute_result"
    }
   ],
   "source": [
    "suicides_high_sample = high_group['suicides_100k'].loc[high]\n",
    "suicides_high_sample.size"
   ]
  },
  {
   "cell_type": "code",
   "execution_count": 22,
   "metadata": {},
   "outputs": [
    {
     "data": {
      "text/plain": [
       "1000"
      ]
     },
     "execution_count": 22,
     "metadata": {},
     "output_type": "execute_result"
    }
   ],
   "source": [
    "suicides_low_sample = low_group['suicides_100k'].loc[low]\n",
    "suicides_low_sample.size"
   ]
  },
  {
   "cell_type": "code",
   "execution_count": 23,
   "metadata": {},
   "outputs": [
    {
     "data": {
      "image/png": "[encoded data removed]",
      "text/plain": [
       "<Figure size 720x432 with 1 Axes>"
      ]
     },
     "metadata": {
      "needs_background": "light"
     },
     "output_type": "display_data"
    }
   ],
   "source": [
    "fig, ax = plt.subplots(1, 1, figsize=(10,6))\n",
    "ax.hist(suicides_low_sample.values, bins=30, histtype='bar', color='red', alpha=0.6, label='Low GDP_PC')\n",
    "ax.hist(suicides_high_sample.values, bins=30, histtype='bar', color='green', alpha=0.8, label='High GDP_PC')\n",
    "ax.legend()\n",
    "plt.show();"
   ]
  },
  {
   "cell_type": "code",
   "execution_count": 24,
   "metadata": {},
   "outputs": [
    {
     "data": {
      "image/png": "[encoded data removed]",
      "text/plain": [
       "<Figure size 720x432 with 1 Axes>"
      ]
     },
     "metadata": {
      "needs_background": "light"
     },
     "output_type": "display_data"
    }
   ],
   "source": [
    "fig, ax = plt.subplots(1, 1, figsize=(10,6))\n",
    "ax.hist((suicides_high_sample.values - suicides_low_sample.values)/175, bins=30, histtype='bar', color='red', \n",
    "        alpha=0.6, label='Suicide differences')\n",
    "ax.legend()\n",
    "plt.show();"
   ]
  },
  {
   "cell_type": "code",
   "execution_count": 25,
   "metadata": {},
   "outputs": [
    {
     "data": {
      "image/png": "[encoded data removed]",
      "text/plain": [
       "<Figure size 432x288 with 1 Axes>"
      ]
     },
     "metadata": {
      "needs_background": "light"
     },
     "output_type": "display_data"
    }
   ],
   "source": [
    "qqplot((suicides_high_sample.values - suicides_low_sample.values)/175,line='45');"
   ]
  },
  {
   "cell_type": "code",
   "execution_count": 26,
   "metadata": {},
   "outputs": [],
   "source": [
    "#Let's find the z-statistic and p-value for the one-sided hypothesis test\n",
    "stat = ztest(suicides_low_sample.values, suicides_high_sample.values, 0, 'larger')"
   ]
  },
  {
   "cell_type": "code",
   "execution_count": 27,
   "metadata": {},
   "outputs": [
    {
     "name": "stdout",
     "output_type": "stream",
     "text": [
      "Z-statistic = -1.29\n",
      "P-value =  0.9017849805588711\n"
     ]
    }
   ],
   "source": [
    "print(\"Z-statistic = %.2f\" % stat[0])\n",
    "print(\"P-value = \", stat[1])"
   ]
  },
  {
   "cell_type": "markdown",
   "metadata": {},
   "source": [
    "We see that our p-value is generally greater than significance level alpha = 0.05. So, we fail to reject the null hypothesis. This means that we do not reject the notion that there is no difference between the low gdp group and high gdp group. There is no significant evidence to suggest that the average suicide rate in the low gdp group is greater than the average suicide rate in the low gdp group."
   ]
  },
  {
   "cell_type": "markdown",
   "metadata": {},
   "source": [
    "## Hypothesis 2: Sex versus Suicide "
   ]
  },
  {
   "cell_type": "code",
   "execution_count": 28,
   "metadata": {},
   "outputs": [],
   "source": [
    "sexes = suicides[['sex','suicides_100k']]"
   ]
  },
  {
   "cell_type": "code",
   "execution_count": 29,
   "metadata": {},
   "outputs": [
    {
     "name": "stdout",
     "output_type": "stream",
     "text": [
      "55640\n"
     ]
    },
    {
     "data": {
      "text/html": [
       "<div>\n",
       "<style scoped>\n",
       "    .dataframe tbody tr th:only-of-type {\n",
       "        vertical-align: middle;\n",
       "    }\n",
       "\n",
       "    .dataframe tbody tr th {\n",
       "        vertical-align: top;\n",
       "    }\n",
       "\n",
       "    .dataframe thead th {\n",
       "        text-align: right;\n",
       "    }\n",
       "</style>\n",
       "<table border=\"1\" class=\"dataframe\">\n",
       "  <thead>\n",
       "    <tr style=\"text-align: right;\">\n",
       "      <th></th>\n",
       "      <th>sex</th>\n",
       "      <th>suicides_100k</th>\n",
       "    </tr>\n",
       "  </thead>\n",
       "  <tbody>\n",
       "    <tr>\n",
       "      <th>0</th>\n",
       "      <td>male</td>\n",
       "      <td>6.71</td>\n",
       "    </tr>\n",
       "    <tr>\n",
       "      <th>1</th>\n",
       "      <td>male</td>\n",
       "      <td>5.19</td>\n",
       "    </tr>\n",
       "    <tr>\n",
       "      <th>2</th>\n",
       "      <td>female</td>\n",
       "      <td>4.83</td>\n",
       "    </tr>\n",
       "    <tr>\n",
       "      <th>3</th>\n",
       "      <td>male</td>\n",
       "      <td>4.59</td>\n",
       "    </tr>\n",
       "    <tr>\n",
       "      <th>4</th>\n",
       "      <td>male</td>\n",
       "      <td>3.28</td>\n",
       "    </tr>\n",
       "  </tbody>\n",
       "</table>\n",
       "</div>"
      ],
      "text/plain": [
       "      sex  suicides_100k\n",
       "0    male           6.71\n",
       "1    male           5.19\n",
       "2  female           4.83\n",
       "3    male           4.59\n",
       "4    male           3.28"
      ]
     },
     "execution_count": 29,
     "metadata": {},
     "output_type": "execute_result"
    }
   ],
   "source": [
    "print(sexes.size)\n",
    "sexes.head()"
   ]
  },
  {
   "cell_type": "code",
   "execution_count": 30,
   "metadata": {},
   "outputs": [],
   "source": [
    "males = sexes[sexes.sex == 'male']\n",
    "females = sexes[sexes.sex == 'female']"
   ]
  },
  {
   "cell_type": "code",
   "execution_count": 31,
   "metadata": {},
   "outputs": [
    {
     "name": "stdout",
     "output_type": "stream",
     "text": [
      "27820\n"
     ]
    },
    {
     "data": {
      "text/html": [
       "<div>\n",
       "<style scoped>\n",
       "    .dataframe tbody tr th:only-of-type {\n",
       "        vertical-align: middle;\n",
       "    }\n",
       "\n",
       "    .dataframe tbody tr th {\n",
       "        vertical-align: top;\n",
       "    }\n",
       "\n",
       "    .dataframe thead th {\n",
       "        text-align: right;\n",
       "    }\n",
       "</style>\n",
       "<table border=\"1\" class=\"dataframe\">\n",
       "  <thead>\n",
       "    <tr style=\"text-align: right;\">\n",
       "      <th></th>\n",
       "      <th>sex</th>\n",
       "      <th>suicides_100k</th>\n",
       "    </tr>\n",
       "  </thead>\n",
       "  <tbody>\n",
       "    <tr>\n",
       "      <th>0</th>\n",
       "      <td>male</td>\n",
       "      <td>6.71</td>\n",
       "    </tr>\n",
       "    <tr>\n",
       "      <th>1</th>\n",
       "      <td>male</td>\n",
       "      <td>5.19</td>\n",
       "    </tr>\n",
       "    <tr>\n",
       "      <th>3</th>\n",
       "      <td>male</td>\n",
       "      <td>4.59</td>\n",
       "    </tr>\n",
       "    <tr>\n",
       "      <th>4</th>\n",
       "      <td>male</td>\n",
       "      <td>3.28</td>\n",
       "    </tr>\n",
       "    <tr>\n",
       "      <th>8</th>\n",
       "      <td>male</td>\n",
       "      <td>0.73</td>\n",
       "    </tr>\n",
       "  </tbody>\n",
       "</table>\n",
       "</div>"
      ],
      "text/plain": [
       "    sex  suicides_100k\n",
       "0  male           6.71\n",
       "1  male           5.19\n",
       "3  male           4.59\n",
       "4  male           3.28\n",
       "8  male           0.73"
      ]
     },
     "execution_count": 31,
     "metadata": {},
     "output_type": "execute_result"
    }
   ],
   "source": [
    "print(males.size)\n",
    "males.head()"
   ]
  },
  {
   "cell_type": "code",
   "execution_count": 32,
   "metadata": {},
   "outputs": [
    {
     "name": "stdout",
     "output_type": "stream",
     "text": [
      "27820\n"
     ]
    },
    {
     "data": {
      "text/html": [
       "<div>\n",
       "<style scoped>\n",
       "    .dataframe tbody tr th:only-of-type {\n",
       "        vertical-align: middle;\n",
       "    }\n",
       "\n",
       "    .dataframe tbody tr th {\n",
       "        vertical-align: top;\n",
       "    }\n",
       "\n",
       "    .dataframe thead th {\n",
       "        text-align: right;\n",
       "    }\n",
       "</style>\n",
       "<table border=\"1\" class=\"dataframe\">\n",
       "  <thead>\n",
       "    <tr style=\"text-align: right;\">\n",
       "      <th></th>\n",
       "      <th>sex</th>\n",
       "      <th>suicides_100k</th>\n",
       "    </tr>\n",
       "  </thead>\n",
       "  <tbody>\n",
       "    <tr>\n",
       "      <th>2</th>\n",
       "      <td>female</td>\n",
       "      <td>4.83</td>\n",
       "    </tr>\n",
       "    <tr>\n",
       "      <th>5</th>\n",
       "      <td>female</td>\n",
       "      <td>2.81</td>\n",
       "    </tr>\n",
       "    <tr>\n",
       "      <th>6</th>\n",
       "      <td>female</td>\n",
       "      <td>2.15</td>\n",
       "    </tr>\n",
       "    <tr>\n",
       "      <th>7</th>\n",
       "      <td>female</td>\n",
       "      <td>1.56</td>\n",
       "    </tr>\n",
       "    <tr>\n",
       "      <th>9</th>\n",
       "      <td>female</td>\n",
       "      <td>0.00</td>\n",
       "    </tr>\n",
       "  </tbody>\n",
       "</table>\n",
       "</div>"
      ],
      "text/plain": [
       "      sex  suicides_100k\n",
       "2  female           4.83\n",
       "5  female           2.81\n",
       "6  female           2.15\n",
       "7  female           1.56\n",
       "9  female           0.00"
      ]
     },
     "execution_count": 32,
     "metadata": {},
     "output_type": "execute_result"
    }
   ],
   "source": [
    "print(females.size)\n",
    "females.head()"
   ]
  },
  {
   "cell_type": "code",
   "execution_count": 33,
   "metadata": {},
   "outputs": [],
   "source": [
    "#Sample size = 200 which is less than 10% of the population sizes (27,820)\n",
    "#This means samples will be independent. This will also account for skew in the population distribution.\n",
    "sample_size = 200\n",
    "male_samp = males.sample(sample_size)\n",
    "female_samp = females.sample(sample_size)"
   ]
  },
  {
   "cell_type": "code",
   "execution_count": 34,
   "metadata": {},
   "outputs": [
    {
     "data": {
      "image/png": "[encoded data removed]",
      "text/plain": [
       "<Figure size 720x432 with 2 Axes>"
      ]
     },
     "metadata": {
      "needs_background": "light"
     },
     "output_type": "display_data"
    }
   ],
   "source": [
    "fig, (ax1, ax2) = plt.subplots(2, 1, figsize=(10,6))\n",
    "ax1.hist(male_samp['suicides_100k'], bins=40, histtype='bar',color='green',alpha=0.6, label='male suicides')\n",
    "ax2.hist(female_samp['suicides_100k'], bins=40, histtype='bar',color='blue',alpha=0.8, label='female suicides')\n",
    "ax1.set(xlabel='Suicides in Samples', ylabel='Frequency', \n",
    "       title='Number of Suicides between Males and Females', xlim=[0,120], ylim=[0,60])\n",
    "ax2.set(xlabel='Suicides in Samples', ylabel='Frequency', xlim=[0,120], ylim=[0,60])\n",
    "plt.legend()\n",
    "plt.show();"
   ]
  },
  {
   "cell_type": "code",
   "execution_count": 35,
   "metadata": {},
   "outputs": [
    {
     "data": {
      "text/plain": [
       "array([ 3.0000e-02,  2.6150e+01,  1.0050e+01,  1.9600e+01,  3.0580e+01,\n",
       "        6.4200e+00,  1.2560e+01,  6.6300e+00,  2.7260e+01,  1.8850e+01,\n",
       "        3.1340e+01,  5.0300e+00,  1.1020e+01,  6.3700e+00, -9.7500e+00,\n",
       "       -1.3500e+00,  1.1000e+00,  3.2390e+01, -8.8600e+00,  1.7970e+01,\n",
       "        4.4850e+01, -4.8400e+00,  1.2790e+01,  1.3250e+01,  3.3870e+01,\n",
       "        3.4610e+01,  4.0430e+01,  1.3630e+01,  1.6800e+01, -3.2700e+00,\n",
       "       -4.6800e+00,  9.6600e+00,  1.1620e+01,  5.8540e+01,  2.0260e+01,\n",
       "       -7.9000e+00,  1.6380e+01, -2.9740e+01,  8.3800e+00,  2.1110e+01,\n",
       "       -1.9900e+00,  1.8380e+01,  3.7000e-01, -5.3300e+01,  4.6000e+00,\n",
       "        1.3900e+01,  1.8240e+01,  1.6560e+01,  8.4500e+00,  3.1900e+01,\n",
       "       -2.8100e+00, -1.3570e+01, -9.8300e+00,  0.0000e+00,  1.1256e+02,\n",
       "       -2.5600e+00, -4.0400e+00,  4.0300e+00, -4.4400e+00, -3.0200e+00,\n",
       "        4.6510e+01, -4.5800e+00,  4.3150e+01,  1.1830e+01,  1.5720e+01,\n",
       "        5.0000e-02,  3.1020e+01, -3.4000e-01, -1.8240e+01,  2.0180e+01,\n",
       "        1.0020e+01, -6.8500e+00,  4.4900e+00,  1.3390e+01,  1.1770e+01,\n",
       "       -3.9500e+00,  8.3700e+00, -3.4500e+00, -1.2310e+01,  3.9000e-01,\n",
       "       -1.3810e+01,  4.8000e+00, -2.3800e+00,  2.8640e+01, -4.0800e+00,\n",
       "        2.7500e+00,  6.2050e+01,  5.6700e+00,  1.4000e+00,  4.3600e+01,\n",
       "        3.1330e+01,  3.7000e-01,  7.9700e+00,  9.8000e-01,  9.3580e+01,\n",
       "        2.5270e+01,  4.1600e+00,  1.9700e+01,  3.5400e+00, -4.4500e+00,\n",
       "        9.1250e+01, -1.1420e+01,  1.0190e+01,  4.6340e+01,  4.6060e+01,\n",
       "        1.7730e+01,  7.6020e+01, -1.0000e-02,  3.2060e+01,  1.0673e+02,\n",
       "        2.3530e+01,  3.9900e+00,  5.1090e+01,  8.1200e+00,  1.6360e+01,\n",
       "       -3.8100e+00,  2.5350e+01, -1.9400e+00, -2.9700e+00, -1.4510e+01,\n",
       "       -8.0800e+00,  7.5600e+01,  1.9000e-01,  2.1800e+01,  4.9970e+01,\n",
       "        2.5690e+01,  4.1290e+01,  7.2900e+00, -3.0300e+00,  2.1320e+01,\n",
       "       -1.4880e+01, -1.0700e+01,  5.4630e+01,  1.9200e+00,  2.2900e+00,\n",
       "        1.9550e+01,  2.5320e+01, -6.0600e+00, -8.4000e+00,  6.2170e+01,\n",
       "        2.0220e+01,  2.1280e+01, -2.6300e+00,  4.3500e+00,  4.8100e+00,\n",
       "        1.2250e+01, -6.3700e+00,  4.6100e+00,  1.5430e+01,  2.4330e+01,\n",
       "       -6.8500e+00,  6.5840e+01,  1.9280e+01, -1.8000e-01,  2.5290e+01,\n",
       "        1.1460e+01, -6.0000e+00,  1.3900e+01,  1.6710e+01, -1.0500e+00,\n",
       "        1.2870e+01, -1.1530e+01,  5.3260e+01, -2.5000e-01, -2.1800e+00,\n",
       "       -5.2400e+00,  1.7370e+01,  1.2220e+01, -5.8100e+00, -1.2690e+01,\n",
       "        3.1610e+01,  1.5680e+01, -7.1000e-01,  7.0380e+01,  2.2900e+01,\n",
       "        9.7000e+01,  1.7390e+01,  4.5200e+00,  1.2800e+00,  2.4780e+01,\n",
       "        3.7320e+01, -1.4400e+00, -1.9410e+01,  4.6200e+00,  1.5240e+01,\n",
       "       -5.1000e-01, -5.1300e+00, -9.6000e-01,  0.0000e+00,  5.9120e+01,\n",
       "        0.0000e+00,  3.7670e+01, -1.2200e+00,  3.6710e+01, -8.1800e+00,\n",
       "        4.2980e+01, -1.9500e+00,  1.3610e+01, -1.6000e-01, -3.6100e+00])"
      ]
     },
     "execution_count": 35,
     "metadata": {},
     "output_type": "execute_result"
    }
   ],
   "source": [
    "sdiff = male_samp['suicides_100k'].values - female_samp['suicides_100k'].values\n",
    "sdiff"
   ]
  },
  {
   "cell_type": "code",
   "execution_count": 36,
   "metadata": {},
   "outputs": [
    {
     "data": {
      "image/png": "[encoded data removed]",
      "text/plain": [
       "<Figure size 720x432 with 1 Axes>"
      ]
     },
     "metadata": {
      "needs_background": "light"
     },
     "output_type": "display_data"
    }
   ],
   "source": [
    "plt.figure(figsize=(10,6))\n",
    "plt.hist(sdiff, bins=40, histtype='bar', color='m', label='difference', alpha=0.8)\n",
    "plt.legend()\n",
    "plt.show();"
   ]
  },
  {
   "cell_type": "code",
   "execution_count": 37,
   "metadata": {},
   "outputs": [],
   "source": [
    "zstat, pvalue = ztest(x1=sdiff, value=0, alternative='larger')"
   ]
  },
  {
   "cell_type": "code",
   "execution_count": 38,
   "metadata": {},
   "outputs": [
    {
     "name": "stdout",
     "output_type": "stream",
     "text": [
      "Z-statistic = 8.24\n",
      "p-value =  8.3305497652395e-17\n"
     ]
    }
   ],
   "source": [
    "print('Z-statistic = %.2f' % zstat)\n",
    "print('p-value = ', pvalue)"
   ]
  },
  {
   "cell_type": "markdown",
   "metadata": {},
   "source": [
    "Since our p-value is significantly lower than our significance level of 0.05, we can reject the null hypothesis which says there's no difference in men and women average suicide rates. There is considerable evidence that men commit suicide more than women on average."
   ]
  },
  {
   "cell_type": "markdown",
   "metadata": {},
   "source": [
    "# Hypothesis 3: Generations vs Suicide"
   ]
  },
  {
   "cell_type": "code",
   "execution_count": 39,
   "metadata": {},
   "outputs": [
    {
     "data": {
      "text/html": [
       "<div>\n",
       "<style scoped>\n",
       "    .dataframe tbody tr th:only-of-type {\n",
       "        vertical-align: middle;\n",
       "    }\n",
       "\n",
       "    .dataframe tbody tr th {\n",
       "        vertical-align: top;\n",
       "    }\n",
       "\n",
       "    .dataframe thead th {\n",
       "        text-align: right;\n",
       "    }\n",
       "</style>\n",
       "<table border=\"1\" class=\"dataframe\">\n",
       "  <thead>\n",
       "    <tr style=\"text-align: right;\">\n",
       "      <th></th>\n",
       "      <th>suicides_100k</th>\n",
       "      <th>gen</th>\n",
       "    </tr>\n",
       "  </thead>\n",
       "  <tbody>\n",
       "    <tr>\n",
       "      <th>0</th>\n",
       "      <td>6.71</td>\n",
       "      <td>Generation X</td>\n",
       "    </tr>\n",
       "    <tr>\n",
       "      <th>1</th>\n",
       "      <td>5.19</td>\n",
       "      <td>Silent</td>\n",
       "    </tr>\n",
       "    <tr>\n",
       "      <th>2</th>\n",
       "      <td>4.83</td>\n",
       "      <td>Generation X</td>\n",
       "    </tr>\n",
       "    <tr>\n",
       "      <th>3</th>\n",
       "      <td>4.59</td>\n",
       "      <td>G.I. Generation</td>\n",
       "    </tr>\n",
       "    <tr>\n",
       "      <th>4</th>\n",
       "      <td>3.28</td>\n",
       "      <td>Boomers</td>\n",
       "    </tr>\n",
       "  </tbody>\n",
       "</table>\n",
       "</div>"
      ],
      "text/plain": [
       "   suicides_100k              gen\n",
       "0           6.71     Generation X\n",
       "1           5.19           Silent\n",
       "2           4.83     Generation X\n",
       "3           4.59  G.I. Generation\n",
       "4           3.28          Boomers"
      ]
     },
     "execution_count": 39,
     "metadata": {},
     "output_type": "execute_result"
    }
   ],
   "source": [
    "generations = suicides[['suicides_100k','gen']]\n",
    "generations.head()"
   ]
  },
  {
   "cell_type": "code",
   "execution_count": 40,
   "metadata": {},
   "outputs": [
    {
     "name": "stdout",
     "output_type": "stream",
     "text": [
      "<class 'pandas.core.frame.DataFrame'>\n",
      "RangeIndex: 27820 entries, 0 to 27819\n",
      "Data columns (total 2 columns):\n",
      "suicides_100k    27820 non-null float64\n",
      "gen              27820 non-null object\n",
      "dtypes: float64(1), object(1)\n",
      "memory usage: 434.8+ KB\n"
     ]
    }
   ],
   "source": [
    "generations.info()"
   ]
  },
  {
   "cell_type": "code",
   "execution_count": 41,
   "metadata": {},
   "outputs": [
    {
     "data": {
      "text/html": [
       "<div>\n",
       "<style scoped>\n",
       "    .dataframe tbody tr th:only-of-type {\n",
       "        vertical-align: middle;\n",
       "    }\n",
       "\n",
       "    .dataframe tbody tr th {\n",
       "        vertical-align: top;\n",
       "    }\n",
       "\n",
       "    .dataframe thead th {\n",
       "        text-align: right;\n",
       "    }\n",
       "</style>\n",
       "<table border=\"1\" class=\"dataframe\">\n",
       "  <thead>\n",
       "    <tr style=\"text-align: right;\">\n",
       "      <th></th>\n",
       "      <th>suicides_100k</th>\n",
       "      <th>gen</th>\n",
       "    </tr>\n",
       "  </thead>\n",
       "  <tbody>\n",
       "    <tr>\n",
       "      <th>1</th>\n",
       "      <td>5.19</td>\n",
       "      <td>Silent</td>\n",
       "    </tr>\n",
       "    <tr>\n",
       "      <th>3</th>\n",
       "      <td>4.59</td>\n",
       "      <td>G.I. Generation</td>\n",
       "    </tr>\n",
       "    <tr>\n",
       "      <th>4</th>\n",
       "      <td>3.28</td>\n",
       "      <td>Boomers</td>\n",
       "    </tr>\n",
       "    <tr>\n",
       "      <th>5</th>\n",
       "      <td>2.81</td>\n",
       "      <td>G.I. Generation</td>\n",
       "    </tr>\n",
       "    <tr>\n",
       "      <th>6</th>\n",
       "      <td>2.15</td>\n",
       "      <td>Silent</td>\n",
       "    </tr>\n",
       "  </tbody>\n",
       "</table>\n",
       "</div>"
      ],
      "text/plain": [
       "   suicides_100k              gen\n",
       "1           5.19           Silent\n",
       "3           4.59  G.I. Generation\n",
       "4           3.28          Boomers\n",
       "5           2.81  G.I. Generation\n",
       "6           2.15           Silent"
      ]
     },
     "execution_count": 41,
     "metadata": {},
     "output_type": "execute_result"
    }
   ],
   "source": [
    "old = generations[(generations['gen'] == 'Silent') | (generations['gen'] == 'Boomers') \\\n",
    "                     | (generations['gen'] == 'G.I. Generation')]\n",
    "old.head()"
   ]
  },
  {
   "cell_type": "code",
   "execution_count": 42,
   "metadata": {},
   "outputs": [
    {
     "name": "stdout",
     "output_type": "stream",
     "text": [
      "<class 'pandas.core.frame.DataFrame'>\n",
      "Int64Index: 14098 entries, 1 to 27819\n",
      "Data columns (total 2 columns):\n",
      "suicides_100k    14098 non-null float64\n",
      "gen              14098 non-null object\n",
      "dtypes: float64(1), object(1)\n",
      "memory usage: 330.4+ KB\n"
     ]
    }
   ],
   "source": [
    "old.info()"
   ]
  },
  {
   "cell_type": "code",
   "execution_count": 43,
   "metadata": {},
   "outputs": [
    {
     "data": {
      "text/html": [
       "<div>\n",
       "<style scoped>\n",
       "    .dataframe tbody tr th:only-of-type {\n",
       "        vertical-align: middle;\n",
       "    }\n",
       "\n",
       "    .dataframe tbody tr th {\n",
       "        vertical-align: top;\n",
       "    }\n",
       "\n",
       "    .dataframe thead th {\n",
       "        text-align: right;\n",
       "    }\n",
       "</style>\n",
       "<table border=\"1\" class=\"dataframe\">\n",
       "  <thead>\n",
       "    <tr style=\"text-align: right;\">\n",
       "      <th></th>\n",
       "      <th>suicides_100k</th>\n",
       "      <th>gen</th>\n",
       "    </tr>\n",
       "  </thead>\n",
       "  <tbody>\n",
       "    <tr>\n",
       "      <th>0</th>\n",
       "      <td>6.71</td>\n",
       "      <td>Generation X</td>\n",
       "    </tr>\n",
       "    <tr>\n",
       "      <th>2</th>\n",
       "      <td>4.83</td>\n",
       "      <td>Generation X</td>\n",
       "    </tr>\n",
       "    <tr>\n",
       "      <th>9</th>\n",
       "      <td>0.00</td>\n",
       "      <td>Generation X</td>\n",
       "    </tr>\n",
       "    <tr>\n",
       "      <th>11</th>\n",
       "      <td>0.00</td>\n",
       "      <td>Generation X</td>\n",
       "    </tr>\n",
       "    <tr>\n",
       "      <th>13</th>\n",
       "      <td>5.33</td>\n",
       "      <td>Generation X</td>\n",
       "    </tr>\n",
       "  </tbody>\n",
       "</table>\n",
       "</div>"
      ],
      "text/plain": [
       "    suicides_100k           gen\n",
       "0            6.71  Generation X\n",
       "2            4.83  Generation X\n",
       "9            0.00  Generation X\n",
       "11           0.00  Generation X\n",
       "13           5.33  Generation X"
      ]
     },
     "execution_count": 43,
     "metadata": {},
     "output_type": "execute_result"
    }
   ],
   "source": [
    "new = generations[(generations['gen'] == 'Generation Z') | (generations['gen'] == 'Generation X') \\\n",
    "                     | (generations['gen'] == 'Millenials')]\n",
    "new.head()"
   ]
  },
  {
   "cell_type": "code",
   "execution_count": 44,
   "metadata": {},
   "outputs": [
    {
     "name": "stdout",
     "output_type": "stream",
     "text": [
      "<class 'pandas.core.frame.DataFrame'>\n",
      "Int64Index: 13722 entries, 0 to 27818\n",
      "Data columns (total 2 columns):\n",
      "suicides_100k    13722 non-null float64\n",
      "gen              13722 non-null object\n",
      "dtypes: float64(1), object(1)\n",
      "memory usage: 321.6+ KB\n"
     ]
    }
   ],
   "source": [
    "new.info()"
   ]
  },
  {
   "cell_type": "code",
   "execution_count": 45,
   "metadata": {},
   "outputs": [],
   "source": [
    "#Condition 1: Sample size should be less than 10% of the population size to ensure independence. \n",
    "#(new: n < 1372.2, old: n < 1409.8)\n",
    "#Condition 2: Sample size should be greater than 100 to account for skew in population/sample. (n > 100)\n",
    "#Conclusion: Therefore 100 < n < 1372.2 or 1409.8. We will go with n = 200 since this is practical \n",
    "#and sufficiently far from our lower cutoff of 100.\n",
    "old_samp_size = 200\n",
    "new_samp_size = 200\n",
    "old_samp = generations.sample(old_samp_size)\n",
    "new_samp = generations.sample(new_samp_size)"
   ]
  },
  {
   "cell_type": "code",
   "execution_count": 46,
   "metadata": {},
   "outputs": [
    {
     "data": {
      "text/html": [
       "<div>\n",
       "<style scoped>\n",
       "    .dataframe tbody tr th:only-of-type {\n",
       "        vertical-align: middle;\n",
       "    }\n",
       "\n",
       "    .dataframe tbody tr th {\n",
       "        vertical-align: top;\n",
       "    }\n",
       "\n",
       "    .dataframe thead th {\n",
       "        text-align: right;\n",
       "    }\n",
       "</style>\n",
       "<table border=\"1\" class=\"dataframe\">\n",
       "  <thead>\n",
       "    <tr style=\"text-align: right;\">\n",
       "      <th></th>\n",
       "      <th>suicides_100k</th>\n",
       "      <th>gen</th>\n",
       "    </tr>\n",
       "  </thead>\n",
       "  <tbody>\n",
       "    <tr>\n",
       "      <th>8540</th>\n",
       "      <td>8.12</td>\n",
       "      <td>Silent</td>\n",
       "    </tr>\n",
       "    <tr>\n",
       "      <th>25923</th>\n",
       "      <td>0.37</td>\n",
       "      <td>Millenials</td>\n",
       "    </tr>\n",
       "    <tr>\n",
       "      <th>8294</th>\n",
       "      <td>23.24</td>\n",
       "      <td>Generation X</td>\n",
       "    </tr>\n",
       "    <tr>\n",
       "      <th>8044</th>\n",
       "      <td>9.67</td>\n",
       "      <td>Millenials</td>\n",
       "    </tr>\n",
       "    <tr>\n",
       "      <th>23148</th>\n",
       "      <td>24.94</td>\n",
       "      <td>Generation X</td>\n",
       "    </tr>\n",
       "  </tbody>\n",
       "</table>\n",
       "</div>"
      ],
      "text/plain": [
       "       suicides_100k           gen\n",
       "8540            8.12        Silent\n",
       "25923           0.37    Millenials\n",
       "8294           23.24  Generation X\n",
       "8044            9.67    Millenials\n",
       "23148          24.94  Generation X"
      ]
     },
     "execution_count": 46,
     "metadata": {},
     "output_type": "execute_result"
    }
   ],
   "source": [
    "old_samp.head()"
   ]
  },
  {
   "cell_type": "code",
   "execution_count": 47,
   "metadata": {},
   "outputs": [
    {
     "data": {
      "text/html": [
       "<div>\n",
       "<style scoped>\n",
       "    .dataframe tbody tr th:only-of-type {\n",
       "        vertical-align: middle;\n",
       "    }\n",
       "\n",
       "    .dataframe tbody tr th {\n",
       "        vertical-align: top;\n",
       "    }\n",
       "\n",
       "    .dataframe thead th {\n",
       "        text-align: right;\n",
       "    }\n",
       "</style>\n",
       "<table border=\"1\" class=\"dataframe\">\n",
       "  <thead>\n",
       "    <tr style=\"text-align: right;\">\n",
       "      <th></th>\n",
       "      <th>suicides_100k</th>\n",
       "      <th>gen</th>\n",
       "    </tr>\n",
       "  </thead>\n",
       "  <tbody>\n",
       "    <tr>\n",
       "      <th>1546</th>\n",
       "      <td>30.96</td>\n",
       "      <td>Generation X</td>\n",
       "    </tr>\n",
       "    <tr>\n",
       "      <th>5215</th>\n",
       "      <td>0.65</td>\n",
       "      <td>Generation Z</td>\n",
       "    </tr>\n",
       "    <tr>\n",
       "      <th>1751</th>\n",
       "      <td>24.18</td>\n",
       "      <td>Generation X</td>\n",
       "    </tr>\n",
       "    <tr>\n",
       "      <th>17373</th>\n",
       "      <td>6.44</td>\n",
       "      <td>Silent</td>\n",
       "    </tr>\n",
       "    <tr>\n",
       "      <th>16993</th>\n",
       "      <td>0.00</td>\n",
       "      <td>Silent</td>\n",
       "    </tr>\n",
       "  </tbody>\n",
       "</table>\n",
       "</div>"
      ],
      "text/plain": [
       "       suicides_100k           gen\n",
       "1546           30.96  Generation X\n",
       "5215            0.65  Generation Z\n",
       "1751           24.18  Generation X\n",
       "17373           6.44        Silent\n",
       "16993           0.00        Silent"
      ]
     },
     "execution_count": 47,
     "metadata": {},
     "output_type": "execute_result"
    }
   ],
   "source": [
    "new_samp.head()"
   ]
  },
  {
   "cell_type": "code",
   "execution_count": 48,
   "metadata": {},
   "outputs": [
    {
     "name": "stdout",
     "output_type": "stream",
     "text": [
      "<class 'pandas.core.frame.DataFrame'>\n",
      "Int64Index: 200 entries, 8540 to 24838\n",
      "Data columns (total 2 columns):\n",
      "suicides_100k    200 non-null float64\n",
      "gen              200 non-null object\n",
      "dtypes: float64(1), object(1)\n",
      "memory usage: 4.7+ KB\n",
      "<class 'pandas.core.frame.DataFrame'>\n",
      "Int64Index: 200 entries, 1546 to 14319\n",
      "Data columns (total 2 columns):\n",
      "suicides_100k    200 non-null float64\n",
      "gen              200 non-null object\n",
      "dtypes: float64(1), object(1)\n",
      "memory usage: 4.7+ KB\n"
     ]
    },
    {
     "data": {
      "text/plain": [
       "(None, None)"
      ]
     },
     "execution_count": 48,
     "metadata": {},
     "output_type": "execute_result"
    }
   ],
   "source": [
    "old_samp.info(), new_samp.info()"
   ]
  },
  {
   "cell_type": "code",
   "execution_count": 49,
   "metadata": {},
   "outputs": [
    {
     "data": {
      "text/plain": [
       "array([-2.2840e+01, -2.8000e-01, -9.4000e-01,  3.2300e+00,  2.4940e+01,\n",
       "        2.6600e+00,  1.4580e+01, -3.1930e+01, -1.6000e+00, -7.1000e-01,\n",
       "        4.9170e+01, -3.2660e+01,  1.5850e+01,  5.5100e+00,  5.6700e+00,\n",
       "        7.9400e+00, -6.6500e+00, -2.1610e+01, -4.9300e+00, -1.4200e+00,\n",
       "       -1.4600e+01, -1.9000e-01,  4.1700e+00, -8.0000e+00,  6.6000e-01,\n",
       "        2.8400e+01, -9.6000e+00, -5.4000e+00, -3.6000e+00,  1.0090e+01,\n",
       "       -1.9750e+01,  3.9910e+01,  1.0800e+01,  7.3900e+00, -5.8800e+00,\n",
       "       -3.9300e+00,  2.3700e+00, -4.8600e+00, -1.1780e+01, -1.6980e+01,\n",
       "        1.6170e+01, -7.7000e-01,  9.6200e+00,  1.2930e+01,  6.0560e+01,\n",
       "       -6.2100e+00,  8.5230e+01, -4.8400e+00,  2.9500e+00,  1.3000e-01,\n",
       "        1.2700e+00, -2.1800e+00, -1.3100e+01,  0.0000e+00, -9.2200e+00,\n",
       "        1.5310e+01, -1.5300e+00, -3.5410e+01, -4.8800e+00,  3.0970e+01,\n",
       "        2.2770e+01,  0.0000e+00,  0.0000e+00,  3.2290e+01, -1.5870e+01,\n",
       "        1.4320e+01,  4.7810e+01, -3.5800e+00,  4.2910e+01,  2.4100e+00,\n",
       "       -1.2090e+01,  3.0400e+00,  1.9510e+01,  1.1770e+01,  1.0680e+01,\n",
       "        3.0100e+00, -1.4600e+00,  7.1900e+00, -7.2000e-01, -7.6000e-01,\n",
       "       -5.6100e+00, -6.8300e+00, -4.0630e+01, -1.7180e+01,  2.0330e+01,\n",
       "       -1.6340e+01, -5.9600e+00,  8.0400e+00, -1.8200e+01, -2.2800e+00,\n",
       "       -7.1600e+00, -9.9700e+00, -3.5000e-01, -1.2400e+01,  5.0500e+00,\n",
       "        1.2600e+01, -7.1400e+00, -1.7200e+00,  3.1300e+00, -1.8270e+01,\n",
       "       -2.4910e+01, -8.0200e+00,  5.5850e+01, -2.1310e+01,  2.5110e+01,\n",
       "        1.4540e+01,  2.9400e+01,  1.4000e+00, -3.5300e+00, -1.7400e+00,\n",
       "        2.8600e+00, -2.1000e+01, -6.5900e+00,  4.5420e+01,  2.9250e+01,\n",
       "        2.2550e+01,  1.2100e+01, -5.2200e+00,  2.3140e+01, -1.0320e+01,\n",
       "       -1.3110e+01,  3.5000e+00, -3.5730e+01, -3.0300e+00, -1.1921e+02,\n",
       "       -1.5320e+01, -9.0400e+00, -2.1000e-01, -9.1000e+00,  3.6400e+00,\n",
       "       -2.8700e+00,  3.3100e+00, -5.0300e+00,  3.6150e+01, -5.0200e+00,\n",
       "        6.1200e+00,  4.0210e+01,  0.0000e+00,  2.3720e+01, -8.1500e+00,\n",
       "        8.8000e-01,  6.8950e+01, -7.3300e+00, -1.3140e+01,  4.8800e+00,\n",
       "       -2.7280e+01, -1.4090e+01, -1.7260e+01, -8.5000e+00,  5.2100e+00,\n",
       "       -1.1400e+00,  3.6000e+00,  2.0770e+01,  2.4800e+00,  1.5960e+01,\n",
       "       -2.3700e+00,  1.3190e+01, -1.5463e+02, -4.7120e+01,  3.7870e+01,\n",
       "        2.7990e+01, -1.0880e+01,  6.3900e+00,  1.6670e+01,  8.4600e+00,\n",
       "        1.2220e+01,  1.6210e+01,  4.8800e+00, -7.6200e+00,  9.3000e-01,\n",
       "       -7.9800e+00,  1.2000e-01, -1.3560e+01,  4.9460e+01, -9.4500e+00,\n",
       "        3.9960e+01,  5.0200e+00, -4.4800e+00,  3.2190e+01,  7.4210e+01,\n",
       "        5.1100e+00, -3.6390e+01,  3.7000e-01, -2.7220e+01, -2.2300e+00,\n",
       "        7.7640e+01,  3.2730e+01,  1.5690e+01,  1.8020e+01,  4.3000e-01,\n",
       "        5.3000e+00, -2.4400e+00,  5.8200e+00,  3.3000e+00,  9.1700e+00,\n",
       "        1.4800e+00,  1.1280e+01, -2.9930e+01, -1.1460e+01,  1.8960e+01])"
      ]
     },
     "execution_count": 49,
     "metadata": {},
     "output_type": "execute_result"
    }
   ],
   "source": [
    "diff = old_samp['suicides_100k'].values - new_samp['suicides_100k'].values\n",
    "diff"
   ]
  },
  {
   "cell_type": "code",
   "execution_count": 50,
   "metadata": {},
   "outputs": [
    {
     "data": {
      "text/plain": [
       "2.44825"
      ]
     },
     "execution_count": 50,
     "metadata": {},
     "output_type": "execute_result"
    }
   ],
   "source": [
    "diff.mean()"
   ]
  },
  {
   "cell_type": "code",
   "execution_count": 51,
   "metadata": {},
   "outputs": [
    {
     "data": {
      "image/png": "[encoded data removed]",
      "text/plain": [
       "<Figure size 720x432 with 1 Axes>"
      ]
     },
     "metadata": {
      "needs_background": "light"
     },
     "output_type": "display_data"
    }
   ],
   "source": [
    "fig, ax = plt.subplots(1, 1, figsize=(10,6))\n",
    "ax.hist(diff,bins=30,histtype='bar',\n",
    "        label='gen suicides')\n",
    "plt.show();"
   ]
  },
  {
   "cell_type": "code",
   "execution_count": 52,
   "metadata": {},
   "outputs": [],
   "source": [
    "ztest = ztest(x1=old_samp['suicides_100k'].values,x2=new_samp['suicides_100k'].values,value=0,\n",
    "              alternative='larger')"
   ]
  },
  {
   "cell_type": "code",
   "execution_count": 53,
   "metadata": {},
   "outputs": [
    {
     "name": "stdout",
     "output_type": "stream",
     "text": [
      "Z-statistic = 1.37\n",
      "p-value = 0.0849\n"
     ]
    }
   ],
   "source": [
    "zstat, pvalue = ztest\n",
    "print('Z-statistic = %.2f' % zstat)\n",
    "print('p-value = %.4f' % pvalue)"
   ]
  },
  {
   "cell_type": "markdown",
   "metadata": {},
   "source": [
    "We see that our p-value is greater than 0.05 which means we fail to reject the null hypothesis in favor of the alternative hypothesis. We fail to find great evidence that the average suicide rate amongst younger people is greater than that in older generations. "
   ]
  },
  {
   "cell_type": "code",
   "execution_count": null,
   "metadata": {},
   "outputs": [],
   "source": []
  }
 ],
 "metadata": {
  "kernelspec": {
   "display_name": "Python 3",
   "language": "python",
   "name": "python3"
  },
  "language_info": {
   "codemirror_mode": {
    "name": "ipython",
    "version": 3
   },
   "file_extension": ".py",
   "mimetype": "text/x-python",
   "name": "python",
   "nbconvert_exporter": "python",
   "pygments_lexer": "ipython3",
   "version": "3.5.5"
  }
 },
 "nbformat": 4,
 "nbformat_minor": 2
}
