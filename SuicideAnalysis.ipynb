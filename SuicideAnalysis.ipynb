{
 "cells": [
  {
   "cell_type": "markdown",
   "metadata": {},
   "source": [
    "# Step 1: The Hypotheses"
   ]
  },
  {
   "cell_type": "markdown",
   "metadata": {},
   "source": [
    "## Hypothesis 1: GDP Per Capita vs Suicide"
   ]
  },
  {
   "cell_type": "markdown",
   "metadata": {},
   "source": [
    "There's this endless debate between people who are advocates of the \"money brings happiness\" philosophy and their opponents, the \"money's just a number\" proponents. Let's put these two statements to the test. If it is true that money brings happiness, then as GDP per capita goes up, the number of suicides will go down. We can randomly sample the population and see what the trend is in our sample.\n",
    "\n",
    "In order to do this, we need to divide our population into two sectors: the high GDP per capita sector and the low GDP per capita sector. From these two we can proceed to randomly sample the number of suicides in each group. \n",
    "\n",
    "The above is my reasoning thus far. So, let me lay out my alternate and null hypotheses as follows:\n",
    "\n",
    "Alternate Hypothesis: Citizens from lower gdp per capita group are more prone to suicide than those in the higher gdp per capita group on average. $\\mu_l$ - $\\mu_{h}$ > 0  (exciting, new claim!)\n",
    "\n",
    "Null Hypothesis: The suicide rates between the two groups is the same on average. $\\mu_l$ - $\\mu_h$ = 0 (no difference bro!)"
   ]
  },
  {
   "cell_type": "markdown",
   "metadata": {},
   "source": [
    "## Hypothesis 2: Sex vs Suicide "
   ]
  },
  {
   "cell_type": "markdown",
   "metadata": {},
   "source": [
    "I am curious to know - are men or women more likely to commit suicide? It would be interesting indeed if we found that say men committed suicide on average more than women. If so, I wonder what the cause of that would be?\n",
    "\n",
    "I will construct the following 1-sided hypotheses to test this:\n",
    "\n",
    "Alternate Hypothesis: The average suicide rate of men higher than that in women. $$\\mu_{men}-\\mu_{women} > 0$$\n",
    "\n",
    "Null Hypothesis: There is no difference between the number of men and number of women who commit suicide. $$\\mu_{men}-\\mu_{women} = 0$$"
   ]
  },
  {
   "cell_type": "markdown",
   "metadata": {},
   "source": [
    "## Hypothesis 3: Generation vs Suicide "
   ]
  },
  {
   "cell_type": "markdown",
   "metadata": {},
   "source": [
    "Did past generations have more suicides compared to current generations? I've been hearing that suicide rates have been going up. If this is true then the past generations would have lower suicide rates than current generations. So, based on this premise, I'm going to construct my hypotheses like this:\n",
    "\n",
    "Alternate Hypothesis: The average suicide rate among current generations (Gen X, Millenials, Gen Z) is more than that in previous generations (Silent, G.I., Boomers) (whoa! Cool!). $\\mu_{new} - \\mu_{old} > 0$\n",
    "\n",
    "Null Hypothesis: The average suicide rate among current generations is the same as suicide rates in previous generations (no difference bro!). $\\mu_{new} - \\mu_{old} = 0$"
   ]
  },
  {
   "cell_type": "markdown",
   "metadata": {},
   "source": [
    "## Hypothesis 4: Age vs Suicide "
   ]
  },
  {
   "cell_type": "markdown",
   "metadata": {},
   "source": [
    "Does age affect suicide? Do younger people commit suicide more than older folks? Or is it the other way around? \n",
    "\n",
    "The data is already divided by age group, so we can put forth the below hypotheses:\n",
    "\n",
    "Alternate Hypothesis: The average suicide rates among the various age groups are different (new! exciting!).\n",
    "\n",
    "Null Hypothesis: The average suicide rates among the various age groups is the same (no difference bro!)."
   ]
  },
  {
   "cell_type": "markdown",
   "metadata": {},
   "source": [
    "## Hypothesis 5: Time vs Suicide "
   ]
  },
  {
   "cell_type": "markdown",
   "metadata": {},
   "source": [
    "As we go through time, is suicide increasing? Or is it decreasing? I've heard that suicide rates have been increasing. Let's put this to the test.\n",
    "\n",
    "Alternate Hypothesis: The average suicide rate of the population in past years (1985 - 2000) is less than the average suicide rate in recent years (2001 - 2016) ($\\mu_{past}$ < $\\mu_{recent}$)\n",
    "\n",
    "Null Hypothesis: The average suicide rate of the population in past years (1985 - 2000) is the same as the average suicide rate in recent years (2001 - 2016) ($\\mu_{past}$ = $\\mu_{recent}$)"
   ]
  },
  {
   "cell_type": "markdown",
   "metadata": {},
   "source": [
    "# Step 2: Retrieving the Data "
   ]
  },
  {
   "cell_type": "code",
   "execution_count": 1,
   "metadata": {},
   "outputs": [],
   "source": [
    "import pandas as pd\n",
    "import numpy as np\n",
    "import matplotlib.pyplot as plt\n",
    "from statsmodels.stats.weightstats import ztest\n",
    "from statsmodels.stats.proportion import proportions_ztest\n",
    "from statsmodels.graphics.gofplots import qqplot\n",
    "from scipy.stats import chi2, chisquare\n",
    "from IPython.core.debugger import set_trace"
   ]
  },
  {
   "cell_type": "code",
   "execution_count": 2,
   "metadata": {},
   "outputs": [],
   "source": [
    "#Read from the master.csv file and put into a dataframe\n",
    "suicides = pd.read_csv('master.csv',sep=',',header=0,names=['country','yr','sex','age','suicides_no',\n",
    "                                                            'population','suicides_100k','country_yr',\n",
    "                                                            'HDI_yr','gdp_yr','gdp_pc','gen'])"
   ]
  },
  {
   "cell_type": "code",
   "execution_count": 3,
   "metadata": {},
   "outputs": [
    {
     "data": {
      "text/html": [
       "<div>\n",
       "<style scoped>\n",
       "    .dataframe tbody tr th:only-of-type {\n",
       "        vertical-align: middle;\n",
       "    }\n",
       "\n",
       "    .dataframe tbody tr th {\n",
       "        vertical-align: top;\n",
       "    }\n",
       "\n",
       "    .dataframe thead th {\n",
       "        text-align: right;\n",
       "    }\n",
       "</style>\n",
       "<table border=\"1\" class=\"dataframe\">\n",
       "  <thead>\n",
       "    <tr style=\"text-align: right;\">\n",
       "      <th></th>\n",
       "      <th>country</th>\n",
       "      <th>yr</th>\n",
       "      <th>sex</th>\n",
       "      <th>age</th>\n",
       "      <th>suicides_no</th>\n",
       "      <th>population</th>\n",
       "      <th>suicides_100k</th>\n",
       "      <th>country_yr</th>\n",
       "      <th>HDI_yr</th>\n",
       "      <th>gdp_yr</th>\n",
       "      <th>gdp_pc</th>\n",
       "      <th>gen</th>\n",
       "    </tr>\n",
       "  </thead>\n",
       "  <tbody>\n",
       "    <tr>\n",
       "      <th>0</th>\n",
       "      <td>Albania</td>\n",
       "      <td>1987</td>\n",
       "      <td>male</td>\n",
       "      <td>15-24 years</td>\n",
       "      <td>21</td>\n",
       "      <td>312900</td>\n",
       "      <td>6.71</td>\n",
       "      <td>Albania1987</td>\n",
       "      <td>NaN</td>\n",
       "      <td>2,156,624,900</td>\n",
       "      <td>796</td>\n",
       "      <td>Generation X</td>\n",
       "    </tr>\n",
       "    <tr>\n",
       "      <th>1</th>\n",
       "      <td>Albania</td>\n",
       "      <td>1987</td>\n",
       "      <td>male</td>\n",
       "      <td>35-54 years</td>\n",
       "      <td>16</td>\n",
       "      <td>308000</td>\n",
       "      <td>5.19</td>\n",
       "      <td>Albania1987</td>\n",
       "      <td>NaN</td>\n",
       "      <td>2,156,624,900</td>\n",
       "      <td>796</td>\n",
       "      <td>Silent</td>\n",
       "    </tr>\n",
       "    <tr>\n",
       "      <th>2</th>\n",
       "      <td>Albania</td>\n",
       "      <td>1987</td>\n",
       "      <td>female</td>\n",
       "      <td>15-24 years</td>\n",
       "      <td>14</td>\n",
       "      <td>289700</td>\n",
       "      <td>4.83</td>\n",
       "      <td>Albania1987</td>\n",
       "      <td>NaN</td>\n",
       "      <td>2,156,624,900</td>\n",
       "      <td>796</td>\n",
       "      <td>Generation X</td>\n",
       "    </tr>\n",
       "    <tr>\n",
       "      <th>3</th>\n",
       "      <td>Albania</td>\n",
       "      <td>1987</td>\n",
       "      <td>male</td>\n",
       "      <td>75+ years</td>\n",
       "      <td>1</td>\n",
       "      <td>21800</td>\n",
       "      <td>4.59</td>\n",
       "      <td>Albania1987</td>\n",
       "      <td>NaN</td>\n",
       "      <td>2,156,624,900</td>\n",
       "      <td>796</td>\n",
       "      <td>G.I. Generation</td>\n",
       "    </tr>\n",
       "    <tr>\n",
       "      <th>4</th>\n",
       "      <td>Albania</td>\n",
       "      <td>1987</td>\n",
       "      <td>male</td>\n",
       "      <td>25-34 years</td>\n",
       "      <td>9</td>\n",
       "      <td>274300</td>\n",
       "      <td>3.28</td>\n",
       "      <td>Albania1987</td>\n",
       "      <td>NaN</td>\n",
       "      <td>2,156,624,900</td>\n",
       "      <td>796</td>\n",
       "      <td>Boomers</td>\n",
       "    </tr>\n",
       "  </tbody>\n",
       "</table>\n",
       "</div>"
      ],
      "text/plain": [
       "   country    yr     sex          age  suicides_no  population  suicides_100k  \\\n",
       "0  Albania  1987    male  15-24 years           21      312900           6.71   \n",
       "1  Albania  1987    male  35-54 years           16      308000           5.19   \n",
       "2  Albania  1987  female  15-24 years           14      289700           4.83   \n",
       "3  Albania  1987    male    75+ years            1       21800           4.59   \n",
       "4  Albania  1987    male  25-34 years            9      274300           3.28   \n",
       "\n",
       "    country_yr  HDI_yr         gdp_yr  gdp_pc              gen  \n",
       "0  Albania1987     NaN  2,156,624,900     796     Generation X  \n",
       "1  Albania1987     NaN  2,156,624,900     796           Silent  \n",
       "2  Albania1987     NaN  2,156,624,900     796     Generation X  \n",
       "3  Albania1987     NaN  2,156,624,900     796  G.I. Generation  \n",
       "4  Albania1987     NaN  2,156,624,900     796          Boomers  "
      ]
     },
     "execution_count": 3,
     "metadata": {},
     "output_type": "execute_result"
    }
   ],
   "source": [
    "#Check the first 5 entries in dataframe\n",
    "suicides.head()"
   ]
  },
  {
   "cell_type": "code",
   "execution_count": 4,
   "metadata": {},
   "outputs": [
    {
     "name": "stdout",
     "output_type": "stream",
     "text": [
      "<class 'pandas.core.frame.DataFrame'>\n",
      "RangeIndex: 27820 entries, 0 to 27819\n",
      "Data columns (total 12 columns):\n",
      "country          27820 non-null object\n",
      "yr               27820 non-null int64\n",
      "sex              27820 non-null object\n",
      "age              27820 non-null object\n",
      "suicides_no      27820 non-null int64\n",
      "population       27820 non-null int64\n",
      "suicides_100k    27820 non-null float64\n",
      "country_yr       27820 non-null object\n",
      "HDI_yr           8364 non-null float64\n",
      "gdp_yr           27820 non-null object\n",
      "gdp_pc           27820 non-null int64\n",
      "gen              27820 non-null object\n",
      "dtypes: float64(2), int64(4), object(6)\n",
      "memory usage: 2.5+ MB\n"
     ]
    }
   ],
   "source": [
    "suicides.info()"
   ]
  },
  {
   "cell_type": "code",
   "execution_count": 5,
   "metadata": {},
   "outputs": [
    {
     "data": {
      "text/plain": [
       "(27820, 12)"
      ]
     },
     "execution_count": 5,
     "metadata": {},
     "output_type": "execute_result"
    }
   ],
   "source": [
    "suicides.shape"
   ]
  },
  {
   "cell_type": "markdown",
   "metadata": {},
   "source": [
    "# Step 3: Testing the Hypotheses "
   ]
  },
  {
   "cell_type": "markdown",
   "metadata": {},
   "source": [
    "## Hypothesis 1: GDP Per Capita versus Suicide "
   ]
  },
  {
   "cell_type": "markdown",
   "metadata": {},
   "source": [
    "Method 1: Take the max GDP per capita, take the min GDP per capita and compute (max - min) / 2. This will give us a \"naive\" boundary between the two groups for now. "
   ]
  },
  {
   "cell_type": "code",
   "execution_count": 6,
   "metadata": {},
   "outputs": [
    {
     "data": {
      "text/plain": [
       "0         796\n",
       "1         796\n",
       "2         796\n",
       "3         796\n",
       "4         796\n",
       "5         796\n",
       "6         796\n",
       "7         796\n",
       "8         796\n",
       "9         796\n",
       "10        796\n",
       "11        796\n",
       "12        769\n",
       "13        769\n",
       "14        769\n",
       "15        769\n",
       "16        769\n",
       "17        769\n",
       "18        769\n",
       "19        769\n",
       "20        769\n",
       "21        769\n",
       "22        769\n",
       "23        769\n",
       "24        833\n",
       "25        833\n",
       "26        833\n",
       "27        833\n",
       "28        833\n",
       "29        833\n",
       "         ... \n",
       "27790    1964\n",
       "27791    1964\n",
       "27792    1964\n",
       "27793    1964\n",
       "27794    1964\n",
       "27795    1964\n",
       "27796    2150\n",
       "27797    2150\n",
       "27798    2150\n",
       "27799    2150\n",
       "27800    2150\n",
       "27801    2150\n",
       "27802    2150\n",
       "27803    2150\n",
       "27804    2150\n",
       "27805    2150\n",
       "27806    2150\n",
       "27807    2150\n",
       "27808    2309\n",
       "27809    2309\n",
       "27810    2309\n",
       "27811    2309\n",
       "27812    2309\n",
       "27813    2309\n",
       "27814    2309\n",
       "27815    2309\n",
       "27816    2309\n",
       "27817    2309\n",
       "27818    2309\n",
       "27819    2309\n",
       "Name: gdp_pc, Length: 27820, dtype: int64"
      ]
     },
     "execution_count": 6,
     "metadata": {},
     "output_type": "execute_result"
    }
   ],
   "source": [
    "suicides.gdp_pc"
   ]
  },
  {
   "cell_type": "code",
   "execution_count": 7,
   "metadata": {},
   "outputs": [],
   "source": [
    "#Let's do a groupby on gdp per capita and see how many total suicides there are\n",
    "gdp_pc_grouped = suicides.groupby('gdp_pc')[['suicides_100k']].sum()"
   ]
  },
  {
   "cell_type": "code",
   "execution_count": 8,
   "metadata": {},
   "outputs": [
    {
     "data": {
      "text/html": [
       "<div>\n",
       "<style scoped>\n",
       "    .dataframe tbody tr th:only-of-type {\n",
       "        vertical-align: middle;\n",
       "    }\n",
       "\n",
       "    .dataframe tbody tr th {\n",
       "        vertical-align: top;\n",
       "    }\n",
       "\n",
       "    .dataframe thead th {\n",
       "        text-align: right;\n",
       "    }\n",
       "</style>\n",
       "<table border=\"1\" class=\"dataframe\">\n",
       "  <thead>\n",
       "    <tr style=\"text-align: right;\">\n",
       "      <th></th>\n",
       "      <th>suicides_100k</th>\n",
       "    </tr>\n",
       "    <tr>\n",
       "      <th>gdp_pc</th>\n",
       "      <th></th>\n",
       "    </tr>\n",
       "  </thead>\n",
       "  <tbody>\n",
       "    <tr>\n",
       "      <th>251</th>\n",
       "      <td>18.00</td>\n",
       "    </tr>\n",
       "    <tr>\n",
       "      <th>291</th>\n",
       "      <td>191.44</td>\n",
       "    </tr>\n",
       "    <tr>\n",
       "      <th>313</th>\n",
       "      <td>182.63</td>\n",
       "    </tr>\n",
       "    <tr>\n",
       "      <th>345</th>\n",
       "      <td>193.30</td>\n",
       "    </tr>\n",
       "    <tr>\n",
       "      <th>357</th>\n",
       "      <td>51.05</td>\n",
       "    </tr>\n",
       "  </tbody>\n",
       "</table>\n",
       "</div>"
      ],
      "text/plain": [
       "        suicides_100k\n",
       "gdp_pc               \n",
       "251             18.00\n",
       "291            191.44\n",
       "313            182.63\n",
       "345            193.30\n",
       "357             51.05"
      ]
     },
     "execution_count": 8,
     "metadata": {},
     "output_type": "execute_result"
    }
   ],
   "source": [
    "gdp_pc_grouped.head()"
   ]
  },
  {
   "cell_type": "code",
   "execution_count": 9,
   "metadata": {},
   "outputs": [],
   "source": [
    "gdp_pc_grouped = gdp_pc_grouped.reset_index()"
   ]
  },
  {
   "cell_type": "code",
   "execution_count": 10,
   "metadata": {},
   "outputs": [
    {
     "data": {
      "text/html": [
       "<div>\n",
       "<style scoped>\n",
       "    .dataframe tbody tr th:only-of-type {\n",
       "        vertical-align: middle;\n",
       "    }\n",
       "\n",
       "    .dataframe tbody tr th {\n",
       "        vertical-align: top;\n",
       "    }\n",
       "\n",
       "    .dataframe thead th {\n",
       "        text-align: right;\n",
       "    }\n",
       "</style>\n",
       "<table border=\"1\" class=\"dataframe\">\n",
       "  <thead>\n",
       "    <tr style=\"text-align: right;\">\n",
       "      <th></th>\n",
       "      <th>gdp_pc</th>\n",
       "      <th>suicides_100k</th>\n",
       "    </tr>\n",
       "  </thead>\n",
       "  <tbody>\n",
       "    <tr>\n",
       "      <th>0</th>\n",
       "      <td>251</td>\n",
       "      <td>18.00</td>\n",
       "    </tr>\n",
       "    <tr>\n",
       "      <th>1</th>\n",
       "      <td>291</td>\n",
       "      <td>191.44</td>\n",
       "    </tr>\n",
       "    <tr>\n",
       "      <th>2</th>\n",
       "      <td>313</td>\n",
       "      <td>182.63</td>\n",
       "    </tr>\n",
       "    <tr>\n",
       "      <th>3</th>\n",
       "      <td>345</td>\n",
       "      <td>193.30</td>\n",
       "    </tr>\n",
       "    <tr>\n",
       "      <th>4</th>\n",
       "      <td>357</td>\n",
       "      <td>51.05</td>\n",
       "    </tr>\n",
       "  </tbody>\n",
       "</table>\n",
       "</div>"
      ],
      "text/plain": [
       "   gdp_pc  suicides_100k\n",
       "0     251          18.00\n",
       "1     291         191.44\n",
       "2     313         182.63\n",
       "3     345         193.30\n",
       "4     357          51.05"
      ]
     },
     "execution_count": 10,
     "metadata": {},
     "output_type": "execute_result"
    }
   ],
   "source": [
    "gdp_pc_grouped.head()"
   ]
  },
  {
   "cell_type": "code",
   "execution_count": 11,
   "metadata": {},
   "outputs": [],
   "source": [
    "gdp_mean = gdp_pc_grouped.mean()[0]"
   ]
  },
  {
   "cell_type": "code",
   "execution_count": 12,
   "metadata": {},
   "outputs": [
    {
     "data": {
      "text/plain": [
       "17283.135691894313"
      ]
     },
     "execution_count": 12,
     "metadata": {},
     "output_type": "execute_result"
    }
   ],
   "source": [
    "gdp_mean"
   ]
  },
  {
   "cell_type": "code",
   "execution_count": 13,
   "metadata": {},
   "outputs": [],
   "source": [
    "#We engineer a new binary column called \"gdp_pc_hilo\" which shows 1 = high gdp, 0 = low gdp\n",
    "gdp_pc_grouped['gdp_pc_hilo'] = gdp_pc_grouped.gdp_pc.apply(lambda x : 0 if x < gdp_mean else 1)"
   ]
  },
  {
   "cell_type": "code",
   "execution_count": 14,
   "metadata": {},
   "outputs": [
    {
     "data": {
      "text/html": [
       "<div>\n",
       "<style scoped>\n",
       "    .dataframe tbody tr th:only-of-type {\n",
       "        vertical-align: middle;\n",
       "    }\n",
       "\n",
       "    .dataframe tbody tr th {\n",
       "        vertical-align: top;\n",
       "    }\n",
       "\n",
       "    .dataframe thead th {\n",
       "        text-align: right;\n",
       "    }\n",
       "</style>\n",
       "<table border=\"1\" class=\"dataframe\">\n",
       "  <thead>\n",
       "    <tr style=\"text-align: right;\">\n",
       "      <th></th>\n",
       "      <th>gdp_pc</th>\n",
       "      <th>suicides_100k</th>\n",
       "      <th>gdp_pc_hilo</th>\n",
       "    </tr>\n",
       "  </thead>\n",
       "  <tbody>\n",
       "    <tr>\n",
       "      <th>1439</th>\n",
       "      <td>17299</td>\n",
       "      <td>139.08</td>\n",
       "      <td>1</td>\n",
       "    </tr>\n",
       "    <tr>\n",
       "      <th>1440</th>\n",
       "      <td>17349</td>\n",
       "      <td>99.19</td>\n",
       "      <td>1</td>\n",
       "    </tr>\n",
       "    <tr>\n",
       "      <th>1441</th>\n",
       "      <td>17387</td>\n",
       "      <td>143.68</td>\n",
       "      <td>1</td>\n",
       "    </tr>\n",
       "    <tr>\n",
       "      <th>1442</th>\n",
       "      <td>17395</td>\n",
       "      <td>0.00</td>\n",
       "      <td>1</td>\n",
       "    </tr>\n",
       "    <tr>\n",
       "      <th>1443</th>\n",
       "      <td>17415</td>\n",
       "      <td>405.88</td>\n",
       "      <td>1</td>\n",
       "    </tr>\n",
       "  </tbody>\n",
       "</table>\n",
       "</div>"
      ],
      "text/plain": [
       "      gdp_pc  suicides_100k  gdp_pc_hilo\n",
       "1439   17299         139.08            1\n",
       "1440   17349          99.19            1\n",
       "1441   17387         143.68            1\n",
       "1442   17395           0.00            1\n",
       "1443   17415         405.88            1"
      ]
     },
     "execution_count": 14,
     "metadata": {},
     "output_type": "execute_result"
    }
   ],
   "source": [
    "#Get the high group (treatment) into a separate dataframe\n",
    "high_group = gdp_pc_grouped[gdp_pc_grouped['gdp_pc_hilo'] == 1]\n",
    "high_group.head()"
   ]
  },
  {
   "cell_type": "code",
   "execution_count": 15,
   "metadata": {},
   "outputs": [
    {
     "data": {
      "text/html": [
       "<div>\n",
       "<style scoped>\n",
       "    .dataframe tbody tr th:only-of-type {\n",
       "        vertical-align: middle;\n",
       "    }\n",
       "\n",
       "    .dataframe tbody tr th {\n",
       "        vertical-align: top;\n",
       "    }\n",
       "\n",
       "    .dataframe thead th {\n",
       "        text-align: right;\n",
       "    }\n",
       "</style>\n",
       "<table border=\"1\" class=\"dataframe\">\n",
       "  <thead>\n",
       "    <tr style=\"text-align: right;\">\n",
       "      <th></th>\n",
       "      <th>gdp_pc</th>\n",
       "      <th>suicides_100k</th>\n",
       "      <th>gdp_pc_hilo</th>\n",
       "    </tr>\n",
       "  </thead>\n",
       "  <tbody>\n",
       "    <tr>\n",
       "      <th>0</th>\n",
       "      <td>251</td>\n",
       "      <td>18.00</td>\n",
       "      <td>0</td>\n",
       "    </tr>\n",
       "    <tr>\n",
       "      <th>1</th>\n",
       "      <td>291</td>\n",
       "      <td>191.44</td>\n",
       "      <td>0</td>\n",
       "    </tr>\n",
       "    <tr>\n",
       "      <th>2</th>\n",
       "      <td>313</td>\n",
       "      <td>182.63</td>\n",
       "      <td>0</td>\n",
       "    </tr>\n",
       "    <tr>\n",
       "      <th>3</th>\n",
       "      <td>345</td>\n",
       "      <td>193.30</td>\n",
       "      <td>0</td>\n",
       "    </tr>\n",
       "    <tr>\n",
       "      <th>4</th>\n",
       "      <td>357</td>\n",
       "      <td>51.05</td>\n",
       "      <td>0</td>\n",
       "    </tr>\n",
       "  </tbody>\n",
       "</table>\n",
       "</div>"
      ],
      "text/plain": [
       "   gdp_pc  suicides_100k  gdp_pc_hilo\n",
       "0     251          18.00            0\n",
       "1     291         191.44            0\n",
       "2     313         182.63            0\n",
       "3     345         193.30            0\n",
       "4     357          51.05            0"
      ]
     },
     "execution_count": 15,
     "metadata": {},
     "output_type": "execute_result"
    }
   ],
   "source": [
    "#Get the low group (treatment) into a separate dataframe\n",
    "low_group = gdp_pc_grouped[gdp_pc_grouped['gdp_pc_hilo'] == 0]\n",
    "low_group.head()"
   ]
  },
  {
   "cell_type": "code",
   "execution_count": 16,
   "metadata": {},
   "outputs": [
    {
     "data": {
      "text/plain": [
       "1439"
      ]
     },
     "execution_count": 16,
     "metadata": {},
     "output_type": "execute_result"
    }
   ],
   "source": [
    "low_group.gdp_pc_hilo.count()"
   ]
  },
  {
   "cell_type": "code",
   "execution_count": 17,
   "metadata": {},
   "outputs": [
    {
     "data": {
      "text/plain": [
       "794"
      ]
     },
     "execution_count": 17,
     "metadata": {},
     "output_type": "execute_result"
    }
   ],
   "source": [
    "high_group.gdp_pc_hilo.count()"
   ]
  },
  {
   "cell_type": "markdown",
   "metadata": {},
   "source": [
    "Before we move along, we need to pay attention to two main statistical criteria. We would like to use the normal model (bell curve) to estimate the population proportions in the high and low groups. \n",
    "\n",
    "1. Independence Criterion - We need our sample size to be lower than 10% of the total population to ensure that the observations are sufficiently independent. On top of this, we also need our sample size to be big enough. If the population is not heavily skewed, then we can get away with a sample size of 30 or more in each group. However, if we see the suicide_100k variable, it is heavily skewed. In this case, we need to fulfill a sample size of greater than 100.\n",
    "\n",
    "2. Success-Failure Criterion- We need to ensure that the total number of successes and total number of failures in each group (sample size * proportion) is greater than 10. \n",
    "\n",
    "\n",
    "\n",
    "Once the above criteria are satisfied, we can use the normal model to estimate our population proportions."
   ]
  },
  {
   "cell_type": "code",
   "execution_count": 18,
   "metadata": {},
   "outputs": [],
   "source": [
    "#First, let's start with N = 200 random samples from both groups. This ensures we are far away from the \n",
    "#100 minimum and so we can ensure independence to some extent.\n",
    "sample_size = 1000\n",
    "population = suicides.shape[0]\n",
    "\n",
    "high = np.random.choice(high_group.gdp_pc.values,sample_size)\n",
    "low = np.random.choice(low_group.gdp_pc.values,sample_size)"
   ]
  },
  {
   "cell_type": "markdown",
   "metadata": {},
   "source": [
    "We have taken a sample size of 1000 for both groups. The total population size is 27820 and 10% of this is 2782. So we are well within our 10% limit and our sample size is greater than 100. So we satisfy the Independence criterion."
   ]
  },
  {
   "cell_type": "code",
   "execution_count": 19,
   "metadata": {},
   "outputs": [
    {
     "data": {
      "text/html": [
       "<div>\n",
       "<style scoped>\n",
       "    .dataframe tbody tr th:only-of-type {\n",
       "        vertical-align: middle;\n",
       "    }\n",
       "\n",
       "    .dataframe tbody tr th {\n",
       "        vertical-align: top;\n",
       "    }\n",
       "\n",
       "    .dataframe thead th {\n",
       "        text-align: right;\n",
       "    }\n",
       "</style>\n",
       "<table border=\"1\" class=\"dataframe\">\n",
       "  <thead>\n",
       "    <tr style=\"text-align: right;\">\n",
       "      <th></th>\n",
       "      <th>suicides_100k</th>\n",
       "      <th>gdp_pc_hilo</th>\n",
       "    </tr>\n",
       "    <tr>\n",
       "      <th>gdp_pc</th>\n",
       "      <th></th>\n",
       "      <th></th>\n",
       "    </tr>\n",
       "  </thead>\n",
       "  <tbody>\n",
       "    <tr>\n",
       "      <th>17299</th>\n",
       "      <td>139.08</td>\n",
       "      <td>1</td>\n",
       "    </tr>\n",
       "    <tr>\n",
       "      <th>17349</th>\n",
       "      <td>99.19</td>\n",
       "      <td>1</td>\n",
       "    </tr>\n",
       "    <tr>\n",
       "      <th>17387</th>\n",
       "      <td>143.68</td>\n",
       "      <td>1</td>\n",
       "    </tr>\n",
       "    <tr>\n",
       "      <th>17395</th>\n",
       "      <td>0.00</td>\n",
       "      <td>1</td>\n",
       "    </tr>\n",
       "    <tr>\n",
       "      <th>17415</th>\n",
       "      <td>405.88</td>\n",
       "      <td>1</td>\n",
       "    </tr>\n",
       "  </tbody>\n",
       "</table>\n",
       "</div>"
      ],
      "text/plain": [
       "        suicides_100k  gdp_pc_hilo\n",
       "gdp_pc                            \n",
       "17299          139.08            1\n",
       "17349           99.19            1\n",
       "17387          143.68            1\n",
       "17395            0.00            1\n",
       "17415          405.88            1"
      ]
     },
     "execution_count": 19,
     "metadata": {},
     "output_type": "execute_result"
    }
   ],
   "source": [
    "high_group.set_index('gdp_pc',inplace=True)\n",
    "high_group.head()"
   ]
  },
  {
   "cell_type": "code",
   "execution_count": 20,
   "metadata": {},
   "outputs": [
    {
     "data": {
      "text/html": [
       "<div>\n",
       "<style scoped>\n",
       "    .dataframe tbody tr th:only-of-type {\n",
       "        vertical-align: middle;\n",
       "    }\n",
       "\n",
       "    .dataframe tbody tr th {\n",
       "        vertical-align: top;\n",
       "    }\n",
       "\n",
       "    .dataframe thead th {\n",
       "        text-align: right;\n",
       "    }\n",
       "</style>\n",
       "<table border=\"1\" class=\"dataframe\">\n",
       "  <thead>\n",
       "    <tr style=\"text-align: right;\">\n",
       "      <th></th>\n",
       "      <th>suicides_100k</th>\n",
       "      <th>gdp_pc_hilo</th>\n",
       "    </tr>\n",
       "    <tr>\n",
       "      <th>gdp_pc</th>\n",
       "      <th></th>\n",
       "      <th></th>\n",
       "    </tr>\n",
       "  </thead>\n",
       "  <tbody>\n",
       "    <tr>\n",
       "      <th>251</th>\n",
       "      <td>18.00</td>\n",
       "      <td>0</td>\n",
       "    </tr>\n",
       "    <tr>\n",
       "      <th>291</th>\n",
       "      <td>191.44</td>\n",
       "      <td>0</td>\n",
       "    </tr>\n",
       "    <tr>\n",
       "      <th>313</th>\n",
       "      <td>182.63</td>\n",
       "      <td>0</td>\n",
       "    </tr>\n",
       "    <tr>\n",
       "      <th>345</th>\n",
       "      <td>193.30</td>\n",
       "      <td>0</td>\n",
       "    </tr>\n",
       "    <tr>\n",
       "      <th>357</th>\n",
       "      <td>51.05</td>\n",
       "      <td>0</td>\n",
       "    </tr>\n",
       "  </tbody>\n",
       "</table>\n",
       "</div>"
      ],
      "text/plain": [
       "        suicides_100k  gdp_pc_hilo\n",
       "gdp_pc                            \n",
       "251             18.00            0\n",
       "291            191.44            0\n",
       "313            182.63            0\n",
       "345            193.30            0\n",
       "357             51.05            0"
      ]
     },
     "execution_count": 20,
     "metadata": {},
     "output_type": "execute_result"
    }
   ],
   "source": [
    "low_group.set_index('gdp_pc',inplace=True)\n",
    "low_group.head()"
   ]
  },
  {
   "cell_type": "code",
   "execution_count": 21,
   "metadata": {},
   "outputs": [
    {
     "data": {
      "text/plain": [
       "1000"
      ]
     },
     "execution_count": 21,
     "metadata": {},
     "output_type": "execute_result"
    }
   ],
   "source": [
    "suicides_high_sample = high_group['suicides_100k'].loc[high]\n",
    "suicides_high_sample.size"
   ]
  },
  {
   "cell_type": "code",
   "execution_count": 22,
   "metadata": {},
   "outputs": [
    {
     "data": {
      "text/plain": [
       "1000"
      ]
     },
     "execution_count": 22,
     "metadata": {},
     "output_type": "execute_result"
    }
   ],
   "source": [
    "suicides_low_sample = low_group['suicides_100k'].loc[low]\n",
    "suicides_low_sample.size"
   ]
  },
  {
   "cell_type": "code",
   "execution_count": 23,
   "metadata": {},
   "outputs": [
    {
     "data": {
      "image/png": "[encoded data removed]",
      "text/plain": [
       "<Figure size 720x432 with 1 Axes>"
      ]
     },
     "metadata": {
      "needs_background": "light"
     },
     "output_type": "display_data"
    }
   ],
   "source": [
    "fig, ax = plt.subplots(1, 1, figsize=(10,6))\n",
    "ax.hist(suicides_low_sample.values, bins=30, histtype='bar', color='red', alpha=0.6, label='Low GDP_PC')\n",
    "ax.hist(suicides_high_sample.values, bins=30, histtype='bar', color='green', alpha=0.8, label='High GDP_PC')\n",
    "ax.legend()\n",
    "plt.show();"
   ]
  },
  {
   "cell_type": "code",
   "execution_count": 24,
   "metadata": {},
   "outputs": [
    {
     "data": {
      "image/png": "[encoded data removed]",
      "text/plain": [
       "<Figure size 720x432 with 1 Axes>"
      ]
     },
     "metadata": {
      "needs_background": "light"
     },
     "output_type": "display_data"
    }
   ],
   "source": [
    "fig, ax = plt.subplots(1, 1, figsize=(10,6))\n",
    "ax.hist((suicides_high_sample.values - suicides_low_sample.values)/175, bins=30, histtype='bar', color='red', \n",
    "        alpha=0.6, label='Suicide differences')\n",
    "ax.legend()\n",
    "plt.show();"
   ]
  },
  {
   "cell_type": "code",
   "execution_count": 25,
   "metadata": {},
   "outputs": [
    {
     "data": {
      "image/png": "[encoded data removed]",
      "text/plain": [
       "<Figure size 432x288 with 1 Axes>"
      ]
     },
     "metadata": {
      "needs_background": "light"
     },
     "output_type": "display_data"
    }
   ],
   "source": [
    "qqplot((suicides_high_sample.values - suicides_low_sample.values)/175,line='45');"
   ]
  },
  {
   "cell_type": "code",
   "execution_count": 26,
   "metadata": {},
   "outputs": [],
   "source": [
    "#Let's find the z-statistic and p-value for the one-sided hypothesis test\n",
    "stat = ztest(suicides_low_sample.values, suicides_high_sample.values, 0, 'larger')"
   ]
  },
  {
   "cell_type": "code",
   "execution_count": 27,
   "metadata": {},
   "outputs": [
    {
     "name": "stdout",
     "output_type": "stream",
     "text": [
      "Z-statistic = -2.28\n",
      "P-value =  0.9888030709711655\n"
     ]
    }
   ],
   "source": [
    "print(\"Z-statistic = %.2f\" % stat[0])\n",
    "print(\"P-value = \", stat[1])"
   ]
  },
  {
   "cell_type": "markdown",
   "metadata": {},
   "source": [
    "We see that our p-value is generally greater than significance level alpha = 0.05. So, we fail to reject the null hypothesis. This means that we do not reject the notion that there is no difference between the low gdp group and high gdp group. There is no significant evidence to suggest that the average suicide rate in the high gdp group is greater than the average suicide rate in the low gdp group."
   ]
  },
  {
   "cell_type": "markdown",
   "metadata": {},
   "source": [
    "## Hypothesis 2: Sex versus Suicide "
   ]
  },
  {
   "cell_type": "code",
   "execution_count": 28,
   "metadata": {},
   "outputs": [],
   "source": [
    "sexes = suicides[['sex','suicides_100k']]"
   ]
  },
  {
   "cell_type": "code",
   "execution_count": 29,
   "metadata": {},
   "outputs": [
    {
     "name": "stdout",
     "output_type": "stream",
     "text": [
      "55640\n"
     ]
    },
    {
     "data": {
      "text/html": [
       "<div>\n",
       "<style scoped>\n",
       "    .dataframe tbody tr th:only-of-type {\n",
       "        vertical-align: middle;\n",
       "    }\n",
       "\n",
       "    .dataframe tbody tr th {\n",
       "        vertical-align: top;\n",
       "    }\n",
       "\n",
       "    .dataframe thead th {\n",
       "        text-align: right;\n",
       "    }\n",
       "</style>\n",
       "<table border=\"1\" class=\"dataframe\">\n",
       "  <thead>\n",
       "    <tr style=\"text-align: right;\">\n",
       "      <th></th>\n",
       "      <th>sex</th>\n",
       "      <th>suicides_100k</th>\n",
       "    </tr>\n",
       "  </thead>\n",
       "  <tbody>\n",
       "    <tr>\n",
       "      <th>0</th>\n",
       "      <td>male</td>\n",
       "      <td>6.71</td>\n",
       "    </tr>\n",
       "    <tr>\n",
       "      <th>1</th>\n",
       "      <td>male</td>\n",
       "      <td>5.19</td>\n",
       "    </tr>\n",
       "    <tr>\n",
       "      <th>2</th>\n",
       "      <td>female</td>\n",
       "      <td>4.83</td>\n",
       "    </tr>\n",
       "    <tr>\n",
       "      <th>3</th>\n",
       "      <td>male</td>\n",
       "      <td>4.59</td>\n",
       "    </tr>\n",
       "    <tr>\n",
       "      <th>4</th>\n",
       "      <td>male</td>\n",
       "      <td>3.28</td>\n",
       "    </tr>\n",
       "  </tbody>\n",
       "</table>\n",
       "</div>"
      ],
      "text/plain": [
       "      sex  suicides_100k\n",
       "0    male           6.71\n",
       "1    male           5.19\n",
       "2  female           4.83\n",
       "3    male           4.59\n",
       "4    male           3.28"
      ]
     },
     "execution_count": 29,
     "metadata": {},
     "output_type": "execute_result"
    }
   ],
   "source": [
    "print(sexes.size)\n",
    "sexes.head()"
   ]
  },
  {
   "cell_type": "code",
   "execution_count": 30,
   "metadata": {},
   "outputs": [],
   "source": [
    "males = sexes[sexes.sex == 'male']\n",
    "females = sexes[sexes.sex == 'female']"
   ]
  },
  {
   "cell_type": "code",
   "execution_count": 31,
   "metadata": {},
   "outputs": [
    {
     "name": "stdout",
     "output_type": "stream",
     "text": [
      "27820\n"
     ]
    },
    {
     "data": {
      "text/html": [
       "<div>\n",
       "<style scoped>\n",
       "    .dataframe tbody tr th:only-of-type {\n",
       "        vertical-align: middle;\n",
       "    }\n",
       "\n",
       "    .dataframe tbody tr th {\n",
       "        vertical-align: top;\n",
       "    }\n",
       "\n",
       "    .dataframe thead th {\n",
       "        text-align: right;\n",
       "    }\n",
       "</style>\n",
       "<table border=\"1\" class=\"dataframe\">\n",
       "  <thead>\n",
       "    <tr style=\"text-align: right;\">\n",
       "      <th></th>\n",
       "      <th>sex</th>\n",
       "      <th>suicides_100k</th>\n",
       "    </tr>\n",
       "  </thead>\n",
       "  <tbody>\n",
       "    <tr>\n",
       "      <th>0</th>\n",
       "      <td>male</td>\n",
       "      <td>6.71</td>\n",
       "    </tr>\n",
       "    <tr>\n",
       "      <th>1</th>\n",
       "      <td>male</td>\n",
       "      <td>5.19</td>\n",
       "    </tr>\n",
       "    <tr>\n",
       "      <th>3</th>\n",
       "      <td>male</td>\n",
       "      <td>4.59</td>\n",
       "    </tr>\n",
       "    <tr>\n",
       "      <th>4</th>\n",
       "      <td>male</td>\n",
       "      <td>3.28</td>\n",
       "    </tr>\n",
       "    <tr>\n",
       "      <th>8</th>\n",
       "      <td>male</td>\n",
       "      <td>0.73</td>\n",
       "    </tr>\n",
       "  </tbody>\n",
       "</table>\n",
       "</div>"
      ],
      "text/plain": [
       "    sex  suicides_100k\n",
       "0  male           6.71\n",
       "1  male           5.19\n",
       "3  male           4.59\n",
       "4  male           3.28\n",
       "8  male           0.73"
      ]
     },
     "execution_count": 31,
     "metadata": {},
     "output_type": "execute_result"
    }
   ],
   "source": [
    "print(males.size)\n",
    "males.head()"
   ]
  },
  {
   "cell_type": "code",
   "execution_count": 32,
   "metadata": {},
   "outputs": [
    {
     "name": "stdout",
     "output_type": "stream",
     "text": [
      "27820\n"
     ]
    },
    {
     "data": {
      "text/html": [
       "<div>\n",
       "<style scoped>\n",
       "    .dataframe tbody tr th:only-of-type {\n",
       "        vertical-align: middle;\n",
       "    }\n",
       "\n",
       "    .dataframe tbody tr th {\n",
       "        vertical-align: top;\n",
       "    }\n",
       "\n",
       "    .dataframe thead th {\n",
       "        text-align: right;\n",
       "    }\n",
       "</style>\n",
       "<table border=\"1\" class=\"dataframe\">\n",
       "  <thead>\n",
       "    <tr style=\"text-align: right;\">\n",
       "      <th></th>\n",
       "      <th>sex</th>\n",
       "      <th>suicides_100k</th>\n",
       "    </tr>\n",
       "  </thead>\n",
       "  <tbody>\n",
       "    <tr>\n",
       "      <th>2</th>\n",
       "      <td>female</td>\n",
       "      <td>4.83</td>\n",
       "    </tr>\n",
       "    <tr>\n",
       "      <th>5</th>\n",
       "      <td>female</td>\n",
       "      <td>2.81</td>\n",
       "    </tr>\n",
       "    <tr>\n",
       "      <th>6</th>\n",
       "      <td>female</td>\n",
       "      <td>2.15</td>\n",
       "    </tr>\n",
       "    <tr>\n",
       "      <th>7</th>\n",
       "      <td>female</td>\n",
       "      <td>1.56</td>\n",
       "    </tr>\n",
       "    <tr>\n",
       "      <th>9</th>\n",
       "      <td>female</td>\n",
       "      <td>0.00</td>\n",
       "    </tr>\n",
       "  </tbody>\n",
       "</table>\n",
       "</div>"
      ],
      "text/plain": [
       "      sex  suicides_100k\n",
       "2  female           4.83\n",
       "5  female           2.81\n",
       "6  female           2.15\n",
       "7  female           1.56\n",
       "9  female           0.00"
      ]
     },
     "execution_count": 32,
     "metadata": {},
     "output_type": "execute_result"
    }
   ],
   "source": [
    "print(females.size)\n",
    "females.head()"
   ]
  },
  {
   "cell_type": "code",
   "execution_count": 33,
   "metadata": {},
   "outputs": [],
   "source": [
    "#Sample size = 200 which is less than 10% of the population sizes (27,820)\n",
    "#This means samples will be independent. This will also account for skew in the population distribution.\n",
    "sample_size = 200\n",
    "male_samp = males.sample(sample_size)\n",
    "female_samp = females.sample(sample_size)"
   ]
  },
  {
   "cell_type": "code",
   "execution_count": 34,
   "metadata": {},
   "outputs": [
    {
     "data": {
      "image/png": "[encoded data removed]",
      "text/plain": [
       "<Figure size 720x432 with 2 Axes>"
      ]
     },
     "metadata": {
      "needs_background": "light"
     },
     "output_type": "display_data"
    }
   ],
   "source": [
    "fig, (ax1, ax2) = plt.subplots(2, 1, figsize=(10,6))\n",
    "ax1.hist(male_samp['suicides_100k'], bins=40, histtype='bar',color='green',alpha=0.6, label='male suicides')\n",
    "ax2.hist(female_samp['suicides_100k'], bins=40, histtype='bar',color='blue',alpha=0.8, label='female suicides')\n",
    "ax1.set(xlabel='Suicides in Samples', ylabel='Frequency', \n",
    "       title='Number of Suicides between Males and Females', xlim=[0,120], ylim=[0,60])\n",
    "ax2.set(xlabel='Suicides in Samples', ylabel='Frequency', xlim=[0,120], ylim=[0,60])\n",
    "plt.legend()\n",
    "plt.show();"
   ]
  },
  {
   "cell_type": "code",
   "execution_count": 35,
   "metadata": {},
   "outputs": [
    {
     "data": {
      "text/plain": [
       "array([  0.  ,   2.85, -17.99,  20.46,  -1.09,  26.71,  63.65,   0.  ,\n",
       "         0.7 ,  28.02,  -5.4 ,  -8.79, -13.7 ,   9.43,  28.67,  73.13,\n",
       "         7.06, -16.18,  11.11,  -0.45,  30.56,  25.22,  -2.74,  -5.5 ,\n",
       "        -1.97,  37.37,  -1.7 ,  15.87,   5.13, -20.48,  -4.22, -15.95,\n",
       "         0.2 ,   8.99, 114.35, -13.43,  46.13,   0.  ,  -6.27,  14.35,\n",
       "         7.2 ,  -3.76,  -7.37, -16.29,  57.51,  10.84,  68.77,  13.35,\n",
       "        -1.81,   1.48,   0.13,  -4.9 ,  22.03,  31.7 ,   5.44,  12.59,\n",
       "        14.97,  27.73,  25.76,  -5.55,  13.85,  27.45,   9.18, -15.8 ,\n",
       "        31.99,   2.84,  -0.31,   3.85,  15.4 ,  12.14,  11.45,  28.57,\n",
       "         0.  ,  -1.77,  -4.29,  11.76,  19.91, -11.19,   2.75,   6.66,\n",
       "        -0.88, -11.17,  17.34,  -6.21,  20.07,  10.54,  71.85,  -7.31,\n",
       "        10.05,  25.01,  18.38,  33.63,   5.85,   8.29,  85.56,  11.33,\n",
       "         9.21,  18.69,  -0.7 ,   5.71,  49.52,  37.83,  37.02,  41.08,\n",
       "         7.81,  85.59,  70.63,   5.61,  -8.5 , -18.35,   6.69,  17.69,\n",
       "        -3.98,  10.02,  51.43,  40.33,   7.17,  65.05,   5.97,  12.71,\n",
       "         0.26,  46.07,  15.77,   7.88,  15.86, -33.33,  98.06,  51.83,\n",
       "        -4.12,  32.43,   9.76,   4.98,  89.24,   0.51,   1.71,  22.68,\n",
       "        18.09,  43.53,  49.44,  -1.9 ,  12.97,  23.76,   5.97,  44.72,\n",
       "       -14.54,  17.08,  13.6 ,   5.55,  25.17,  19.04,  13.13,  16.79,\n",
       "        15.78,   7.31,  19.81,  -0.64,  -8.05,  17.02,  -1.47,  22.31,\n",
       "         7.58,  12.5 , -23.95,  32.78,   6.21,   0.33,  13.28,  28.25,\n",
       "         0.  ,   2.92,  27.84,  34.35,  16.19,  -3.66,  36.95, -13.5 ,\n",
       "         0.  , -15.69,  57.95,  -0.97,  28.18,  -6.08,  39.08,  -4.51,\n",
       "         5.37,  24.43, -12.49,   6.03,   6.73,   9.38,   4.46,  82.05,\n",
       "        51.67,  -4.14, -35.35,  16.46,  -1.08,  -0.51,  26.18,  80.23])"
      ]
     },
     "execution_count": 35,
     "metadata": {},
     "output_type": "execute_result"
    }
   ],
   "source": [
    "sdiff = male_samp['suicides_100k'].values - female_samp['suicides_100k'].values"
   ]
  },
  {
   "cell_type": "code",
   "execution_count": 36,
   "metadata": {},
   "outputs": [
    {
     "data": {
      "image/png": "[encoded data removed]",
      "text/plain": [
       "<Figure size 720x432 with 1 Axes>"
      ]
     },
     "metadata": {
      "needs_background": "light"
     },
     "output_type": "display_data"
    }
   ],
   "source": [
    "plt.figure(figsize=(10,6))\n",
    "plt.hist(sdiff, bins=40, histtype='bar', color='m', label='difference', alpha=0.8)\n",
    "plt.legend()\n",
    "plt.show();"
   ]
  },
  {
   "cell_type": "code",
   "execution_count": 37,
   "metadata": {},
   "outputs": [],
   "source": [
    "zstat, pvalue = ztest(x1=sdiff, value=0, alternative='larger')"
   ]
  },
  {
   "cell_type": "code",
   "execution_count": 38,
   "metadata": {},
   "outputs": [
    {
     "name": "stdout",
     "output_type": "stream",
     "text": [
      "Z-statistic = 8.55\n",
      "p-value =  6.02519864967057e-18\n"
     ]
    }
   ],
   "source": [
    "print('Z-statistic = %.2f' % zstat)\n",
    "print('p-value = ', pvalue)"
   ]
  },
  {
   "cell_type": "markdown",
   "metadata": {},
   "source": [
    "Since our p-value is significantly lower than our significance level of 0.05, we can reject the null hypothesis which says there's no difference in men and women average suicide rates. There is considerable evidence that men commit suicide more than women on average."
   ]
  },
  {
   "cell_type": "markdown",
   "metadata": {},
   "source": [
    "# Hypothesis 3: Generations vs Suicide"
   ]
  },
  {
   "cell_type": "code",
   "execution_count": 39,
   "metadata": {},
   "outputs": [
    {
     "data": {
      "text/html": [
       "<div>\n",
       "<style scoped>\n",
       "    .dataframe tbody tr th:only-of-type {\n",
       "        vertical-align: middle;\n",
       "    }\n",
       "\n",
       "    .dataframe tbody tr th {\n",
       "        vertical-align: top;\n",
       "    }\n",
       "\n",
       "    .dataframe thead th {\n",
       "        text-align: right;\n",
       "    }\n",
       "</style>\n",
       "<table border=\"1\" class=\"dataframe\">\n",
       "  <thead>\n",
       "    <tr style=\"text-align: right;\">\n",
       "      <th></th>\n",
       "      <th>suicides_100k</th>\n",
       "      <th>gen</th>\n",
       "    </tr>\n",
       "  </thead>\n",
       "  <tbody>\n",
       "    <tr>\n",
       "      <th>0</th>\n",
       "      <td>6.71</td>\n",
       "      <td>Generation X</td>\n",
       "    </tr>\n",
       "    <tr>\n",
       "      <th>1</th>\n",
       "      <td>5.19</td>\n",
       "      <td>Silent</td>\n",
       "    </tr>\n",
       "    <tr>\n",
       "      <th>2</th>\n",
       "      <td>4.83</td>\n",
       "      <td>Generation X</td>\n",
       "    </tr>\n",
       "    <tr>\n",
       "      <th>3</th>\n",
       "      <td>4.59</td>\n",
       "      <td>G.I. Generation</td>\n",
       "    </tr>\n",
       "    <tr>\n",
       "      <th>4</th>\n",
       "      <td>3.28</td>\n",
       "      <td>Boomers</td>\n",
       "    </tr>\n",
       "  </tbody>\n",
       "</table>\n",
       "</div>"
      ],
      "text/plain": [
       "   suicides_100k              gen\n",
       "0           6.71     Generation X\n",
       "1           5.19           Silent\n",
       "2           4.83     Generation X\n",
       "3           4.59  G.I. Generation\n",
       "4           3.28          Boomers"
      ]
     },
     "execution_count": 39,
     "metadata": {},
     "output_type": "execute_result"
    }
   ],
   "source": [
    "generations = suicides[['suicides_100k','gen']]\n",
    "generations.head()"
   ]
  },
  {
   "cell_type": "code",
   "execution_count": 40,
   "metadata": {},
   "outputs": [
    {
     "name": "stdout",
     "output_type": "stream",
     "text": [
      "<class 'pandas.core.frame.DataFrame'>\n",
      "RangeIndex: 27820 entries, 0 to 27819\n",
      "Data columns (total 2 columns):\n",
      "suicides_100k    27820 non-null float64\n",
      "gen              27820 non-null object\n",
      "dtypes: float64(1), object(1)\n",
      "memory usage: 434.8+ KB\n"
     ]
    }
   ],
   "source": [
    "generations.info()"
   ]
  },
  {
   "cell_type": "code",
   "execution_count": 41,
   "metadata": {},
   "outputs": [
    {
     "data": {
      "text/html": [
       "<div>\n",
       "<style scoped>\n",
       "    .dataframe tbody tr th:only-of-type {\n",
       "        vertical-align: middle;\n",
       "    }\n",
       "\n",
       "    .dataframe tbody tr th {\n",
       "        vertical-align: top;\n",
       "    }\n",
       "\n",
       "    .dataframe thead th {\n",
       "        text-align: right;\n",
       "    }\n",
       "</style>\n",
       "<table border=\"1\" class=\"dataframe\">\n",
       "  <thead>\n",
       "    <tr style=\"text-align: right;\">\n",
       "      <th></th>\n",
       "      <th>suicides_100k</th>\n",
       "      <th>gen</th>\n",
       "    </tr>\n",
       "  </thead>\n",
       "  <tbody>\n",
       "    <tr>\n",
       "      <th>1</th>\n",
       "      <td>5.19</td>\n",
       "      <td>Silent</td>\n",
       "    </tr>\n",
       "    <tr>\n",
       "      <th>3</th>\n",
       "      <td>4.59</td>\n",
       "      <td>G.I. Generation</td>\n",
       "    </tr>\n",
       "    <tr>\n",
       "      <th>4</th>\n",
       "      <td>3.28</td>\n",
       "      <td>Boomers</td>\n",
       "    </tr>\n",
       "    <tr>\n",
       "      <th>5</th>\n",
       "      <td>2.81</td>\n",
       "      <td>G.I. Generation</td>\n",
       "    </tr>\n",
       "    <tr>\n",
       "      <th>6</th>\n",
       "      <td>2.15</td>\n",
       "      <td>Silent</td>\n",
       "    </tr>\n",
       "  </tbody>\n",
       "</table>\n",
       "</div>"
      ],
      "text/plain": [
       "   suicides_100k              gen\n",
       "1           5.19           Silent\n",
       "3           4.59  G.I. Generation\n",
       "4           3.28          Boomers\n",
       "5           2.81  G.I. Generation\n",
       "6           2.15           Silent"
      ]
     },
     "execution_count": 41,
     "metadata": {},
     "output_type": "execute_result"
    }
   ],
   "source": [
    "old = generations[(generations['gen'] == 'Silent') | (generations['gen'] == 'Boomers') \\\n",
    "                     | (generations['gen'] == 'G.I. Generation')]\n",
    "old.head()"
   ]
  },
  {
   "cell_type": "code",
   "execution_count": 42,
   "metadata": {},
   "outputs": [
    {
     "name": "stdout",
     "output_type": "stream",
     "text": [
      "<class 'pandas.core.frame.DataFrame'>\n",
      "Int64Index: 14098 entries, 1 to 27819\n",
      "Data columns (total 2 columns):\n",
      "suicides_100k    14098 non-null float64\n",
      "gen              14098 non-null object\n",
      "dtypes: float64(1), object(1)\n",
      "memory usage: 330.4+ KB\n"
     ]
    }
   ],
   "source": [
    "old.info()"
   ]
  },
  {
   "cell_type": "code",
   "execution_count": 43,
   "metadata": {},
   "outputs": [
    {
     "data": {
      "text/html": [
       "<div>\n",
       "<style scoped>\n",
       "    .dataframe tbody tr th:only-of-type {\n",
       "        vertical-align: middle;\n",
       "    }\n",
       "\n",
       "    .dataframe tbody tr th {\n",
       "        vertical-align: top;\n",
       "    }\n",
       "\n",
       "    .dataframe thead th {\n",
       "        text-align: right;\n",
       "    }\n",
       "</style>\n",
       "<table border=\"1\" class=\"dataframe\">\n",
       "  <thead>\n",
       "    <tr style=\"text-align: right;\">\n",
       "      <th></th>\n",
       "      <th>suicides_100k</th>\n",
       "      <th>gen</th>\n",
       "    </tr>\n",
       "  </thead>\n",
       "  <tbody>\n",
       "    <tr>\n",
       "      <th>0</th>\n",
       "      <td>6.71</td>\n",
       "      <td>Generation X</td>\n",
       "    </tr>\n",
       "    <tr>\n",
       "      <th>2</th>\n",
       "      <td>4.83</td>\n",
       "      <td>Generation X</td>\n",
       "    </tr>\n",
       "    <tr>\n",
       "      <th>9</th>\n",
       "      <td>0.00</td>\n",
       "      <td>Generation X</td>\n",
       "    </tr>\n",
       "    <tr>\n",
       "      <th>11</th>\n",
       "      <td>0.00</td>\n",
       "      <td>Generation X</td>\n",
       "    </tr>\n",
       "    <tr>\n",
       "      <th>13</th>\n",
       "      <td>5.33</td>\n",
       "      <td>Generation X</td>\n",
       "    </tr>\n",
       "  </tbody>\n",
       "</table>\n",
       "</div>"
      ],
      "text/plain": [
       "    suicides_100k           gen\n",
       "0            6.71  Generation X\n",
       "2            4.83  Generation X\n",
       "9            0.00  Generation X\n",
       "11           0.00  Generation X\n",
       "13           5.33  Generation X"
      ]
     },
     "execution_count": 43,
     "metadata": {},
     "output_type": "execute_result"
    }
   ],
   "source": [
    "new = generations[(generations['gen'] == 'Generation Z') | (generations['gen'] == 'Generation X') \\\n",
    "                     | (generations['gen'] == 'Millenials')]\n",
    "new.head()"
   ]
  },
  {
   "cell_type": "code",
   "execution_count": 44,
   "metadata": {},
   "outputs": [
    {
     "name": "stdout",
     "output_type": "stream",
     "text": [
      "<class 'pandas.core.frame.DataFrame'>\n",
      "Int64Index: 13722 entries, 0 to 27818\n",
      "Data columns (total 2 columns):\n",
      "suicides_100k    13722 non-null float64\n",
      "gen              13722 non-null object\n",
      "dtypes: float64(1), object(1)\n",
      "memory usage: 321.6+ KB\n"
     ]
    }
   ],
   "source": [
    "new.info()"
   ]
  },
  {
   "cell_type": "code",
   "execution_count": 45,
   "metadata": {},
   "outputs": [],
   "source": [
    "#Condition 1: Sample size should be less than 10% of the population size to ensure independence. \n",
    "#(new: n < 1372.2, old: n < 1409.8)\n",
    "#Condition 2: Sample size should be greater than 100 to account for skew in population/sample. (n > 100)\n",
    "#Conclusion: Therefore 100 < n < 1372.2 or 1409.8. We will go with n = 200 since this is practical \n",
    "#and sufficiently far from our lower cutoff of 100.\n",
    "old_samp_size = 200\n",
    "new_samp_size = 200\n",
    "old_samp = generations.sample(old_samp_size)\n",
    "new_samp = generations.sample(new_samp_size)"
   ]
  },
  {
   "cell_type": "code",
   "execution_count": 46,
   "metadata": {},
   "outputs": [
    {
     "data": {
      "text/html": [
       "<div>\n",
       "<style scoped>\n",
       "    .dataframe tbody tr th:only-of-type {\n",
       "        vertical-align: middle;\n",
       "    }\n",
       "\n",
       "    .dataframe tbody tr th {\n",
       "        vertical-align: top;\n",
       "    }\n",
       "\n",
       "    .dataframe thead th {\n",
       "        text-align: right;\n",
       "    }\n",
       "</style>\n",
       "<table border=\"1\" class=\"dataframe\">\n",
       "  <thead>\n",
       "    <tr style=\"text-align: right;\">\n",
       "      <th></th>\n",
       "      <th>suicides_100k</th>\n",
       "      <th>gen</th>\n",
       "    </tr>\n",
       "  </thead>\n",
       "  <tbody>\n",
       "    <tr>\n",
       "      <th>5180</th>\n",
       "      <td>24.17</td>\n",
       "      <td>Boomers</td>\n",
       "    </tr>\n",
       "    <tr>\n",
       "      <th>13536</th>\n",
       "      <td>28.08</td>\n",
       "      <td>Generation X</td>\n",
       "    </tr>\n",
       "    <tr>\n",
       "      <th>12854</th>\n",
       "      <td>5.88</td>\n",
       "      <td>Generation X</td>\n",
       "    </tr>\n",
       "    <tr>\n",
       "      <th>19176</th>\n",
       "      <td>43.53</td>\n",
       "      <td>Boomers</td>\n",
       "    </tr>\n",
       "    <tr>\n",
       "      <th>22583</th>\n",
       "      <td>15.65</td>\n",
       "      <td>Boomers</td>\n",
       "    </tr>\n",
       "  </tbody>\n",
       "</table>\n",
       "</div>"
      ],
      "text/plain": [
       "       suicides_100k           gen\n",
       "5180           24.17       Boomers\n",
       "13536          28.08  Generation X\n",
       "12854           5.88  Generation X\n",
       "19176          43.53       Boomers\n",
       "22583          15.65       Boomers"
      ]
     },
     "execution_count": 46,
     "metadata": {},
     "output_type": "execute_result"
    }
   ],
   "source": [
    "old_samp.head()"
   ]
  },
  {
   "cell_type": "code",
   "execution_count": 47,
   "metadata": {},
   "outputs": [
    {
     "data": {
      "text/html": [
       "<div>\n",
       "<style scoped>\n",
       "    .dataframe tbody tr th:only-of-type {\n",
       "        vertical-align: middle;\n",
       "    }\n",
       "\n",
       "    .dataframe tbody tr th {\n",
       "        vertical-align: top;\n",
       "    }\n",
       "\n",
       "    .dataframe thead th {\n",
       "        text-align: right;\n",
       "    }\n",
       "</style>\n",
       "<table border=\"1\" class=\"dataframe\">\n",
       "  <thead>\n",
       "    <tr style=\"text-align: right;\">\n",
       "      <th></th>\n",
       "      <th>suicides_100k</th>\n",
       "      <th>gen</th>\n",
       "    </tr>\n",
       "  </thead>\n",
       "  <tbody>\n",
       "    <tr>\n",
       "      <th>16624</th>\n",
       "      <td>17.79</td>\n",
       "      <td>G.I. Generation</td>\n",
       "    </tr>\n",
       "    <tr>\n",
       "      <th>9327</th>\n",
       "      <td>37.88</td>\n",
       "      <td>Boomers</td>\n",
       "    </tr>\n",
       "    <tr>\n",
       "      <th>7502</th>\n",
       "      <td>58.72</td>\n",
       "      <td>Silent</td>\n",
       "    </tr>\n",
       "    <tr>\n",
       "      <th>4170</th>\n",
       "      <td>0.44</td>\n",
       "      <td>Generation Z</td>\n",
       "    </tr>\n",
       "    <tr>\n",
       "      <th>23843</th>\n",
       "      <td>7.92</td>\n",
       "      <td>Millenials</td>\n",
       "    </tr>\n",
       "  </tbody>\n",
       "</table>\n",
       "</div>"
      ],
      "text/plain": [
       "       suicides_100k              gen\n",
       "16624          17.79  G.I. Generation\n",
       "9327           37.88          Boomers\n",
       "7502           58.72           Silent\n",
       "4170            0.44     Generation Z\n",
       "23843           7.92       Millenials"
      ]
     },
     "execution_count": 47,
     "metadata": {},
     "output_type": "execute_result"
    }
   ],
   "source": [
    "new_samp.head()"
   ]
  },
  {
   "cell_type": "code",
   "execution_count": 48,
   "metadata": {},
   "outputs": [
    {
     "name": "stdout",
     "output_type": "stream",
     "text": [
      "<class 'pandas.core.frame.DataFrame'>\n",
      "Int64Index: 200 entries, 5180 to 4911\n",
      "Data columns (total 2 columns):\n",
      "suicides_100k    200 non-null float64\n",
      "gen              200 non-null object\n",
      "dtypes: float64(1), object(1)\n",
      "memory usage: 4.7+ KB\n",
      "<class 'pandas.core.frame.DataFrame'>\n",
      "Int64Index: 200 entries, 16624 to 4344\n",
      "Data columns (total 2 columns):\n",
      "suicides_100k    200 non-null float64\n",
      "gen              200 non-null object\n",
      "dtypes: float64(1), object(1)\n",
      "memory usage: 4.7+ KB\n"
     ]
    },
    {
     "data": {
      "text/plain": [
       "(None, None)"
      ]
     },
     "execution_count": 48,
     "metadata": {},
     "output_type": "execute_result"
    }
   ],
   "source": [
    "old_samp.info(), new_samp.info()"
   ]
  },
  {
   "cell_type": "code",
   "execution_count": 49,
   "metadata": {},
   "outputs": [
    {
     "data": {
      "text/plain": [
       "array([ 6.380e+00, -9.800e+00, -5.284e+01,  4.309e+01,  7.730e+00,\n",
       "        1.667e+01, -1.454e+01,  4.854e+01, -4.710e+00,  1.925e+01,\n",
       "        1.318e+01,  1.047e+01,  2.020e+00,  5.000e+00, -4.620e+00,\n",
       "        1.097e+01,  6.930e+01,  3.535e+01, -1.000e-01, -1.723e+01,\n",
       "        7.720e+00,  0.000e+00, -1.039e+01,  3.216e+01,  8.270e+00,\n",
       "        4.900e-01,  2.190e+00, -6.790e+00, -4.790e+00,  2.012e+01,\n",
       "       -3.980e+00, -2.404e+01, -2.442e+01, -5.558e+01,  2.560e+00,\n",
       "       -3.580e+00,  3.693e+01, -6.130e+00, -2.670e+00,  2.450e+00,\n",
       "        4.798e+01, -2.259e+01,  9.320e+00,  9.440e+00, -9.183e+01,\n",
       "        4.730e+00, -2.544e+01, -4.720e+00, -3.857e+01,  1.513e+01,\n",
       "        2.760e+00, -1.030e+01,  4.308e+01,  1.650e+00, -1.340e+00,\n",
       "        2.900e-01, -2.161e+01,  9.920e+00,  4.680e+00,  2.621e+01,\n",
       "        6.579e+01,  7.810e+00,  3.378e+01, -2.744e+01,  4.200e+00,\n",
       "        3.320e+00,  4.518e+01,  8.590e+00, -4.609e+01, -4.417e+01,\n",
       "        3.740e+00, -5.710e+00, -7.616e+01, -7.580e+00, -1.480e+00,\n",
       "       -1.147e+01,  1.109e+01,  1.060e+00,  5.142e+01,  0.000e+00,\n",
       "       -3.286e+01,  0.000e+00, -3.030e+00,  1.350e+00, -2.340e+01,\n",
       "        2.690e+00,  2.090e+00,  8.850e+00,  2.147e+01,  1.165e+01,\n",
       "       -1.338e+01,  3.860e+00, -2.572e+01, -4.150e+00, -3.480e+00,\n",
       "        3.561e+01, -4.100e-01, -1.770e+01, -2.920e+00,  2.356e+01,\n",
       "       -1.464e+01,  1.180e+00,  2.078e+01,  9.000e-01, -2.500e-01,\n",
       "        9.380e+00,  1.995e+01,  7.960e+00,  5.400e-01,  4.840e+00,\n",
       "       -1.224e+01, -1.621e+01, -3.500e-01, -1.248e+01,  1.230e+01,\n",
       "       -9.750e+00, -8.750e+00,  2.735e+01,  2.606e+01, -1.024e+01,\n",
       "       -5.760e+00, -2.916e+01,  1.058e+01, -3.811e+01, -5.250e+00,\n",
       "       -1.615e+01,  5.900e-01,  3.700e+00, -1.010e+01, -7.100e-01,\n",
       "        2.143e+01, -4.800e-01, -8.950e+00,  2.432e+01,  1.447e+01,\n",
       "       -9.930e+00, -1.556e+01, -6.110e+00, -1.169e+01, -7.860e+00,\n",
       "       -2.404e+01,  9.100e-01,  1.123e+01,  5.747e+01,  2.411e+01,\n",
       "        4.350e+00, -9.220e+00, -1.390e+01, -8.290e+00, -2.981e+01,\n",
       "        2.603e+01, -2.900e-01, -8.710e+00, -1.656e+01, -2.141e+01,\n",
       "       -6.270e+00,  2.365e+01,  1.434e+01, -7.353e+01, -9.960e+00,\n",
       "       -1.260e+00, -7.000e-02,  1.063e+01, -3.310e+00,  5.900e-01,\n",
       "        2.990e+00, -3.080e+01, -2.610e+00,  2.610e+01, -1.666e+01,\n",
       "       -2.513e+01,  3.780e+00, -2.640e+00, -1.436e+01,  1.150e+00,\n",
       "        6.200e-01,  6.250e+01,  1.368e+01, -1.915e+01,  2.570e+00,\n",
       "        5.293e+01,  3.720e+00,  2.400e-01, -1.312e+01, -4.010e+00,\n",
       "       -1.419e+01,  1.555e+01,  2.642e+01, -9.260e+00,  1.974e+01,\n",
       "        9.900e-01, -9.210e+00, -4.320e+00, -1.743e+01, -5.556e+01,\n",
       "        1.010e+00,  9.340e+00,  1.460e+00,  1.772e+01, -2.330e+00])"
      ]
     },
     "execution_count": 49,
     "metadata": {},
     "output_type": "execute_result"
    }
   ],
   "source": [
    "diff = old_samp['suicides_100k'].values - new_samp['suicides_100k'].values"
   ]
  },
  {
   "cell_type": "code",
   "execution_count": 50,
   "metadata": {},
   "outputs": [
    {
     "data": {
      "text/plain": [
       "0.18695000000000037"
      ]
     },
     "execution_count": 50,
     "metadata": {},
     "output_type": "execute_result"
    }
   ],
   "source": [
    "diff.mean()"
   ]
  },
  {
   "cell_type": "code",
   "execution_count": 51,
   "metadata": {},
   "outputs": [
    {
     "data": {
      "image/png": "[encoded data removed]",
      "text/plain": [
       "<Figure size 720x432 with 1 Axes>"
      ]
     },
     "metadata": {
      "needs_background": "light"
     },
     "output_type": "display_data"
    }
   ],
   "source": [
    "fig, ax = plt.subplots(1, 1, figsize=(10,6))\n",
    "ax.hist(diff,bins=30,histtype='bar',\n",
    "        label='gen suicides')\n",
    "plt.show();"
   ]
  },
  {
   "cell_type": "code",
   "execution_count": 52,
   "metadata": {},
   "outputs": [],
   "source": [
    "ztest = ztest(x1=old_samp['suicides_100k'].values,x2=new_samp['suicides_100k'].values,value=0,\n",
    "              alternative='larger')"
   ]
  },
  {
   "cell_type": "code",
   "execution_count": 53,
   "metadata": {},
   "outputs": [
    {
     "name": "stdout",
     "output_type": "stream",
     "text": [
      "Z-statistic = 0.12\n",
      "p-value = 0.4522\n"
     ]
    }
   ],
   "source": [
    "zstat, pvalue = ztest\n",
    "print('Z-statistic = %.2f' % zstat)\n",
    "print('p-value = %.4f' % pvalue)"
   ]
  },
  {
   "cell_type": "markdown",
   "metadata": {},
   "source": [
    "We see that our p-value is greater than 0.05 which means we fail to reject the null hypothesis in favor of the alternative hypothesis. We fail to find great evidence that the average suicide rate amongst younger people is greater than that in older generations. "
   ]
  },
  {
   "cell_type": "markdown",
   "metadata": {},
   "source": [
    "# Hypothesis 4: Age vs Suicide "
   ]
  },
  {
   "cell_type": "code",
   "execution_count": 54,
   "metadata": {},
   "outputs": [],
   "source": [
    "ages = suicides[['age','suicides_100k']].groupby('age').mean()"
   ]
  },
  {
   "cell_type": "code",
   "execution_count": 55,
   "metadata": {},
   "outputs": [
    {
     "data": {
      "text/html": [
       "<div>\n",
       "<style scoped>\n",
       "    .dataframe tbody tr th:only-of-type {\n",
       "        vertical-align: middle;\n",
       "    }\n",
       "\n",
       "    .dataframe tbody tr th {\n",
       "        vertical-align: top;\n",
       "    }\n",
       "\n",
       "    .dataframe thead th {\n",
       "        text-align: right;\n",
       "    }\n",
       "</style>\n",
       "<table border=\"1\" class=\"dataframe\">\n",
       "  <thead>\n",
       "    <tr style=\"text-align: right;\">\n",
       "      <th></th>\n",
       "      <th>suicides_100k</th>\n",
       "    </tr>\n",
       "    <tr>\n",
       "      <th>age</th>\n",
       "      <th></th>\n",
       "    </tr>\n",
       "  </thead>\n",
       "  <tbody>\n",
       "    <tr>\n",
       "      <th>15-24 years</th>\n",
       "      <td>8.947154</td>\n",
       "    </tr>\n",
       "    <tr>\n",
       "      <th>25-34 years</th>\n",
       "      <td>12.186885</td>\n",
       "    </tr>\n",
       "    <tr>\n",
       "      <th>35-54 years</th>\n",
       "      <td>14.947441</td>\n",
       "    </tr>\n",
       "    <tr>\n",
       "      <th>5-14 years</th>\n",
       "      <td>0.620041</td>\n",
       "    </tr>\n",
       "    <tr>\n",
       "      <th>55-74 years</th>\n",
       "      <td>16.155579</td>\n",
       "    </tr>\n",
       "    <tr>\n",
       "      <th>75+ years</th>\n",
       "      <td>23.955409</td>\n",
       "    </tr>\n",
       "  </tbody>\n",
       "</table>\n",
       "</div>"
      ],
      "text/plain": [
       "             suicides_100k\n",
       "age                       \n",
       "15-24 years       8.947154\n",
       "25-34 years      12.186885\n",
       "35-54 years      14.947441\n",
       "5-14 years        0.620041\n",
       "55-74 years      16.155579\n",
       "75+ years        23.955409"
      ]
     },
     "execution_count": 55,
     "metadata": {},
     "output_type": "execute_result"
    }
   ],
   "source": [
    "ages"
   ]
  },
  {
   "cell_type": "code",
   "execution_count": 56,
   "metadata": {},
   "outputs": [],
   "source": [
    "chistat = chisquare(ages['suicides_100k'].values)"
   ]
  },
  {
   "cell_type": "code",
   "execution_count": 57,
   "metadata": {},
   "outputs": [
    {
     "name": "stdout",
     "output_type": "stream",
     "text": [
      "Chi-2 statistic =  23.73724848793681\n",
      "Chi-2 p-value =  0.00024386176449992024\n"
     ]
    }
   ],
   "source": [
    "print(\"Chi-2 statistic = \", chistat.statistic)\n",
    "print(\"Chi-2 p-value = \", chistat.pvalue)"
   ]
  },
  {
   "cell_type": "markdown",
   "metadata": {},
   "source": [
    "We see that our p-value is less than the significance level of 0.05, which means we may reject the null hypothesis in favour of the alternate. So, it is more likely that there is a difference in average suicide rates in all 5 age groups. "
   ]
  },
  {
   "cell_type": "markdown",
   "metadata": {},
   "source": [
    "Notice that the age group 5-14 is a marked difference between all other age groups. This may be because adolescents are more influenced by elders in society. We may remove this age group and check whether there's a significant difference between the remaining 5 age groups (15-24, 25-34, 35-54, 55-74, 75+)."
   ]
  },
  {
   "cell_type": "code",
   "execution_count": 58,
   "metadata": {},
   "outputs": [
    {
     "data": {
      "text/html": [
       "<div>\n",
       "<style scoped>\n",
       "    .dataframe tbody tr th:only-of-type {\n",
       "        vertical-align: middle;\n",
       "    }\n",
       "\n",
       "    .dataframe tbody tr th {\n",
       "        vertical-align: top;\n",
       "    }\n",
       "\n",
       "    .dataframe thead th {\n",
       "        text-align: right;\n",
       "    }\n",
       "</style>\n",
       "<table border=\"1\" class=\"dataframe\">\n",
       "  <thead>\n",
       "    <tr style=\"text-align: right;\">\n",
       "      <th></th>\n",
       "      <th>suicides_100k</th>\n",
       "    </tr>\n",
       "    <tr>\n",
       "      <th>age</th>\n",
       "      <th></th>\n",
       "    </tr>\n",
       "  </thead>\n",
       "  <tbody>\n",
       "    <tr>\n",
       "      <th>15-24 years</th>\n",
       "      <td>8.947154</td>\n",
       "    </tr>\n",
       "    <tr>\n",
       "      <th>25-34 years</th>\n",
       "      <td>12.186885</td>\n",
       "    </tr>\n",
       "    <tr>\n",
       "      <th>35-54 years</th>\n",
       "      <td>14.947441</td>\n",
       "    </tr>\n",
       "    <tr>\n",
       "      <th>55-74 years</th>\n",
       "      <td>16.155579</td>\n",
       "    </tr>\n",
       "    <tr>\n",
       "      <th>75+ years</th>\n",
       "      <td>23.955409</td>\n",
       "    </tr>\n",
       "  </tbody>\n",
       "</table>\n",
       "</div>"
      ],
      "text/plain": [
       "             suicides_100k\n",
       "age                       \n",
       "15-24 years       8.947154\n",
       "25-34 years      12.186885\n",
       "35-54 years      14.947441\n",
       "55-74 years      16.155579\n",
       "75+ years        23.955409"
      ]
     },
     "execution_count": 58,
     "metadata": {},
     "output_type": "execute_result"
    }
   ],
   "source": [
    "ages_mod = ages.drop('5-14 years')\n",
    "ages_mod"
   ]
  },
  {
   "cell_type": "code",
   "execution_count": 59,
   "metadata": {},
   "outputs": [],
   "source": [
    "mchistat = chisquare(ages_mod['suicides_100k'].values)"
   ]
  },
  {
   "cell_type": "code",
   "execution_count": 60,
   "metadata": {},
   "outputs": [
    {
     "name": "stdout",
     "output_type": "stream",
     "text": [
      "Chi-2 statistic =  8.255648223994868\n",
      "Chi-2 p-value =  0.0826498150473027\n"
     ]
    }
   ],
   "source": [
    "print(\"Chi-2 statistic = \", mchistat.statistic)\n",
    "print(\"Chi-2 p-value = \", mchistat.pvalue)"
   ]
  },
  {
   "cell_type": "markdown",
   "metadata": {},
   "source": [
    "We see that in this case since the p-value is greater than 0.05, we fail to reject the null hypothesis. So it is more likely that there is little difference in average suicide rates between the 5 age groups excluding adolescents. "
   ]
  },
  {
   "cell_type": "markdown",
   "metadata": {},
   "source": [
    "# Hypothesis 5: Time vs Suicide"
   ]
  },
  {
   "cell_type": "code",
   "execution_count": 61,
   "metadata": {},
   "outputs": [
    {
     "name": "stdout",
     "output_type": "stream",
     "text": [
      "0    1987\n",
      "1    1987\n",
      "2    1987\n",
      "3    1987\n",
      "4    1987\n",
      "Name: yr, dtype: int64 27683    2000\n",
      "27684    2000\n",
      "27685    2000\n",
      "27686    2000\n",
      "27687    2000\n",
      "Name: yr, dtype: int64\n",
      "144    2001\n",
      "145    2001\n",
      "146    2001\n",
      "147    2001\n",
      "148    2001\n",
      "Name: yr, dtype: int64 27815    2014\n",
      "27816    2014\n",
      "27817    2014\n",
      "27818    2014\n",
      "27819    2014\n",
      "Name: yr, dtype: int64\n"
     ]
    }
   ],
   "source": [
    "past = suicides[(suicides['yr'] >= 1987) & (suicides['yr'] < 2001)]\n",
    "print(past['yr'].head(), past['yr'].tail())\n",
    "recent = suicides[(suicides['yr'] >= 2001) & (suicides['yr'] < 2015)]\n",
    "print(recent['yr'].head(), recent['yr'].tail())"
   ]
  },
  {
   "cell_type": "code",
   "execution_count": 62,
   "metadata": {},
   "outputs": [
    {
     "name": "stdout",
     "output_type": "stream",
     "text": [
      "<class 'pandas.core.frame.DataFrame'>\n",
      "Int64Index: 11532 entries, 0 to 27687\n",
      "Data columns (total 12 columns):\n",
      "country          11532 non-null object\n",
      "yr               11532 non-null int64\n",
      "sex              11532 non-null object\n",
      "age              11532 non-null object\n",
      "suicides_no      11532 non-null int64\n",
      "population       11532 non-null int64\n",
      "suicides_100k    11532 non-null float64\n",
      "country_yr       11532 non-null object\n",
      "HDI_yr           2268 non-null float64\n",
      "gdp_yr           11532 non-null object\n",
      "gdp_pc           11532 non-null int64\n",
      "gen              11532 non-null object\n",
      "dtypes: float64(2), int64(4), object(6)\n",
      "memory usage: 1.1+ MB\n"
     ]
    }
   ],
   "source": [
    "past.info()"
   ]
  },
  {
   "cell_type": "code",
   "execution_count": 63,
   "metadata": {},
   "outputs": [
    {
     "name": "stdout",
     "output_type": "stream",
     "text": [
      "<class 'pandas.core.frame.DataFrame'>\n",
      "Int64Index: 14232 entries, 144 to 27819\n",
      "Data columns (total 12 columns):\n",
      "country          14232 non-null object\n",
      "yr               14232 non-null int64\n",
      "sex              14232 non-null object\n",
      "age              14232 non-null object\n",
      "suicides_no      14232 non-null int64\n",
      "population       14232 non-null int64\n",
      "suicides_100k    14232 non-null float64\n",
      "country_yr       14232 non-null object\n",
      "HDI_yr           5652 non-null float64\n",
      "gdp_yr           14232 non-null object\n",
      "gdp_pc           14232 non-null int64\n",
      "gen              14232 non-null object\n",
      "dtypes: float64(2), int64(4), object(6)\n",
      "memory usage: 1.4+ MB\n"
     ]
    }
   ],
   "source": [
    "recent.info()"
   ]
  },
  {
   "cell_type": "code",
   "execution_count": 64,
   "metadata": {},
   "outputs": [],
   "source": [
    "#We want to take samples less than 1153.2 for past, and less than 1423.2 for recent (to ensure independence)\n",
    "#Number of observations in sample should be > 100 to account for possible skew in population.\n",
    "#We take 300 samples from each category just to be certain we can account for the skew.\n",
    "sample_size = 300\n",
    "past_samp = np.random.choice(past['suicides_100k'].values,sample_size)\n",
    "recent_samp = np.random.choice(recent['suicides_100k'].values,sample_size)"
   ]
  },
  {
   "cell_type": "code",
   "execution_count": 65,
   "metadata": {},
   "outputs": [
    {
     "data": {
      "text/plain": [
       "14.6465"
      ]
     },
     "execution_count": 65,
     "metadata": {},
     "output_type": "execute_result"
    }
   ],
   "source": [
    "past_samp.mean()"
   ]
  },
  {
   "cell_type": "code",
   "execution_count": 66,
   "metadata": {},
   "outputs": [
    {
     "data": {
      "image/png": "[encoded data removed]",
      "text/plain": [
       "<Figure size 720x432 with 2 Axes>"
      ]
     },
     "metadata": {
      "needs_background": "light"
     },
     "output_type": "display_data"
    }
   ],
   "source": [
    "fig, ax = plt.subplots(1, 2, figsize=(10,6))\n",
    "ax[0].hist(past_samp, bins=25, histtype='bar', color='green')\n",
    "ax[0].set(xlabel='Bins', ylabel='Past Sample Frequency', title='Frequency of Suicides in Past Sample')\n",
    "ax[1].hist(recent_samp, bins=25, histtype='bar', color='blue')\n",
    "ax[1].set(xlabel='Bins', ylabel='Recent Sample Frequency', title='Frequency of Suicides in Recent Sample');"
   ]
  },
  {
   "cell_type": "markdown",
   "metadata": {},
   "source": [
    "We see a high amount of skew to the right for both past and recent categories. However, since our sample size is 300, we may ignore this skew in the samples."
   ]
  },
  {
   "cell_type": "code",
   "execution_count": 68,
   "metadata": {},
   "outputs": [
    {
     "data": {
      "image/png": "[encoded data removed]",
      "text/plain": [
       "<Figure size 720x432 with 1 Axes>"
      ]
     },
     "metadata": {
      "needs_background": "light"
     },
     "output_type": "display_data"
    }
   ],
   "source": [
    "fig, ax = plt.subplots(1, 1, figsize=(10,6))\n",
    "ax.hist(past_samp - recent_samp, bins=50, histtype='bar', color='red',\n",
    "         alpha=0.7, label='Difference')\n",
    "ax.set(xlabel='Bins',ylabel='Frequency',title='Difference between Past and Recent Suicide Groups')\n",
    "plt.legend();"
   ]
  },
  {
   "cell_type": "code",
   "execution_count": null,
   "metadata": {},
   "outputs": [],
   "source": [
    "#We want to take our recent sample and compare against the past sample\n",
    "#The past sample's mean is taken as the null value\n",
    "#We want to check whether the recent sample's mean is \"larger\" than the past sample's mean\n",
    "zstat,pval = ztest(x1=recent_samp,value=past_samp.mean(),alternative='larger')"
   ]
  },
  {
   "cell_type": "code",
   "execution_count": null,
   "metadata": {},
   "outputs": [],
   "source": [
    "print(\"Z-statistic = \", zstat)\n",
    "print(\"P-value = \", pval)"
   ]
  },
  {
   "cell_type": "markdown",
   "metadata": {},
   "source": [
    "Since the p-value is much greater than alpha=0.05 (first run gave p=0.8795), we fail to reject the null hypothesis. So, there isn't enough evidence to suggest that the average suicide rate across the world has gone up in the recent decades (2001-2015) and so is more than that of the past decades (1985-2000). "
   ]
  }
 ],
 "metadata": {
  "kernelspec": {
   "display_name": "Python 3",
   "language": "python",
   "name": "python3"
  },
  "language_info": {
   "codemirror_mode": {
    "name": "ipython",
    "version": 3
   },
   "file_extension": ".py",
   "mimetype": "text/x-python",
   "name": "python",
   "nbconvert_exporter": "python",
   "pygments_lexer": "ipython3",
   "version": "3.5.5"
  }
 },
 "nbformat": 4,
 "nbformat_minor": 2
}
