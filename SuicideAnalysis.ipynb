{
 "cells": [
  {
   "cell_type": "markdown",
   "metadata": {},
   "source": [
    "# Step 1: The Hypotheses"
   ]
  },
  {
   "cell_type": "markdown",
   "metadata": {},
   "source": [
    "## Hypothesis 1: GDP Per Capita vs Suicide"
   ]
  },
  {
   "cell_type": "markdown",
   "metadata": {},
   "source": [
    "There's this endless debate between people who are advocates of the \"money brings happiness\" philosophy and their opponents, the \"money's just a number\" proponents. Let's put these two statements to the test. If it is true that money brings happiness, then as GDP per capita goes up, the number of suicides will go down. We can randomly sample the population and see what the trend is in our sample.\n",
    "\n",
    "In order to do this, we need to divide our population into two sectors: the high GDP per capita sector and the low GDP per capita sector. From these two we can proceed to randomly sample the number of suicides in each group. \n",
    "\n",
    "The above is my reasoning thus far. So, let me lay out my alternate and null hypotheses as follows:\n",
    "\n",
    "Alternate Hypothesis: Citizens from lower gdp per capita group are more prone to suicide than those in the higher gdp per capita group on average. $\\mu_l$ - $\\mu_{h}$ > 0  (exciting, new claim!)\n",
    "\n",
    "Null Hypothesis: The suicide rates between the two groups is the same on average. $\\mu_l$ - $\\mu_h$ = 0 (no difference!)"
   ]
  },
  {
   "cell_type": "markdown",
   "metadata": {},
   "source": [
    "## Hypothesis 2: Sex vs Suicide "
   ]
  },
  {
   "cell_type": "markdown",
   "metadata": {},
   "source": [
    "I am curious to know - are men or women more likely to commit suicide? It would be interesting indeed if we found that say men committed suicide on average more than women. If so, I wonder what the cause of that would be?\n",
    "\n",
    "I will construct the following 1-sided hypotheses to test this:\n",
    "\n",
    "Alternate Hypothesis: The average suicide rate of men higher than that in women. $$\\mu_{men}-\\mu_{women} > 0$$\n",
    "\n",
    "Null Hypothesis: There is no difference between the number of men and number of women who commit suicide. $$\\mu_{men}-\\mu_{women} = 0$$"
   ]
  },
  {
   "cell_type": "markdown",
   "metadata": {},
   "source": [
    "## Hypothesis 3: Generation vs Suicide "
   ]
  },
  {
   "cell_type": "markdown",
   "metadata": {},
   "source": [
    "Did past generations have more suicides compared to current generations? I've been hearing that suicide rates have been going up. If this is true then the past generations would have lower suicide rates than current generations. So, based on this premise, I'm going to construct my hypotheses like this:\n",
    "\n",
    "Alternate Hypothesis: The average suicide rate among current generations (Gen X, Millenials, Gen Z) is more than that in previous generations (Silent, G.I., Boomers) (whoa! Cool!). $\\mu_{new} - \\mu_{old} > 0$\n",
    "\n",
    "Null Hypothesis: The average suicide rate among current generations is the same as suicide rates in previous generations (no difference bro!). $\\mu_{new} - \\mu_{old} = 0$"
   ]
  },
  {
   "cell_type": "markdown",
   "metadata": {},
   "source": [
    "## Hypothesis 4: Age vs Suicide "
   ]
  },
  {
   "cell_type": "markdown",
   "metadata": {},
   "source": [
    "Does age affect suicide? Do younger people commit suicide more than older folks? Or is it the other way around? \n",
    "\n",
    "The data is already divided by age group, so we can put forth the below hypotheses:\n",
    "\n",
    "Alternate Hypothesis: The average suicide rates among the various age groups are different (new! exciting!).\n",
    "\n",
    "Null Hypothesis: The average suicide rates among the various age groups is the same (no difference bro!)."
   ]
  },
  {
   "cell_type": "markdown",
   "metadata": {},
   "source": [
    "## Hypothesis 5: Time vs Suicide "
   ]
  },
  {
   "cell_type": "markdown",
   "metadata": {},
   "source": [
    "As we go through time, is suicide increasing? Or is it decreasing? I've heard that suicide rates have been increasing. Let's put this to the test.\n",
    "\n",
    "Alternate Hypothesis: The average suicide rate of the population in recent years (2001 - 2016) is more than the average suicide rate in past years (1985 - 2000) ($\\mu_{recent}$ > $\\mu_{past}$ or $\\mu_{recent}$ - $\\mu_{past}$ > 0)\n",
    "\n",
    "Null Hypothesis: The average suicide rate of the population in recent years (2001 - 2016) is the same as the average suicide rate in past years (1985 - 2000) ($\\mu_{recent}$ = $\\mu_{past}$ or $\\mu_{recent}$ - $\\mu_{past}$ = 0)"
   ]
  },
  {
   "cell_type": "markdown",
   "metadata": {},
   "source": [
    "# Step 2: Retrieving the Data "
   ]
  },
  {
   "cell_type": "code",
   "execution_count": 1,
   "metadata": {},
   "outputs": [],
   "source": [
    "import pandas as pd\n",
    "import numpy as np\n",
    "import matplotlib.pyplot as plt\n",
    "from statsmodels.stats.weightstats import ztest\n",
    "from statsmodels.stats.proportion import proportions_ztest\n",
    "from statsmodels.graphics.gofplots import qqplot\n",
    "from scipy.stats import chi2, chisquare\n",
    "from IPython.core.debugger import set_trace"
   ]
  },
  {
   "cell_type": "code",
   "execution_count": 2,
   "metadata": {},
   "outputs": [],
   "source": [
    "#Read from the master.csv file and put into a dataframe\n",
    "suicides = pd.read_csv('master.csv',sep=',',header=0,names=['country','yr','sex','age','suicides_no',\n",
    "                                                            'population','suicides_100k','country_yr',\n",
    "                                                            'HDI_yr','gdp_yr','gdp_pc','gen'])"
   ]
  },
  {
   "cell_type": "code",
   "execution_count": 3,
   "metadata": {},
   "outputs": [
    {
     "data": {
      "text/html": [
       "<div>\n",
       "<style scoped>\n",
       "    .dataframe tbody tr th:only-of-type {\n",
       "        vertical-align: middle;\n",
       "    }\n",
       "\n",
       "    .dataframe tbody tr th {\n",
       "        vertical-align: top;\n",
       "    }\n",
       "\n",
       "    .dataframe thead th {\n",
       "        text-align: right;\n",
       "    }\n",
       "</style>\n",
       "<table border=\"1\" class=\"dataframe\">\n",
       "  <thead>\n",
       "    <tr style=\"text-align: right;\">\n",
       "      <th></th>\n",
       "      <th>country</th>\n",
       "      <th>yr</th>\n",
       "      <th>sex</th>\n",
       "      <th>age</th>\n",
       "      <th>suicides_no</th>\n",
       "      <th>population</th>\n",
       "      <th>suicides_100k</th>\n",
       "      <th>country_yr</th>\n",
       "      <th>HDI_yr</th>\n",
       "      <th>gdp_yr</th>\n",
       "      <th>gdp_pc</th>\n",
       "      <th>gen</th>\n",
       "    </tr>\n",
       "  </thead>\n",
       "  <tbody>\n",
       "    <tr>\n",
       "      <th>0</th>\n",
       "      <td>Albania</td>\n",
       "      <td>1987</td>\n",
       "      <td>male</td>\n",
       "      <td>15-24 years</td>\n",
       "      <td>21</td>\n",
       "      <td>312900</td>\n",
       "      <td>6.71</td>\n",
       "      <td>Albania1987</td>\n",
       "      <td>NaN</td>\n",
       "      <td>2,156,624,900</td>\n",
       "      <td>796</td>\n",
       "      <td>Generation X</td>\n",
       "    </tr>\n",
       "    <tr>\n",
       "      <th>1</th>\n",
       "      <td>Albania</td>\n",
       "      <td>1987</td>\n",
       "      <td>male</td>\n",
       "      <td>35-54 years</td>\n",
       "      <td>16</td>\n",
       "      <td>308000</td>\n",
       "      <td>5.19</td>\n",
       "      <td>Albania1987</td>\n",
       "      <td>NaN</td>\n",
       "      <td>2,156,624,900</td>\n",
       "      <td>796</td>\n",
       "      <td>Silent</td>\n",
       "    </tr>\n",
       "    <tr>\n",
       "      <th>2</th>\n",
       "      <td>Albania</td>\n",
       "      <td>1987</td>\n",
       "      <td>female</td>\n",
       "      <td>15-24 years</td>\n",
       "      <td>14</td>\n",
       "      <td>289700</td>\n",
       "      <td>4.83</td>\n",
       "      <td>Albania1987</td>\n",
       "      <td>NaN</td>\n",
       "      <td>2,156,624,900</td>\n",
       "      <td>796</td>\n",
       "      <td>Generation X</td>\n",
       "    </tr>\n",
       "    <tr>\n",
       "      <th>3</th>\n",
       "      <td>Albania</td>\n",
       "      <td>1987</td>\n",
       "      <td>male</td>\n",
       "      <td>75+ years</td>\n",
       "      <td>1</td>\n",
       "      <td>21800</td>\n",
       "      <td>4.59</td>\n",
       "      <td>Albania1987</td>\n",
       "      <td>NaN</td>\n",
       "      <td>2,156,624,900</td>\n",
       "      <td>796</td>\n",
       "      <td>G.I. Generation</td>\n",
       "    </tr>\n",
       "    <tr>\n",
       "      <th>4</th>\n",
       "      <td>Albania</td>\n",
       "      <td>1987</td>\n",
       "      <td>male</td>\n",
       "      <td>25-34 years</td>\n",
       "      <td>9</td>\n",
       "      <td>274300</td>\n",
       "      <td>3.28</td>\n",
       "      <td>Albania1987</td>\n",
       "      <td>NaN</td>\n",
       "      <td>2,156,624,900</td>\n",
       "      <td>796</td>\n",
       "      <td>Boomers</td>\n",
       "    </tr>\n",
       "  </tbody>\n",
       "</table>\n",
       "</div>"
      ],
      "text/plain": [
       "   country    yr     sex          age  suicides_no  population  suicides_100k  \\\n",
       "0  Albania  1987    male  15-24 years           21      312900           6.71   \n",
       "1  Albania  1987    male  35-54 years           16      308000           5.19   \n",
       "2  Albania  1987  female  15-24 years           14      289700           4.83   \n",
       "3  Albania  1987    male    75+ years            1       21800           4.59   \n",
       "4  Albania  1987    male  25-34 years            9      274300           3.28   \n",
       "\n",
       "    country_yr  HDI_yr         gdp_yr  gdp_pc              gen  \n",
       "0  Albania1987     NaN  2,156,624,900     796     Generation X  \n",
       "1  Albania1987     NaN  2,156,624,900     796           Silent  \n",
       "2  Albania1987     NaN  2,156,624,900     796     Generation X  \n",
       "3  Albania1987     NaN  2,156,624,900     796  G.I. Generation  \n",
       "4  Albania1987     NaN  2,156,624,900     796          Boomers  "
      ]
     },
     "execution_count": 3,
     "metadata": {},
     "output_type": "execute_result"
    }
   ],
   "source": [
    "#Check the first 5 entries in dataframe\n",
    "suicides.head()"
   ]
  },
  {
   "cell_type": "code",
   "execution_count": 4,
   "metadata": {},
   "outputs": [
    {
     "name": "stdout",
     "output_type": "stream",
     "text": [
      "<class 'pandas.core.frame.DataFrame'>\n",
      "RangeIndex: 27820 entries, 0 to 27819\n",
      "Data columns (total 12 columns):\n",
      "country          27820 non-null object\n",
      "yr               27820 non-null int64\n",
      "sex              27820 non-null object\n",
      "age              27820 non-null object\n",
      "suicides_no      27820 non-null int64\n",
      "population       27820 non-null int64\n",
      "suicides_100k    27820 non-null float64\n",
      "country_yr       27820 non-null object\n",
      "HDI_yr           8364 non-null float64\n",
      "gdp_yr           27820 non-null object\n",
      "gdp_pc           27820 non-null int64\n",
      "gen              27820 non-null object\n",
      "dtypes: float64(2), int64(4), object(6)\n",
      "memory usage: 2.5+ MB\n"
     ]
    }
   ],
   "source": [
    "suicides.info()"
   ]
  },
  {
   "cell_type": "code",
   "execution_count": 5,
   "metadata": {},
   "outputs": [
    {
     "data": {
      "text/plain": [
       "(27820, 12)"
      ]
     },
     "execution_count": 5,
     "metadata": {},
     "output_type": "execute_result"
    }
   ],
   "source": [
    "suicides.shape"
   ]
  },
  {
   "cell_type": "markdown",
   "metadata": {},
   "source": [
    "# Step 3: Testing the Hypotheses "
   ]
  },
  {
   "cell_type": "markdown",
   "metadata": {},
   "source": [
    "## Hypothesis 1: GDP Per Capita versus Suicide "
   ]
  },
  {
   "cell_type": "markdown",
   "metadata": {},
   "source": [
    "Method 1: Take the max GDP per capita, take the min GDP per capita and compute (max - min) / 2. This will give us a \"naive\" boundary between the two groups for now. "
   ]
  },
  {
   "cell_type": "code",
   "execution_count": 6,
   "metadata": {},
   "outputs": [],
   "source": [
    "#Let's do a groupby on gdp per capita and see how many total suicides there are\n",
    "gdp_pc_grouped = suicides.groupby('gdp_pc')[['suicides_100k']].sum()"
   ]
  },
  {
   "cell_type": "code",
   "execution_count": 7,
   "metadata": {},
   "outputs": [
    {
     "data": {
      "text/html": [
       "<div>\n",
       "<style scoped>\n",
       "    .dataframe tbody tr th:only-of-type {\n",
       "        vertical-align: middle;\n",
       "    }\n",
       "\n",
       "    .dataframe tbody tr th {\n",
       "        vertical-align: top;\n",
       "    }\n",
       "\n",
       "    .dataframe thead th {\n",
       "        text-align: right;\n",
       "    }\n",
       "</style>\n",
       "<table border=\"1\" class=\"dataframe\">\n",
       "  <thead>\n",
       "    <tr style=\"text-align: right;\">\n",
       "      <th></th>\n",
       "      <th>suicides_100k</th>\n",
       "    </tr>\n",
       "    <tr>\n",
       "      <th>gdp_pc</th>\n",
       "      <th></th>\n",
       "    </tr>\n",
       "  </thead>\n",
       "  <tbody>\n",
       "    <tr>\n",
       "      <th>251</th>\n",
       "      <td>18.00</td>\n",
       "    </tr>\n",
       "    <tr>\n",
       "      <th>291</th>\n",
       "      <td>191.44</td>\n",
       "    </tr>\n",
       "    <tr>\n",
       "      <th>313</th>\n",
       "      <td>182.63</td>\n",
       "    </tr>\n",
       "    <tr>\n",
       "      <th>345</th>\n",
       "      <td>193.30</td>\n",
       "    </tr>\n",
       "    <tr>\n",
       "      <th>357</th>\n",
       "      <td>51.05</td>\n",
       "    </tr>\n",
       "  </tbody>\n",
       "</table>\n",
       "</div>"
      ],
      "text/plain": [
       "        suicides_100k\n",
       "gdp_pc               \n",
       "251             18.00\n",
       "291            191.44\n",
       "313            182.63\n",
       "345            193.30\n",
       "357             51.05"
      ]
     },
     "execution_count": 7,
     "metadata": {},
     "output_type": "execute_result"
    }
   ],
   "source": [
    "#Display first 5 entries\n",
    "gdp_pc_grouped.head()"
   ]
  },
  {
   "cell_type": "code",
   "execution_count": 8,
   "metadata": {},
   "outputs": [],
   "source": [
    "#Reset index\n",
    "gdp_pc_grouped = gdp_pc_grouped.reset_index()"
   ]
  },
  {
   "cell_type": "code",
   "execution_count": 9,
   "metadata": {},
   "outputs": [
    {
     "data": {
      "text/html": [
       "<div>\n",
       "<style scoped>\n",
       "    .dataframe tbody tr th:only-of-type {\n",
       "        vertical-align: middle;\n",
       "    }\n",
       "\n",
       "    .dataframe tbody tr th {\n",
       "        vertical-align: top;\n",
       "    }\n",
       "\n",
       "    .dataframe thead th {\n",
       "        text-align: right;\n",
       "    }\n",
       "</style>\n",
       "<table border=\"1\" class=\"dataframe\">\n",
       "  <thead>\n",
       "    <tr style=\"text-align: right;\">\n",
       "      <th></th>\n",
       "      <th>gdp_pc</th>\n",
       "      <th>suicides_100k</th>\n",
       "    </tr>\n",
       "  </thead>\n",
       "  <tbody>\n",
       "    <tr>\n",
       "      <th>0</th>\n",
       "      <td>251</td>\n",
       "      <td>18.00</td>\n",
       "    </tr>\n",
       "    <tr>\n",
       "      <th>1</th>\n",
       "      <td>291</td>\n",
       "      <td>191.44</td>\n",
       "    </tr>\n",
       "    <tr>\n",
       "      <th>2</th>\n",
       "      <td>313</td>\n",
       "      <td>182.63</td>\n",
       "    </tr>\n",
       "    <tr>\n",
       "      <th>3</th>\n",
       "      <td>345</td>\n",
       "      <td>193.30</td>\n",
       "    </tr>\n",
       "    <tr>\n",
       "      <th>4</th>\n",
       "      <td>357</td>\n",
       "      <td>51.05</td>\n",
       "    </tr>\n",
       "  </tbody>\n",
       "</table>\n",
       "</div>"
      ],
      "text/plain": [
       "   gdp_pc  suicides_100k\n",
       "0     251          18.00\n",
       "1     291         191.44\n",
       "2     313         182.63\n",
       "3     345         193.30\n",
       "4     357          51.05"
      ]
     },
     "execution_count": 9,
     "metadata": {},
     "output_type": "execute_result"
    }
   ],
   "source": [
    "#Check first 5 entries again\n",
    "gdp_pc_grouped.head()"
   ]
  },
  {
   "cell_type": "code",
   "execution_count": 10,
   "metadata": {},
   "outputs": [],
   "source": [
    "gdp_mean = gdp_pc_grouped.mean()[0]"
   ]
  },
  {
   "cell_type": "code",
   "execution_count": 11,
   "metadata": {},
   "outputs": [
    {
     "data": {
      "text/plain": [
       "17283.135691894313"
      ]
     },
     "execution_count": 11,
     "metadata": {},
     "output_type": "execute_result"
    }
   ],
   "source": [
    "gdp_mean"
   ]
  },
  {
   "cell_type": "code",
   "execution_count": 12,
   "metadata": {},
   "outputs": [],
   "source": [
    "#Engineer a new binary column called \"gdp_pc_hilo\" which shows 1 = high gdp, 0 = low gdp\n",
    "gdp_pc_grouped['gdp_pc_hilo'] = gdp_pc_grouped.gdp_pc.apply(lambda x : 0 if x < gdp_mean else 1)"
   ]
  },
  {
   "cell_type": "code",
   "execution_count": 13,
   "metadata": {
    "scrolled": true
   },
   "outputs": [
    {
     "data": {
      "text/html": [
       "<div>\n",
       "<style scoped>\n",
       "    .dataframe tbody tr th:only-of-type {\n",
       "        vertical-align: middle;\n",
       "    }\n",
       "\n",
       "    .dataframe tbody tr th {\n",
       "        vertical-align: top;\n",
       "    }\n",
       "\n",
       "    .dataframe thead th {\n",
       "        text-align: right;\n",
       "    }\n",
       "</style>\n",
       "<table border=\"1\" class=\"dataframe\">\n",
       "  <thead>\n",
       "    <tr style=\"text-align: right;\">\n",
       "      <th></th>\n",
       "      <th>gdp_pc</th>\n",
       "      <th>suicides_100k</th>\n",
       "      <th>gdp_pc_hilo</th>\n",
       "    </tr>\n",
       "  </thead>\n",
       "  <tbody>\n",
       "    <tr>\n",
       "      <th>1439</th>\n",
       "      <td>17299</td>\n",
       "      <td>139.08</td>\n",
       "      <td>1</td>\n",
       "    </tr>\n",
       "    <tr>\n",
       "      <th>1440</th>\n",
       "      <td>17349</td>\n",
       "      <td>99.19</td>\n",
       "      <td>1</td>\n",
       "    </tr>\n",
       "    <tr>\n",
       "      <th>1441</th>\n",
       "      <td>17387</td>\n",
       "      <td>143.68</td>\n",
       "      <td>1</td>\n",
       "    </tr>\n",
       "    <tr>\n",
       "      <th>1442</th>\n",
       "      <td>17395</td>\n",
       "      <td>0.00</td>\n",
       "      <td>1</td>\n",
       "    </tr>\n",
       "    <tr>\n",
       "      <th>1443</th>\n",
       "      <td>17415</td>\n",
       "      <td>405.88</td>\n",
       "      <td>1</td>\n",
       "    </tr>\n",
       "  </tbody>\n",
       "</table>\n",
       "</div>"
      ],
      "text/plain": [
       "      gdp_pc  suicides_100k  gdp_pc_hilo\n",
       "1439   17299         139.08            1\n",
       "1440   17349          99.19            1\n",
       "1441   17387         143.68            1\n",
       "1442   17395           0.00            1\n",
       "1443   17415         405.88            1"
      ]
     },
     "execution_count": 13,
     "metadata": {},
     "output_type": "execute_result"
    }
   ],
   "source": [
    "#Get the high group into a separate dataframe\n",
    "high_group = gdp_pc_grouped[gdp_pc_grouped['gdp_pc_hilo'] == 1]\n",
    "high_group.head()"
   ]
  },
  {
   "cell_type": "code",
   "execution_count": 14,
   "metadata": {},
   "outputs": [
    {
     "data": {
      "text/html": [
       "<div>\n",
       "<style scoped>\n",
       "    .dataframe tbody tr th:only-of-type {\n",
       "        vertical-align: middle;\n",
       "    }\n",
       "\n",
       "    .dataframe tbody tr th {\n",
       "        vertical-align: top;\n",
       "    }\n",
       "\n",
       "    .dataframe thead th {\n",
       "        text-align: right;\n",
       "    }\n",
       "</style>\n",
       "<table border=\"1\" class=\"dataframe\">\n",
       "  <thead>\n",
       "    <tr style=\"text-align: right;\">\n",
       "      <th></th>\n",
       "      <th>gdp_pc</th>\n",
       "      <th>suicides_100k</th>\n",
       "      <th>gdp_pc_hilo</th>\n",
       "    </tr>\n",
       "  </thead>\n",
       "  <tbody>\n",
       "    <tr>\n",
       "      <th>0</th>\n",
       "      <td>251</td>\n",
       "      <td>18.00</td>\n",
       "      <td>0</td>\n",
       "    </tr>\n",
       "    <tr>\n",
       "      <th>1</th>\n",
       "      <td>291</td>\n",
       "      <td>191.44</td>\n",
       "      <td>0</td>\n",
       "    </tr>\n",
       "    <tr>\n",
       "      <th>2</th>\n",
       "      <td>313</td>\n",
       "      <td>182.63</td>\n",
       "      <td>0</td>\n",
       "    </tr>\n",
       "    <tr>\n",
       "      <th>3</th>\n",
       "      <td>345</td>\n",
       "      <td>193.30</td>\n",
       "      <td>0</td>\n",
       "    </tr>\n",
       "    <tr>\n",
       "      <th>4</th>\n",
       "      <td>357</td>\n",
       "      <td>51.05</td>\n",
       "      <td>0</td>\n",
       "    </tr>\n",
       "  </tbody>\n",
       "</table>\n",
       "</div>"
      ],
      "text/plain": [
       "   gdp_pc  suicides_100k  gdp_pc_hilo\n",
       "0     251          18.00            0\n",
       "1     291         191.44            0\n",
       "2     313         182.63            0\n",
       "3     345         193.30            0\n",
       "4     357          51.05            0"
      ]
     },
     "execution_count": 14,
     "metadata": {},
     "output_type": "execute_result"
    }
   ],
   "source": [
    "#Get the low group into a separate dataframe\n",
    "low_group = gdp_pc_grouped[gdp_pc_grouped['gdp_pc_hilo'] == 0]\n",
    "low_group.head()"
   ]
  },
  {
   "cell_type": "code",
   "execution_count": 15,
   "metadata": {},
   "outputs": [
    {
     "data": {
      "text/plain": [
       "1439"
      ]
     },
     "execution_count": 15,
     "metadata": {},
     "output_type": "execute_result"
    }
   ],
   "source": [
    "low_group.gdp_pc_hilo.count()"
   ]
  },
  {
   "cell_type": "code",
   "execution_count": 16,
   "metadata": {},
   "outputs": [
    {
     "data": {
      "text/plain": [
       "794"
      ]
     },
     "execution_count": 16,
     "metadata": {},
     "output_type": "execute_result"
    }
   ],
   "source": [
    "high_group.gdp_pc_hilo.count()"
   ]
  },
  {
   "cell_type": "markdown",
   "metadata": {},
   "source": [
    "Before we move along, we need to pay attention to two main statistical criteria. We would like to use the normal model (bell curve) to estimate the population proportions in the high and low groups. \n",
    "\n",
    "1. Independence Criterion - We need our sample size to be lower than 10% of the total population to ensure that the observations are sufficiently independent. On top of this, we also need our sample size to be big enough. If the population is not heavily skewed, then we can get away with a sample size of 30 or more in each group. However, if we see the suicide_100k variable, it is heavily skewed. In this case, we need to fulfill a sample size of greater than 100.\n",
    "\n",
    "2. Success-Failure Criterion- We need to ensure that the total number of successes and total number of failures in each group (sample size * proportion) is greater than 10. \n",
    "\n",
    "\n",
    "\n",
    "Once the above criteria are satisfied, we can use the normal model to estimate our population proportions."
   ]
  },
  {
   "cell_type": "code",
   "execution_count": 17,
   "metadata": {},
   "outputs": [],
   "source": [
    "#First, let's start with N = 200 random samples from both groups. This ensures we are far away from the \n",
    "#100 minimum and so we can ensure independence to some extent.\n",
    "sample_size = 200\n",
    "population = suicides.shape[0]\n",
    "\n",
    "high = np.random.choice(high_group.gdp_pc.values,sample_size)\n",
    "low = np.random.choice(low_group.gdp_pc.values,sample_size)"
   ]
  },
  {
   "cell_type": "markdown",
   "metadata": {},
   "source": [
    "We have taken a sample size of 200 for both groups. The total population size is 27820 and 10% of this is 2782. So we are well within our 10% limit and our sample size is greater than 100. So we satisfy the Independence criterion."
   ]
  },
  {
   "cell_type": "code",
   "execution_count": 18,
   "metadata": {},
   "outputs": [
    {
     "data": {
      "text/html": [
       "<div>\n",
       "<style scoped>\n",
       "    .dataframe tbody tr th:only-of-type {\n",
       "        vertical-align: middle;\n",
       "    }\n",
       "\n",
       "    .dataframe tbody tr th {\n",
       "        vertical-align: top;\n",
       "    }\n",
       "\n",
       "    .dataframe thead th {\n",
       "        text-align: right;\n",
       "    }\n",
       "</style>\n",
       "<table border=\"1\" class=\"dataframe\">\n",
       "  <thead>\n",
       "    <tr style=\"text-align: right;\">\n",
       "      <th></th>\n",
       "      <th>suicides_100k</th>\n",
       "      <th>gdp_pc_hilo</th>\n",
       "    </tr>\n",
       "    <tr>\n",
       "      <th>gdp_pc</th>\n",
       "      <th></th>\n",
       "      <th></th>\n",
       "    </tr>\n",
       "  </thead>\n",
       "  <tbody>\n",
       "    <tr>\n",
       "      <th>17299</th>\n",
       "      <td>139.08</td>\n",
       "      <td>1</td>\n",
       "    </tr>\n",
       "    <tr>\n",
       "      <th>17349</th>\n",
       "      <td>99.19</td>\n",
       "      <td>1</td>\n",
       "    </tr>\n",
       "    <tr>\n",
       "      <th>17387</th>\n",
       "      <td>143.68</td>\n",
       "      <td>1</td>\n",
       "    </tr>\n",
       "    <tr>\n",
       "      <th>17395</th>\n",
       "      <td>0.00</td>\n",
       "      <td>1</td>\n",
       "    </tr>\n",
       "    <tr>\n",
       "      <th>17415</th>\n",
       "      <td>405.88</td>\n",
       "      <td>1</td>\n",
       "    </tr>\n",
       "  </tbody>\n",
       "</table>\n",
       "</div>"
      ],
      "text/plain": [
       "        suicides_100k  gdp_pc_hilo\n",
       "gdp_pc                            \n",
       "17299          139.08            1\n",
       "17349           99.19            1\n",
       "17387          143.68            1\n",
       "17395            0.00            1\n",
       "17415          405.88            1"
      ]
     },
     "execution_count": 18,
     "metadata": {},
     "output_type": "execute_result"
    }
   ],
   "source": [
    "high_group.set_index('gdp_pc',inplace=True)\n",
    "high_group.head()"
   ]
  },
  {
   "cell_type": "code",
   "execution_count": 19,
   "metadata": {},
   "outputs": [
    {
     "data": {
      "text/html": [
       "<div>\n",
       "<style scoped>\n",
       "    .dataframe tbody tr th:only-of-type {\n",
       "        vertical-align: middle;\n",
       "    }\n",
       "\n",
       "    .dataframe tbody tr th {\n",
       "        vertical-align: top;\n",
       "    }\n",
       "\n",
       "    .dataframe thead th {\n",
       "        text-align: right;\n",
       "    }\n",
       "</style>\n",
       "<table border=\"1\" class=\"dataframe\">\n",
       "  <thead>\n",
       "    <tr style=\"text-align: right;\">\n",
       "      <th></th>\n",
       "      <th>suicides_100k</th>\n",
       "      <th>gdp_pc_hilo</th>\n",
       "    </tr>\n",
       "    <tr>\n",
       "      <th>gdp_pc</th>\n",
       "      <th></th>\n",
       "      <th></th>\n",
       "    </tr>\n",
       "  </thead>\n",
       "  <tbody>\n",
       "    <tr>\n",
       "      <th>251</th>\n",
       "      <td>18.00</td>\n",
       "      <td>0</td>\n",
       "    </tr>\n",
       "    <tr>\n",
       "      <th>291</th>\n",
       "      <td>191.44</td>\n",
       "      <td>0</td>\n",
       "    </tr>\n",
       "    <tr>\n",
       "      <th>313</th>\n",
       "      <td>182.63</td>\n",
       "      <td>0</td>\n",
       "    </tr>\n",
       "    <tr>\n",
       "      <th>345</th>\n",
       "      <td>193.30</td>\n",
       "      <td>0</td>\n",
       "    </tr>\n",
       "    <tr>\n",
       "      <th>357</th>\n",
       "      <td>51.05</td>\n",
       "      <td>0</td>\n",
       "    </tr>\n",
       "  </tbody>\n",
       "</table>\n",
       "</div>"
      ],
      "text/plain": [
       "        suicides_100k  gdp_pc_hilo\n",
       "gdp_pc                            \n",
       "251             18.00            0\n",
       "291            191.44            0\n",
       "313            182.63            0\n",
       "345            193.30            0\n",
       "357             51.05            0"
      ]
     },
     "execution_count": 19,
     "metadata": {},
     "output_type": "execute_result"
    }
   ],
   "source": [
    "low_group.set_index('gdp_pc',inplace=True)\n",
    "low_group.head()"
   ]
  },
  {
   "cell_type": "code",
   "execution_count": 20,
   "metadata": {},
   "outputs": [
    {
     "data": {
      "text/plain": [
       "200"
      ]
     },
     "execution_count": 20,
     "metadata": {},
     "output_type": "execute_result"
    }
   ],
   "source": [
    "suicides_high_sample = high_group['suicides_100k'].loc[high]\n",
    "suicides_high_sample.size"
   ]
  },
  {
   "cell_type": "code",
   "execution_count": 21,
   "metadata": {},
   "outputs": [
    {
     "data": {
      "text/plain": [
       "200"
      ]
     },
     "execution_count": 21,
     "metadata": {},
     "output_type": "execute_result"
    }
   ],
   "source": [
    "suicides_low_sample = low_group['suicides_100k'].loc[low]\n",
    "suicides_low_sample.size"
   ]
  },
  {
   "cell_type": "code",
   "execution_count": 22,
   "metadata": {},
   "outputs": [
    {
     "data": {
      "image/png": "[encoded data removed]",
      "text/plain": [
       "<Figure size 720x432 with 1 Axes>"
      ]
     },
     "metadata": {
      "needs_background": "light"
     },
     "output_type": "display_data"
    }
   ],
   "source": [
    "fig, ax = plt.subplots(1, 1, figsize=(10,6))\n",
    "ax.hist(suicides_low_sample.values, bins=30, histtype='bar', color='red', alpha=0.6, label='Low GDP_PC')\n",
    "ax.hist(suicides_high_sample.values, bins=30, histtype='bar', color='green', alpha=0.8, label='High GDP_PC')\n",
    "ax.legend()\n",
    "plt.show();"
   ]
  },
  {
   "cell_type": "code",
   "execution_count": 23,
   "metadata": {},
   "outputs": [
    {
     "data": {
      "image/png": "[encoded data removed]",
      "text/plain": [
       "<Figure size 720x432 with 1 Axes>"
      ]
     },
     "metadata": {
      "needs_background": "light"
     },
     "output_type": "display_data"
    }
   ],
   "source": [
    "fig, ax = plt.subplots(1, 1, figsize=(10,6))\n",
    "ax.hist((suicides_high_sample.values - suicides_low_sample.values), bins=30, histtype='bar', color='red', \n",
    "        alpha=0.6, label='Suicide differences')\n",
    "ax.legend()\n",
    "plt.show();"
   ]
  },
  {
   "cell_type": "code",
   "execution_count": 24,
   "metadata": {},
   "outputs": [],
   "source": [
    "#Let's find the z-statistic and p-value for the one-sided hypothesis test\n",
    "stat = ztest(suicides_low_sample.values, suicides_high_sample.values, 0, 'larger')"
   ]
  },
  {
   "cell_type": "code",
   "execution_count": 25,
   "metadata": {},
   "outputs": [
    {
     "name": "stdout",
     "output_type": "stream",
     "text": [
      "Z-statistic = 0.91\n",
      "P-value =  0.18182558677740762\n"
     ]
    }
   ],
   "source": [
    "print(\"Z-statistic = %.2f\" % stat[0])\n",
    "print(\"P-value = \", stat[1])"
   ]
  },
  {
   "cell_type": "markdown",
   "metadata": {},
   "source": [
    "Last try for p-value gave:\n",
    "Z = 0.28\n",
    "p = 0.389"
   ]
  },
  {
   "cell_type": "markdown",
   "metadata": {},
   "source": [
    "We see that our p-value is generally greater than significance level alpha = 0.05. So, we fail to reject the null hypothesis. This means that we do not reject the notion that there is no difference between the low gdp group and high gdp group. There is no significant evidence to suggest that the average suicide rate in the high gdp group is greater than the average suicide rate in the low gdp group."
   ]
  },
  {
   "cell_type": "markdown",
   "metadata": {},
   "source": [
    "## Hypothesis 2: Sex versus Suicide "
   ]
  },
  {
   "cell_type": "code",
   "execution_count": 26,
   "metadata": {},
   "outputs": [],
   "source": [
    "sexes = suicides[['sex','suicides_100k']]"
   ]
  },
  {
   "cell_type": "code",
   "execution_count": 27,
   "metadata": {},
   "outputs": [
    {
     "name": "stdout",
     "output_type": "stream",
     "text": [
      "55640\n"
     ]
    },
    {
     "data": {
      "text/html": [
       "<div>\n",
       "<style scoped>\n",
       "    .dataframe tbody tr th:only-of-type {\n",
       "        vertical-align: middle;\n",
       "    }\n",
       "\n",
       "    .dataframe tbody tr th {\n",
       "        vertical-align: top;\n",
       "    }\n",
       "\n",
       "    .dataframe thead th {\n",
       "        text-align: right;\n",
       "    }\n",
       "</style>\n",
       "<table border=\"1\" class=\"dataframe\">\n",
       "  <thead>\n",
       "    <tr style=\"text-align: right;\">\n",
       "      <th></th>\n",
       "      <th>sex</th>\n",
       "      <th>suicides_100k</th>\n",
       "    </tr>\n",
       "  </thead>\n",
       "  <tbody>\n",
       "    <tr>\n",
       "      <th>0</th>\n",
       "      <td>male</td>\n",
       "      <td>6.71</td>\n",
       "    </tr>\n",
       "    <tr>\n",
       "      <th>1</th>\n",
       "      <td>male</td>\n",
       "      <td>5.19</td>\n",
       "    </tr>\n",
       "    <tr>\n",
       "      <th>2</th>\n",
       "      <td>female</td>\n",
       "      <td>4.83</td>\n",
       "    </tr>\n",
       "    <tr>\n",
       "      <th>3</th>\n",
       "      <td>male</td>\n",
       "      <td>4.59</td>\n",
       "    </tr>\n",
       "    <tr>\n",
       "      <th>4</th>\n",
       "      <td>male</td>\n",
       "      <td>3.28</td>\n",
       "    </tr>\n",
       "  </tbody>\n",
       "</table>\n",
       "</div>"
      ],
      "text/plain": [
       "      sex  suicides_100k\n",
       "0    male           6.71\n",
       "1    male           5.19\n",
       "2  female           4.83\n",
       "3    male           4.59\n",
       "4    male           3.28"
      ]
     },
     "execution_count": 27,
     "metadata": {},
     "output_type": "execute_result"
    }
   ],
   "source": [
    "print(sexes.size)\n",
    "sexes.head()"
   ]
  },
  {
   "cell_type": "code",
   "execution_count": 28,
   "metadata": {},
   "outputs": [],
   "source": [
    "males = sexes[sexes.sex == 'male']\n",
    "females = sexes[sexes.sex == 'female']"
   ]
  },
  {
   "cell_type": "code",
   "execution_count": 29,
   "metadata": {},
   "outputs": [
    {
     "name": "stdout",
     "output_type": "stream",
     "text": [
      "27820\n"
     ]
    },
    {
     "data": {
      "text/html": [
       "<div>\n",
       "<style scoped>\n",
       "    .dataframe tbody tr th:only-of-type {\n",
       "        vertical-align: middle;\n",
       "    }\n",
       "\n",
       "    .dataframe tbody tr th {\n",
       "        vertical-align: top;\n",
       "    }\n",
       "\n",
       "    .dataframe thead th {\n",
       "        text-align: right;\n",
       "    }\n",
       "</style>\n",
       "<table border=\"1\" class=\"dataframe\">\n",
       "  <thead>\n",
       "    <tr style=\"text-align: right;\">\n",
       "      <th></th>\n",
       "      <th>sex</th>\n",
       "      <th>suicides_100k</th>\n",
       "    </tr>\n",
       "  </thead>\n",
       "  <tbody>\n",
       "    <tr>\n",
       "      <th>0</th>\n",
       "      <td>male</td>\n",
       "      <td>6.71</td>\n",
       "    </tr>\n",
       "    <tr>\n",
       "      <th>1</th>\n",
       "      <td>male</td>\n",
       "      <td>5.19</td>\n",
       "    </tr>\n",
       "    <tr>\n",
       "      <th>3</th>\n",
       "      <td>male</td>\n",
       "      <td>4.59</td>\n",
       "    </tr>\n",
       "    <tr>\n",
       "      <th>4</th>\n",
       "      <td>male</td>\n",
       "      <td>3.28</td>\n",
       "    </tr>\n",
       "    <tr>\n",
       "      <th>8</th>\n",
       "      <td>male</td>\n",
       "      <td>0.73</td>\n",
       "    </tr>\n",
       "  </tbody>\n",
       "</table>\n",
       "</div>"
      ],
      "text/plain": [
       "    sex  suicides_100k\n",
       "0  male           6.71\n",
       "1  male           5.19\n",
       "3  male           4.59\n",
       "4  male           3.28\n",
       "8  male           0.73"
      ]
     },
     "execution_count": 29,
     "metadata": {},
     "output_type": "execute_result"
    }
   ],
   "source": [
    "print(males.size)\n",
    "males.head()"
   ]
  },
  {
   "cell_type": "code",
   "execution_count": 30,
   "metadata": {},
   "outputs": [
    {
     "name": "stdout",
     "output_type": "stream",
     "text": [
      "27820\n"
     ]
    },
    {
     "data": {
      "text/html": [
       "<div>\n",
       "<style scoped>\n",
       "    .dataframe tbody tr th:only-of-type {\n",
       "        vertical-align: middle;\n",
       "    }\n",
       "\n",
       "    .dataframe tbody tr th {\n",
       "        vertical-align: top;\n",
       "    }\n",
       "\n",
       "    .dataframe thead th {\n",
       "        text-align: right;\n",
       "    }\n",
       "</style>\n",
       "<table border=\"1\" class=\"dataframe\">\n",
       "  <thead>\n",
       "    <tr style=\"text-align: right;\">\n",
       "      <th></th>\n",
       "      <th>sex</th>\n",
       "      <th>suicides_100k</th>\n",
       "    </tr>\n",
       "  </thead>\n",
       "  <tbody>\n",
       "    <tr>\n",
       "      <th>2</th>\n",
       "      <td>female</td>\n",
       "      <td>4.83</td>\n",
       "    </tr>\n",
       "    <tr>\n",
       "      <th>5</th>\n",
       "      <td>female</td>\n",
       "      <td>2.81</td>\n",
       "    </tr>\n",
       "    <tr>\n",
       "      <th>6</th>\n",
       "      <td>female</td>\n",
       "      <td>2.15</td>\n",
       "    </tr>\n",
       "    <tr>\n",
       "      <th>7</th>\n",
       "      <td>female</td>\n",
       "      <td>1.56</td>\n",
       "    </tr>\n",
       "    <tr>\n",
       "      <th>9</th>\n",
       "      <td>female</td>\n",
       "      <td>0.00</td>\n",
       "    </tr>\n",
       "  </tbody>\n",
       "</table>\n",
       "</div>"
      ],
      "text/plain": [
       "      sex  suicides_100k\n",
       "2  female           4.83\n",
       "5  female           2.81\n",
       "6  female           2.15\n",
       "7  female           1.56\n",
       "9  female           0.00"
      ]
     },
     "execution_count": 30,
     "metadata": {},
     "output_type": "execute_result"
    }
   ],
   "source": [
    "print(females.size)\n",
    "females.head()"
   ]
  },
  {
   "cell_type": "code",
   "execution_count": 31,
   "metadata": {},
   "outputs": [],
   "source": [
    "#Sample size = 200 which is less than 10% of the population sizes (27,820)\n",
    "#This means samples will be independent. This will also account for skew in the population distribution.\n",
    "sample_size = 200\n",
    "male_samp = males.sample(sample_size)\n",
    "female_samp = females.sample(sample_size)"
   ]
  },
  {
   "cell_type": "code",
   "execution_count": 32,
   "metadata": {},
   "outputs": [
    {
     "data": {
      "image/png": "[encoded data removed]",
      "text/plain": [
       "<Figure size 720x432 with 2 Axes>"
      ]
     },
     "metadata": {
      "needs_background": "light"
     },
     "output_type": "display_data"
    }
   ],
   "source": [
    "fig, (ax1, ax2) = plt.subplots(2, 1, figsize=(10,6))\n",
    "ax1.hist(male_samp['suicides_100k'], bins=40, histtype='bar',color='green',alpha=0.6, label='male suicides')\n",
    "ax2.hist(female_samp['suicides_100k'], bins=40, histtype='bar',color='blue',alpha=0.8, label='female suicides')\n",
    "ax1.set(xlabel='Suicides in Samples', ylabel='Frequency', \n",
    "       title='Number of Suicides between Males and Females', xlim=[0,120], ylim=[0,60])\n",
    "ax2.set(xlabel='Suicides in Samples', ylabel='Frequency', xlim=[0,120], ylim=[0,60])\n",
    "plt.legend()\n",
    "plt.show();"
   ]
  },
  {
   "cell_type": "code",
   "execution_count": 33,
   "metadata": {},
   "outputs": [],
   "source": [
    "sdiff = male_samp['suicides_100k'].values - female_samp['suicides_100k'].values"
   ]
  },
  {
   "cell_type": "code",
   "execution_count": 34,
   "metadata": {},
   "outputs": [
    {
     "data": {
      "image/png": "[encoded data removed]",
      "text/plain": [
       "<Figure size 720x432 with 1 Axes>"
      ]
     },
     "metadata": {
      "needs_background": "light"
     },
     "output_type": "display_data"
    }
   ],
   "source": [
    "plt.figure(figsize=(10,6))\n",
    "plt.hist(sdiff, bins=40, histtype='bar', color='m', label='difference', alpha=0.8)\n",
    "plt.legend()\n",
    "plt.show();"
   ]
  },
  {
   "cell_type": "code",
   "execution_count": 35,
   "metadata": {},
   "outputs": [],
   "source": [
    "zstat, pvalue = ztest(x1=sdiff, value=0, alternative='larger')"
   ]
  },
  {
   "cell_type": "code",
   "execution_count": 36,
   "metadata": {},
   "outputs": [
    {
     "name": "stdout",
     "output_type": "stream",
     "text": [
      "Z-statistic = 8.68\n",
      "p-value =  1.9559810077251753e-18\n"
     ]
    }
   ],
   "source": [
    "print('Z-statistic = %.2f' % zstat)\n",
    "print('p-value = ', pvalue)"
   ]
  },
  {
   "cell_type": "markdown",
   "metadata": {},
   "source": [
    "Last try for p-value gave:\n",
    "Z = 8.04\n",
    "p = 4.6e-16"
   ]
  },
  {
   "cell_type": "markdown",
   "metadata": {},
   "source": [
    "Since our p-value is significantly lower than our significance level of 0.05, we can reject the null hypothesis which says there's no difference in men and women average suicide rates. There is considerable evidence that men commit suicide more than women on average."
   ]
  },
  {
   "cell_type": "markdown",
   "metadata": {},
   "source": [
    "# Hypothesis 3: Generations vs Suicide"
   ]
  },
  {
   "cell_type": "code",
   "execution_count": 37,
   "metadata": {},
   "outputs": [
    {
     "data": {
      "text/html": [
       "<div>\n",
       "<style scoped>\n",
       "    .dataframe tbody tr th:only-of-type {\n",
       "        vertical-align: middle;\n",
       "    }\n",
       "\n",
       "    .dataframe tbody tr th {\n",
       "        vertical-align: top;\n",
       "    }\n",
       "\n",
       "    .dataframe thead th {\n",
       "        text-align: right;\n",
       "    }\n",
       "</style>\n",
       "<table border=\"1\" class=\"dataframe\">\n",
       "  <thead>\n",
       "    <tr style=\"text-align: right;\">\n",
       "      <th></th>\n",
       "      <th>suicides_100k</th>\n",
       "      <th>gen</th>\n",
       "    </tr>\n",
       "  </thead>\n",
       "  <tbody>\n",
       "    <tr>\n",
       "      <th>0</th>\n",
       "      <td>6.71</td>\n",
       "      <td>Generation X</td>\n",
       "    </tr>\n",
       "    <tr>\n",
       "      <th>1</th>\n",
       "      <td>5.19</td>\n",
       "      <td>Silent</td>\n",
       "    </tr>\n",
       "    <tr>\n",
       "      <th>2</th>\n",
       "      <td>4.83</td>\n",
       "      <td>Generation X</td>\n",
       "    </tr>\n",
       "    <tr>\n",
       "      <th>3</th>\n",
       "      <td>4.59</td>\n",
       "      <td>G.I. Generation</td>\n",
       "    </tr>\n",
       "    <tr>\n",
       "      <th>4</th>\n",
       "      <td>3.28</td>\n",
       "      <td>Boomers</td>\n",
       "    </tr>\n",
       "  </tbody>\n",
       "</table>\n",
       "</div>"
      ],
      "text/plain": [
       "   suicides_100k              gen\n",
       "0           6.71     Generation X\n",
       "1           5.19           Silent\n",
       "2           4.83     Generation X\n",
       "3           4.59  G.I. Generation\n",
       "4           3.28          Boomers"
      ]
     },
     "execution_count": 37,
     "metadata": {},
     "output_type": "execute_result"
    }
   ],
   "source": [
    "generations = suicides[['suicides_100k','gen']]\n",
    "generations.head()"
   ]
  },
  {
   "cell_type": "code",
   "execution_count": 38,
   "metadata": {},
   "outputs": [
    {
     "name": "stdout",
     "output_type": "stream",
     "text": [
      "<class 'pandas.core.frame.DataFrame'>\n",
      "RangeIndex: 27820 entries, 0 to 27819\n",
      "Data columns (total 2 columns):\n",
      "suicides_100k    27820 non-null float64\n",
      "gen              27820 non-null object\n",
      "dtypes: float64(1), object(1)\n",
      "memory usage: 434.8+ KB\n"
     ]
    }
   ],
   "source": [
    "generations.info()"
   ]
  },
  {
   "cell_type": "code",
   "execution_count": 39,
   "metadata": {},
   "outputs": [
    {
     "data": {
      "text/html": [
       "<div>\n",
       "<style scoped>\n",
       "    .dataframe tbody tr th:only-of-type {\n",
       "        vertical-align: middle;\n",
       "    }\n",
       "\n",
       "    .dataframe tbody tr th {\n",
       "        vertical-align: top;\n",
       "    }\n",
       "\n",
       "    .dataframe thead th {\n",
       "        text-align: right;\n",
       "    }\n",
       "</style>\n",
       "<table border=\"1\" class=\"dataframe\">\n",
       "  <thead>\n",
       "    <tr style=\"text-align: right;\">\n",
       "      <th></th>\n",
       "      <th>suicides_100k</th>\n",
       "      <th>gen</th>\n",
       "    </tr>\n",
       "  </thead>\n",
       "  <tbody>\n",
       "    <tr>\n",
       "      <th>1</th>\n",
       "      <td>5.19</td>\n",
       "      <td>Silent</td>\n",
       "    </tr>\n",
       "    <tr>\n",
       "      <th>3</th>\n",
       "      <td>4.59</td>\n",
       "      <td>G.I. Generation</td>\n",
       "    </tr>\n",
       "    <tr>\n",
       "      <th>4</th>\n",
       "      <td>3.28</td>\n",
       "      <td>Boomers</td>\n",
       "    </tr>\n",
       "    <tr>\n",
       "      <th>5</th>\n",
       "      <td>2.81</td>\n",
       "      <td>G.I. Generation</td>\n",
       "    </tr>\n",
       "    <tr>\n",
       "      <th>6</th>\n",
       "      <td>2.15</td>\n",
       "      <td>Silent</td>\n",
       "    </tr>\n",
       "  </tbody>\n",
       "</table>\n",
       "</div>"
      ],
      "text/plain": [
       "   suicides_100k              gen\n",
       "1           5.19           Silent\n",
       "3           4.59  G.I. Generation\n",
       "4           3.28          Boomers\n",
       "5           2.81  G.I. Generation\n",
       "6           2.15           Silent"
      ]
     },
     "execution_count": 39,
     "metadata": {},
     "output_type": "execute_result"
    }
   ],
   "source": [
    "old = generations[(generations['gen'] == 'Silent') | (generations['gen'] == 'Boomers') \\\n",
    "                     | (generations['gen'] == 'G.I. Generation')]\n",
    "old.head()"
   ]
  },
  {
   "cell_type": "code",
   "execution_count": 40,
   "metadata": {},
   "outputs": [
    {
     "name": "stdout",
     "output_type": "stream",
     "text": [
      "<class 'pandas.core.frame.DataFrame'>\n",
      "Int64Index: 14098 entries, 1 to 27819\n",
      "Data columns (total 2 columns):\n",
      "suicides_100k    14098 non-null float64\n",
      "gen              14098 non-null object\n",
      "dtypes: float64(1), object(1)\n",
      "memory usage: 330.4+ KB\n"
     ]
    }
   ],
   "source": [
    "old.info()"
   ]
  },
  {
   "cell_type": "code",
   "execution_count": 41,
   "metadata": {},
   "outputs": [
    {
     "data": {
      "text/html": [
       "<div>\n",
       "<style scoped>\n",
       "    .dataframe tbody tr th:only-of-type {\n",
       "        vertical-align: middle;\n",
       "    }\n",
       "\n",
       "    .dataframe tbody tr th {\n",
       "        vertical-align: top;\n",
       "    }\n",
       "\n",
       "    .dataframe thead th {\n",
       "        text-align: right;\n",
       "    }\n",
       "</style>\n",
       "<table border=\"1\" class=\"dataframe\">\n",
       "  <thead>\n",
       "    <tr style=\"text-align: right;\">\n",
       "      <th></th>\n",
       "      <th>suicides_100k</th>\n",
       "      <th>gen</th>\n",
       "    </tr>\n",
       "  </thead>\n",
       "  <tbody>\n",
       "    <tr>\n",
       "      <th>0</th>\n",
       "      <td>6.71</td>\n",
       "      <td>Generation X</td>\n",
       "    </tr>\n",
       "    <tr>\n",
       "      <th>2</th>\n",
       "      <td>4.83</td>\n",
       "      <td>Generation X</td>\n",
       "    </tr>\n",
       "    <tr>\n",
       "      <th>9</th>\n",
       "      <td>0.00</td>\n",
       "      <td>Generation X</td>\n",
       "    </tr>\n",
       "    <tr>\n",
       "      <th>11</th>\n",
       "      <td>0.00</td>\n",
       "      <td>Generation X</td>\n",
       "    </tr>\n",
       "    <tr>\n",
       "      <th>13</th>\n",
       "      <td>5.33</td>\n",
       "      <td>Generation X</td>\n",
       "    </tr>\n",
       "  </tbody>\n",
       "</table>\n",
       "</div>"
      ],
      "text/plain": [
       "    suicides_100k           gen\n",
       "0            6.71  Generation X\n",
       "2            4.83  Generation X\n",
       "9            0.00  Generation X\n",
       "11           0.00  Generation X\n",
       "13           5.33  Generation X"
      ]
     },
     "execution_count": 41,
     "metadata": {},
     "output_type": "execute_result"
    }
   ],
   "source": [
    "new = generations[(generations['gen'] == 'Generation Z') | (generations['gen'] == 'Generation X') \\\n",
    "                     | (generations['gen'] == 'Millenials')]\n",
    "new.head()"
   ]
  },
  {
   "cell_type": "code",
   "execution_count": 42,
   "metadata": {},
   "outputs": [
    {
     "name": "stdout",
     "output_type": "stream",
     "text": [
      "<class 'pandas.core.frame.DataFrame'>\n",
      "Int64Index: 13722 entries, 0 to 27818\n",
      "Data columns (total 2 columns):\n",
      "suicides_100k    13722 non-null float64\n",
      "gen              13722 non-null object\n",
      "dtypes: float64(1), object(1)\n",
      "memory usage: 321.6+ KB\n"
     ]
    }
   ],
   "source": [
    "new.info()"
   ]
  },
  {
   "cell_type": "code",
   "execution_count": 43,
   "metadata": {},
   "outputs": [],
   "source": [
    "#Condition 1: Sample size should be less than 10% of the population size to ensure independence. \n",
    "#(new: n < 1372.2, old: n < 1409.8)\n",
    "#Condition 2: Sample size should be greater than 100 to account for skew in population/sample. (n > 100)\n",
    "#Conclusion: Therefore 100 < n < 1372.2 or 1409.8. We will go with n = 200 since this is practical \n",
    "#and sufficiently far from our lower cutoff of 100.\n",
    "old_samp_size = 200\n",
    "new_samp_size = 200\n",
    "old_samp = generations.sample(old_samp_size)\n",
    "new_samp = generations.sample(new_samp_size)"
   ]
  },
  {
   "cell_type": "code",
   "execution_count": 44,
   "metadata": {},
   "outputs": [
    {
     "data": {
      "text/html": [
       "<div>\n",
       "<style scoped>\n",
       "    .dataframe tbody tr th:only-of-type {\n",
       "        vertical-align: middle;\n",
       "    }\n",
       "\n",
       "    .dataframe tbody tr th {\n",
       "        vertical-align: top;\n",
       "    }\n",
       "\n",
       "    .dataframe thead th {\n",
       "        text-align: right;\n",
       "    }\n",
       "</style>\n",
       "<table border=\"1\" class=\"dataframe\">\n",
       "  <thead>\n",
       "    <tr style=\"text-align: right;\">\n",
       "      <th></th>\n",
       "      <th>suicides_100k</th>\n",
       "      <th>gen</th>\n",
       "    </tr>\n",
       "  </thead>\n",
       "  <tbody>\n",
       "    <tr>\n",
       "      <th>25319</th>\n",
       "      <td>0.00</td>\n",
       "      <td>Silent</td>\n",
       "    </tr>\n",
       "    <tr>\n",
       "      <th>27392</th>\n",
       "      <td>18.45</td>\n",
       "      <td>Generation X</td>\n",
       "    </tr>\n",
       "    <tr>\n",
       "      <th>14740</th>\n",
       "      <td>3.74</td>\n",
       "      <td>Generation X</td>\n",
       "    </tr>\n",
       "    <tr>\n",
       "      <th>1663</th>\n",
       "      <td>3.96</td>\n",
       "      <td>Silent</td>\n",
       "    </tr>\n",
       "    <tr>\n",
       "      <th>3588</th>\n",
       "      <td>19.21</td>\n",
       "      <td>Generation X</td>\n",
       "    </tr>\n",
       "  </tbody>\n",
       "</table>\n",
       "</div>"
      ],
      "text/plain": [
       "       suicides_100k           gen\n",
       "25319           0.00        Silent\n",
       "27392          18.45  Generation X\n",
       "14740           3.74  Generation X\n",
       "1663            3.96        Silent\n",
       "3588           19.21  Generation X"
      ]
     },
     "execution_count": 44,
     "metadata": {},
     "output_type": "execute_result"
    }
   ],
   "source": [
    "old_samp.head()"
   ]
  },
  {
   "cell_type": "code",
   "execution_count": 45,
   "metadata": {},
   "outputs": [
    {
     "data": {
      "text/html": [
       "<div>\n",
       "<style scoped>\n",
       "    .dataframe tbody tr th:only-of-type {\n",
       "        vertical-align: middle;\n",
       "    }\n",
       "\n",
       "    .dataframe tbody tr th {\n",
       "        vertical-align: top;\n",
       "    }\n",
       "\n",
       "    .dataframe thead th {\n",
       "        text-align: right;\n",
       "    }\n",
       "</style>\n",
       "<table border=\"1\" class=\"dataframe\">\n",
       "  <thead>\n",
       "    <tr style=\"text-align: right;\">\n",
       "      <th></th>\n",
       "      <th>suicides_100k</th>\n",
       "      <th>gen</th>\n",
       "    </tr>\n",
       "  </thead>\n",
       "  <tbody>\n",
       "    <tr>\n",
       "      <th>17961</th>\n",
       "      <td>5.96</td>\n",
       "      <td>Generation X</td>\n",
       "    </tr>\n",
       "    <tr>\n",
       "      <th>8955</th>\n",
       "      <td>39.24</td>\n",
       "      <td>Boomers</td>\n",
       "    </tr>\n",
       "    <tr>\n",
       "      <th>1889</th>\n",
       "      <td>13.28</td>\n",
       "      <td>Boomers</td>\n",
       "    </tr>\n",
       "    <tr>\n",
       "      <th>17444</th>\n",
       "      <td>9.29</td>\n",
       "      <td>Generation X</td>\n",
       "    </tr>\n",
       "    <tr>\n",
       "      <th>17759</th>\n",
       "      <td>1.01</td>\n",
       "      <td>Generation Z</td>\n",
       "    </tr>\n",
       "  </tbody>\n",
       "</table>\n",
       "</div>"
      ],
      "text/plain": [
       "       suicides_100k           gen\n",
       "17961           5.96  Generation X\n",
       "8955           39.24       Boomers\n",
       "1889           13.28       Boomers\n",
       "17444           9.29  Generation X\n",
       "17759           1.01  Generation Z"
      ]
     },
     "execution_count": 45,
     "metadata": {},
     "output_type": "execute_result"
    }
   ],
   "source": [
    "new_samp.head()"
   ]
  },
  {
   "cell_type": "code",
   "execution_count": 46,
   "metadata": {},
   "outputs": [
    {
     "data": {
      "text/html": [
       "<div>\n",
       "<style scoped>\n",
       "    .dataframe tbody tr th:only-of-type {\n",
       "        vertical-align: middle;\n",
       "    }\n",
       "\n",
       "    .dataframe tbody tr th {\n",
       "        vertical-align: top;\n",
       "    }\n",
       "\n",
       "    .dataframe thead th {\n",
       "        text-align: right;\n",
       "    }\n",
       "</style>\n",
       "<table border=\"1\" class=\"dataframe\">\n",
       "  <thead>\n",
       "    <tr style=\"text-align: right;\">\n",
       "      <th></th>\n",
       "      <th>suicides_100k</th>\n",
       "      <th>gen</th>\n",
       "    </tr>\n",
       "  </thead>\n",
       "  <tbody>\n",
       "    <tr>\n",
       "      <th>25319</th>\n",
       "      <td>0.00</td>\n",
       "      <td>Silent</td>\n",
       "    </tr>\n",
       "    <tr>\n",
       "      <th>27392</th>\n",
       "      <td>18.45</td>\n",
       "      <td>Generation X</td>\n",
       "    </tr>\n",
       "    <tr>\n",
       "      <th>14740</th>\n",
       "      <td>3.74</td>\n",
       "      <td>Generation X</td>\n",
       "    </tr>\n",
       "    <tr>\n",
       "      <th>1663</th>\n",
       "      <td>3.96</td>\n",
       "      <td>Silent</td>\n",
       "    </tr>\n",
       "    <tr>\n",
       "      <th>3588</th>\n",
       "      <td>19.21</td>\n",
       "      <td>Generation X</td>\n",
       "    </tr>\n",
       "  </tbody>\n",
       "</table>\n",
       "</div>"
      ],
      "text/plain": [
       "       suicides_100k           gen\n",
       "25319           0.00        Silent\n",
       "27392          18.45  Generation X\n",
       "14740           3.74  Generation X\n",
       "1663            3.96        Silent\n",
       "3588           19.21  Generation X"
      ]
     },
     "execution_count": 46,
     "metadata": {},
     "output_type": "execute_result"
    }
   ],
   "source": [
    "old_samp.head()"
   ]
  },
  {
   "cell_type": "code",
   "execution_count": 47,
   "metadata": {},
   "outputs": [],
   "source": [
    "diff = old_samp['suicides_100k'].values - new_samp['suicides_100k'].values"
   ]
  },
  {
   "cell_type": "code",
   "execution_count": 48,
   "metadata": {},
   "outputs": [
    {
     "data": {
      "text/plain": [
       "0.6897999999999997"
      ]
     },
     "execution_count": 48,
     "metadata": {},
     "output_type": "execute_result"
    }
   ],
   "source": [
    "diff.mean()"
   ]
  },
  {
   "cell_type": "code",
   "execution_count": 49,
   "metadata": {},
   "outputs": [
    {
     "data": {
      "image/png": "[encoded data removed]",
      "text/plain": [
       "<Figure size 720x432 with 1 Axes>"
      ]
     },
     "metadata": {
      "needs_background": "light"
     },
     "output_type": "display_data"
    }
   ],
   "source": [
    "fig, ax = plt.subplots(1, 1, figsize=(10,6))\n",
    "ax.hist(diff,bins=30,histtype='bar',\n",
    "        label='gen suicides')\n",
    "plt.show();"
   ]
  },
  {
   "cell_type": "code",
   "execution_count": 50,
   "metadata": {},
   "outputs": [],
   "source": [
    "ztest = ztest(x1=old_samp['suicides_100k'].values,x2=new_samp['suicides_100k'].values,value=0,\n",
    "              alternative='larger')"
   ]
  },
  {
   "cell_type": "code",
   "execution_count": 51,
   "metadata": {},
   "outputs": [
    {
     "name": "stdout",
     "output_type": "stream",
     "text": [
      "Z-statistic = 0.43\n",
      "p-value = 0.3338\n"
     ]
    }
   ],
   "source": [
    "zstat, pvalue = ztest\n",
    "print('Z-statistic = %.2f' % zstat)\n",
    "print('p-value = %.4f' % pvalue)"
   ]
  },
  {
   "cell_type": "markdown",
   "metadata": {},
   "source": [
    "Last try for p-value gave:\n",
    "Z = 0.08\n",
    "p = 0.4689"
   ]
  },
  {
   "cell_type": "markdown",
   "metadata": {},
   "source": [
    "We see that our p-value is greater than 0.05 which means we fail to reject the null hypothesis in favor of the alternative hypothesis. We fail to find great evidence that the average suicide rate amongst younger people is greater than that in older generations. "
   ]
  },
  {
   "cell_type": "markdown",
   "metadata": {},
   "source": [
    "# Hypothesis 4: Age vs Suicide "
   ]
  },
  {
   "cell_type": "code",
   "execution_count": 52,
   "metadata": {},
   "outputs": [],
   "source": [
    "ages = suicides[['age','suicides_100k']].groupby('age').mean()"
   ]
  },
  {
   "cell_type": "code",
   "execution_count": 53,
   "metadata": {},
   "outputs": [
    {
     "data": {
      "text/html": [
       "<div>\n",
       "<style scoped>\n",
       "    .dataframe tbody tr th:only-of-type {\n",
       "        vertical-align: middle;\n",
       "    }\n",
       "\n",
       "    .dataframe tbody tr th {\n",
       "        vertical-align: top;\n",
       "    }\n",
       "\n",
       "    .dataframe thead th {\n",
       "        text-align: right;\n",
       "    }\n",
       "</style>\n",
       "<table border=\"1\" class=\"dataframe\">\n",
       "  <thead>\n",
       "    <tr style=\"text-align: right;\">\n",
       "      <th></th>\n",
       "      <th>suicides_100k</th>\n",
       "    </tr>\n",
       "    <tr>\n",
       "      <th>age</th>\n",
       "      <th></th>\n",
       "    </tr>\n",
       "  </thead>\n",
       "  <tbody>\n",
       "    <tr>\n",
       "      <th>15-24 years</th>\n",
       "      <td>8.947154</td>\n",
       "    </tr>\n",
       "    <tr>\n",
       "      <th>25-34 years</th>\n",
       "      <td>12.186885</td>\n",
       "    </tr>\n",
       "    <tr>\n",
       "      <th>35-54 years</th>\n",
       "      <td>14.947441</td>\n",
       "    </tr>\n",
       "    <tr>\n",
       "      <th>5-14 years</th>\n",
       "      <td>0.620041</td>\n",
       "    </tr>\n",
       "    <tr>\n",
       "      <th>55-74 years</th>\n",
       "      <td>16.155579</td>\n",
       "    </tr>\n",
       "    <tr>\n",
       "      <th>75+ years</th>\n",
       "      <td>23.955409</td>\n",
       "    </tr>\n",
       "  </tbody>\n",
       "</table>\n",
       "</div>"
      ],
      "text/plain": [
       "             suicides_100k\n",
       "age                       \n",
       "15-24 years       8.947154\n",
       "25-34 years      12.186885\n",
       "35-54 years      14.947441\n",
       "5-14 years        0.620041\n",
       "55-74 years      16.155579\n",
       "75+ years        23.955409"
      ]
     },
     "execution_count": 53,
     "metadata": {},
     "output_type": "execute_result"
    }
   ],
   "source": [
    "ages"
   ]
  },
  {
   "cell_type": "code",
   "execution_count": 54,
   "metadata": {},
   "outputs": [],
   "source": [
    "chistat = chisquare(ages['suicides_100k'].values)"
   ]
  },
  {
   "cell_type": "code",
   "execution_count": 55,
   "metadata": {},
   "outputs": [
    {
     "name": "stdout",
     "output_type": "stream",
     "text": [
      "Chi-2 statistic =  23.73724848793681\n",
      "Chi-2 p-value =  0.00024386176449992024\n"
     ]
    }
   ],
   "source": [
    "print(\"Chi-2 statistic = \", chistat.statistic)\n",
    "print(\"Chi-2 p-value = \", chistat.pvalue)"
   ]
  },
  {
   "cell_type": "markdown",
   "metadata": {},
   "source": [
    "We see that our p-value is less than the significance level of 0.05, which means we may reject the null hypothesis in favour of the alternate. So, it is more likely that there is a difference in average suicide rates in all 5 age groups. "
   ]
  },
  {
   "cell_type": "markdown",
   "metadata": {},
   "source": [
    "Notice that the age group 5-14 is a marked difference between all other age groups. This may be because adolescents are more influenced by elders in society. We may remove this age group and check whether there's a significant difference between the remaining 5 age groups (15-24, 25-34, 35-54, 55-74, 75+)."
   ]
  },
  {
   "cell_type": "code",
   "execution_count": 56,
   "metadata": {},
   "outputs": [
    {
     "data": {
      "text/html": [
       "<div>\n",
       "<style scoped>\n",
       "    .dataframe tbody tr th:only-of-type {\n",
       "        vertical-align: middle;\n",
       "    }\n",
       "\n",
       "    .dataframe tbody tr th {\n",
       "        vertical-align: top;\n",
       "    }\n",
       "\n",
       "    .dataframe thead th {\n",
       "        text-align: right;\n",
       "    }\n",
       "</style>\n",
       "<table border=\"1\" class=\"dataframe\">\n",
       "  <thead>\n",
       "    <tr style=\"text-align: right;\">\n",
       "      <th></th>\n",
       "      <th>suicides_100k</th>\n",
       "    </tr>\n",
       "    <tr>\n",
       "      <th>age</th>\n",
       "      <th></th>\n",
       "    </tr>\n",
       "  </thead>\n",
       "  <tbody>\n",
       "    <tr>\n",
       "      <th>15-24 years</th>\n",
       "      <td>8.947154</td>\n",
       "    </tr>\n",
       "    <tr>\n",
       "      <th>25-34 years</th>\n",
       "      <td>12.186885</td>\n",
       "    </tr>\n",
       "    <tr>\n",
       "      <th>35-54 years</th>\n",
       "      <td>14.947441</td>\n",
       "    </tr>\n",
       "    <tr>\n",
       "      <th>55-74 years</th>\n",
       "      <td>16.155579</td>\n",
       "    </tr>\n",
       "    <tr>\n",
       "      <th>75+ years</th>\n",
       "      <td>23.955409</td>\n",
       "    </tr>\n",
       "  </tbody>\n",
       "</table>\n",
       "</div>"
      ],
      "text/plain": [
       "             suicides_100k\n",
       "age                       \n",
       "15-24 years       8.947154\n",
       "25-34 years      12.186885\n",
       "35-54 years      14.947441\n",
       "55-74 years      16.155579\n",
       "75+ years        23.955409"
      ]
     },
     "execution_count": 56,
     "metadata": {},
     "output_type": "execute_result"
    }
   ],
   "source": [
    "ages_mod = ages.drop('5-14 years')\n",
    "ages_mod"
   ]
  },
  {
   "cell_type": "code",
   "execution_count": 57,
   "metadata": {},
   "outputs": [],
   "source": [
    "mchistat = chisquare(ages_mod['suicides_100k'].values)"
   ]
  },
  {
   "cell_type": "code",
   "execution_count": 58,
   "metadata": {},
   "outputs": [
    {
     "name": "stdout",
     "output_type": "stream",
     "text": [
      "Chi-2 statistic =  8.255648223994868\n",
      "Chi-2 p-value =  0.0826498150473027\n"
     ]
    }
   ],
   "source": [
    "print(\"Chi-2 statistic = \", mchistat.statistic)\n",
    "print(\"Chi-2 p-value = \", mchistat.pvalue)"
   ]
  },
  {
   "cell_type": "markdown",
   "metadata": {},
   "source": [
    "Last try for p-value gave:\n",
    "Chi2 stat = 8.255\n",
    "Chi2 p-val = 0.0826"
   ]
  },
  {
   "cell_type": "markdown",
   "metadata": {},
   "source": [
    "We see that in this case since the p-value is greater than 0.05, we fail to reject the null hypothesis. So it is more likely that there is little difference in average suicide rates between the 5 age groups excluding adolescents. "
   ]
  },
  {
   "cell_type": "markdown",
   "metadata": {},
   "source": [
    "# Hypothesis 5: Time vs Suicide"
   ]
  },
  {
   "cell_type": "code",
   "execution_count": 59,
   "metadata": {},
   "outputs": [],
   "source": [
    "past = suicides[(suicides['yr'] >= 1987) & (suicides['yr'] < 2001)]"
   ]
  },
  {
   "cell_type": "code",
   "execution_count": 60,
   "metadata": {},
   "outputs": [
    {
     "data": {
      "text/html": [
       "<div>\n",
       "<style scoped>\n",
       "    .dataframe tbody tr th:only-of-type {\n",
       "        vertical-align: middle;\n",
       "    }\n",
       "\n",
       "    .dataframe tbody tr th {\n",
       "        vertical-align: top;\n",
       "    }\n",
       "\n",
       "    .dataframe thead th {\n",
       "        text-align: right;\n",
       "    }\n",
       "</style>\n",
       "<table border=\"1\" class=\"dataframe\">\n",
       "  <thead>\n",
       "    <tr style=\"text-align: right;\">\n",
       "      <th></th>\n",
       "      <th>country</th>\n",
       "      <th>yr</th>\n",
       "      <th>sex</th>\n",
       "      <th>age</th>\n",
       "      <th>suicides_no</th>\n",
       "      <th>population</th>\n",
       "      <th>suicides_100k</th>\n",
       "      <th>country_yr</th>\n",
       "      <th>HDI_yr</th>\n",
       "      <th>gdp_yr</th>\n",
       "      <th>gdp_pc</th>\n",
       "      <th>gen</th>\n",
       "    </tr>\n",
       "  </thead>\n",
       "  <tbody>\n",
       "    <tr>\n",
       "      <th>0</th>\n",
       "      <td>Albania</td>\n",
       "      <td>1987</td>\n",
       "      <td>male</td>\n",
       "      <td>15-24 years</td>\n",
       "      <td>21</td>\n",
       "      <td>312900</td>\n",
       "      <td>6.71</td>\n",
       "      <td>Albania1987</td>\n",
       "      <td>NaN</td>\n",
       "      <td>2,156,624,900</td>\n",
       "      <td>796</td>\n",
       "      <td>Generation X</td>\n",
       "    </tr>\n",
       "    <tr>\n",
       "      <th>1</th>\n",
       "      <td>Albania</td>\n",
       "      <td>1987</td>\n",
       "      <td>male</td>\n",
       "      <td>35-54 years</td>\n",
       "      <td>16</td>\n",
       "      <td>308000</td>\n",
       "      <td>5.19</td>\n",
       "      <td>Albania1987</td>\n",
       "      <td>NaN</td>\n",
       "      <td>2,156,624,900</td>\n",
       "      <td>796</td>\n",
       "      <td>Silent</td>\n",
       "    </tr>\n",
       "    <tr>\n",
       "      <th>2</th>\n",
       "      <td>Albania</td>\n",
       "      <td>1987</td>\n",
       "      <td>female</td>\n",
       "      <td>15-24 years</td>\n",
       "      <td>14</td>\n",
       "      <td>289700</td>\n",
       "      <td>4.83</td>\n",
       "      <td>Albania1987</td>\n",
       "      <td>NaN</td>\n",
       "      <td>2,156,624,900</td>\n",
       "      <td>796</td>\n",
       "      <td>Generation X</td>\n",
       "    </tr>\n",
       "    <tr>\n",
       "      <th>3</th>\n",
       "      <td>Albania</td>\n",
       "      <td>1987</td>\n",
       "      <td>male</td>\n",
       "      <td>75+ years</td>\n",
       "      <td>1</td>\n",
       "      <td>21800</td>\n",
       "      <td>4.59</td>\n",
       "      <td>Albania1987</td>\n",
       "      <td>NaN</td>\n",
       "      <td>2,156,624,900</td>\n",
       "      <td>796</td>\n",
       "      <td>G.I. Generation</td>\n",
       "    </tr>\n",
       "    <tr>\n",
       "      <th>4</th>\n",
       "      <td>Albania</td>\n",
       "      <td>1987</td>\n",
       "      <td>male</td>\n",
       "      <td>25-34 years</td>\n",
       "      <td>9</td>\n",
       "      <td>274300</td>\n",
       "      <td>3.28</td>\n",
       "      <td>Albania1987</td>\n",
       "      <td>NaN</td>\n",
       "      <td>2,156,624,900</td>\n",
       "      <td>796</td>\n",
       "      <td>Boomers</td>\n",
       "    </tr>\n",
       "  </tbody>\n",
       "</table>\n",
       "</div>"
      ],
      "text/plain": [
       "   country    yr     sex          age  suicides_no  population  suicides_100k  \\\n",
       "0  Albania  1987    male  15-24 years           21      312900           6.71   \n",
       "1  Albania  1987    male  35-54 years           16      308000           5.19   \n",
       "2  Albania  1987  female  15-24 years           14      289700           4.83   \n",
       "3  Albania  1987    male    75+ years            1       21800           4.59   \n",
       "4  Albania  1987    male  25-34 years            9      274300           3.28   \n",
       "\n",
       "    country_yr  HDI_yr         gdp_yr  gdp_pc              gen  \n",
       "0  Albania1987     NaN  2,156,624,900     796     Generation X  \n",
       "1  Albania1987     NaN  2,156,624,900     796           Silent  \n",
       "2  Albania1987     NaN  2,156,624,900     796     Generation X  \n",
       "3  Albania1987     NaN  2,156,624,900     796  G.I. Generation  \n",
       "4  Albania1987     NaN  2,156,624,900     796          Boomers  "
      ]
     },
     "execution_count": 60,
     "metadata": {},
     "output_type": "execute_result"
    }
   ],
   "source": [
    "past.head()"
   ]
  },
  {
   "cell_type": "code",
   "execution_count": 61,
   "metadata": {},
   "outputs": [
    {
     "data": {
      "text/html": [
       "<div>\n",
       "<style scoped>\n",
       "    .dataframe tbody tr th:only-of-type {\n",
       "        vertical-align: middle;\n",
       "    }\n",
       "\n",
       "    .dataframe tbody tr th {\n",
       "        vertical-align: top;\n",
       "    }\n",
       "\n",
       "    .dataframe thead th {\n",
       "        text-align: right;\n",
       "    }\n",
       "</style>\n",
       "<table border=\"1\" class=\"dataframe\">\n",
       "  <thead>\n",
       "    <tr style=\"text-align: right;\">\n",
       "      <th></th>\n",
       "      <th>country</th>\n",
       "      <th>yr</th>\n",
       "      <th>sex</th>\n",
       "      <th>age</th>\n",
       "      <th>suicides_no</th>\n",
       "      <th>population</th>\n",
       "      <th>suicides_100k</th>\n",
       "      <th>country_yr</th>\n",
       "      <th>HDI_yr</th>\n",
       "      <th>gdp_yr</th>\n",
       "      <th>gdp_pc</th>\n",
       "      <th>gen</th>\n",
       "    </tr>\n",
       "  </thead>\n",
       "  <tbody>\n",
       "    <tr>\n",
       "      <th>27683</th>\n",
       "      <td>Uzbekistan</td>\n",
       "      <td>2000</td>\n",
       "      <td>female</td>\n",
       "      <td>25-34 years</td>\n",
       "      <td>106</td>\n",
       "      <td>1864696</td>\n",
       "      <td>5.68</td>\n",
       "      <td>Uzbekistan2000</td>\n",
       "      <td>0.594</td>\n",
       "      <td>13,760,374,488</td>\n",
       "      <td>632</td>\n",
       "      <td>Generation X</td>\n",
       "    </tr>\n",
       "    <tr>\n",
       "      <th>27684</th>\n",
       "      <td>Uzbekistan</td>\n",
       "      <td>2000</td>\n",
       "      <td>female</td>\n",
       "      <td>55-74 years</td>\n",
       "      <td>48</td>\n",
       "      <td>896059</td>\n",
       "      <td>5.36</td>\n",
       "      <td>Uzbekistan2000</td>\n",
       "      <td>0.594</td>\n",
       "      <td>13,760,374,488</td>\n",
       "      <td>632</td>\n",
       "      <td>Silent</td>\n",
       "    </tr>\n",
       "    <tr>\n",
       "      <th>27685</th>\n",
       "      <td>Uzbekistan</td>\n",
       "      <td>2000</td>\n",
       "      <td>female</td>\n",
       "      <td>35-54 years</td>\n",
       "      <td>98</td>\n",
       "      <td>2381166</td>\n",
       "      <td>4.12</td>\n",
       "      <td>Uzbekistan2000</td>\n",
       "      <td>0.594</td>\n",
       "      <td>13,760,374,488</td>\n",
       "      <td>632</td>\n",
       "      <td>Boomers</td>\n",
       "    </tr>\n",
       "    <tr>\n",
       "      <th>27686</th>\n",
       "      <td>Uzbekistan</td>\n",
       "      <td>2000</td>\n",
       "      <td>male</td>\n",
       "      <td>5-14 years</td>\n",
       "      <td>57</td>\n",
       "      <td>3279407</td>\n",
       "      <td>1.74</td>\n",
       "      <td>Uzbekistan2000</td>\n",
       "      <td>0.594</td>\n",
       "      <td>13,760,374,488</td>\n",
       "      <td>632</td>\n",
       "      <td>Millenials</td>\n",
       "    </tr>\n",
       "    <tr>\n",
       "      <th>27687</th>\n",
       "      <td>Uzbekistan</td>\n",
       "      <td>2000</td>\n",
       "      <td>female</td>\n",
       "      <td>5-14 years</td>\n",
       "      <td>13</td>\n",
       "      <td>3166259</td>\n",
       "      <td>0.41</td>\n",
       "      <td>Uzbekistan2000</td>\n",
       "      <td>0.594</td>\n",
       "      <td>13,760,374,488</td>\n",
       "      <td>632</td>\n",
       "      <td>Millenials</td>\n",
       "    </tr>\n",
       "  </tbody>\n",
       "</table>\n",
       "</div>"
      ],
      "text/plain": [
       "          country    yr     sex          age  suicides_no  population  \\\n",
       "27683  Uzbekistan  2000  female  25-34 years          106     1864696   \n",
       "27684  Uzbekistan  2000  female  55-74 years           48      896059   \n",
       "27685  Uzbekistan  2000  female  35-54 years           98     2381166   \n",
       "27686  Uzbekistan  2000    male   5-14 years           57     3279407   \n",
       "27687  Uzbekistan  2000  female   5-14 years           13     3166259   \n",
       "\n",
       "       suicides_100k      country_yr  HDI_yr          gdp_yr  gdp_pc  \\\n",
       "27683           5.68  Uzbekistan2000   0.594  13,760,374,488     632   \n",
       "27684           5.36  Uzbekistan2000   0.594  13,760,374,488     632   \n",
       "27685           4.12  Uzbekistan2000   0.594  13,760,374,488     632   \n",
       "27686           1.74  Uzbekistan2000   0.594  13,760,374,488     632   \n",
       "27687           0.41  Uzbekistan2000   0.594  13,760,374,488     632   \n",
       "\n",
       "                gen  \n",
       "27683  Generation X  \n",
       "27684        Silent  \n",
       "27685       Boomers  \n",
       "27686    Millenials  \n",
       "27687    Millenials  "
      ]
     },
     "execution_count": 61,
     "metadata": {},
     "output_type": "execute_result"
    }
   ],
   "source": [
    "past.tail()"
   ]
  },
  {
   "cell_type": "code",
   "execution_count": 62,
   "metadata": {},
   "outputs": [],
   "source": [
    "recent = suicides[(suicides['yr'] >= 2001) & (suicides['yr'] < 2015)]"
   ]
  },
  {
   "cell_type": "code",
   "execution_count": 63,
   "metadata": {},
   "outputs": [
    {
     "data": {
      "text/html": [
       "<div>\n",
       "<style scoped>\n",
       "    .dataframe tbody tr th:only-of-type {\n",
       "        vertical-align: middle;\n",
       "    }\n",
       "\n",
       "    .dataframe tbody tr th {\n",
       "        vertical-align: top;\n",
       "    }\n",
       "\n",
       "    .dataframe thead th {\n",
       "        text-align: right;\n",
       "    }\n",
       "</style>\n",
       "<table border=\"1\" class=\"dataframe\">\n",
       "  <thead>\n",
       "    <tr style=\"text-align: right;\">\n",
       "      <th></th>\n",
       "      <th>country</th>\n",
       "      <th>yr</th>\n",
       "      <th>sex</th>\n",
       "      <th>age</th>\n",
       "      <th>suicides_no</th>\n",
       "      <th>population</th>\n",
       "      <th>suicides_100k</th>\n",
       "      <th>country_yr</th>\n",
       "      <th>HDI_yr</th>\n",
       "      <th>gdp_yr</th>\n",
       "      <th>gdp_pc</th>\n",
       "      <th>gen</th>\n",
       "    </tr>\n",
       "  </thead>\n",
       "  <tbody>\n",
       "    <tr>\n",
       "      <th>144</th>\n",
       "      <td>Albania</td>\n",
       "      <td>2001</td>\n",
       "      <td>male</td>\n",
       "      <td>25-34 years</td>\n",
       "      <td>22</td>\n",
       "      <td>206484</td>\n",
       "      <td>10.65</td>\n",
       "      <td>Albania2001</td>\n",
       "      <td>NaN</td>\n",
       "      <td>4,060,758,804</td>\n",
       "      <td>1451</td>\n",
       "      <td>Generation X</td>\n",
       "    </tr>\n",
       "    <tr>\n",
       "      <th>145</th>\n",
       "      <td>Albania</td>\n",
       "      <td>2001</td>\n",
       "      <td>male</td>\n",
       "      <td>35-54 years</td>\n",
       "      <td>34</td>\n",
       "      <td>378826</td>\n",
       "      <td>8.98</td>\n",
       "      <td>Albania2001</td>\n",
       "      <td>NaN</td>\n",
       "      <td>4,060,758,804</td>\n",
       "      <td>1451</td>\n",
       "      <td>Boomers</td>\n",
       "    </tr>\n",
       "    <tr>\n",
       "      <th>146</th>\n",
       "      <td>Albania</td>\n",
       "      <td>2001</td>\n",
       "      <td>male</td>\n",
       "      <td>55-74 years</td>\n",
       "      <td>11</td>\n",
       "      <td>196670</td>\n",
       "      <td>5.59</td>\n",
       "      <td>Albania2001</td>\n",
       "      <td>NaN</td>\n",
       "      <td>4,060,758,804</td>\n",
       "      <td>1451</td>\n",
       "      <td>Silent</td>\n",
       "    </tr>\n",
       "    <tr>\n",
       "      <th>147</th>\n",
       "      <td>Albania</td>\n",
       "      <td>2001</td>\n",
       "      <td>female</td>\n",
       "      <td>75+ years</td>\n",
       "      <td>2</td>\n",
       "      <td>47254</td>\n",
       "      <td>4.23</td>\n",
       "      <td>Albania2001</td>\n",
       "      <td>NaN</td>\n",
       "      <td>4,060,758,804</td>\n",
       "      <td>1451</td>\n",
       "      <td>Silent</td>\n",
       "    </tr>\n",
       "    <tr>\n",
       "      <th>148</th>\n",
       "      <td>Albania</td>\n",
       "      <td>2001</td>\n",
       "      <td>male</td>\n",
       "      <td>15-24 years</td>\n",
       "      <td>10</td>\n",
       "      <td>256039</td>\n",
       "      <td>3.91</td>\n",
       "      <td>Albania2001</td>\n",
       "      <td>NaN</td>\n",
       "      <td>4,060,758,804</td>\n",
       "      <td>1451</td>\n",
       "      <td>Millenials</td>\n",
       "    </tr>\n",
       "  </tbody>\n",
       "</table>\n",
       "</div>"
      ],
      "text/plain": [
       "     country    yr     sex          age  suicides_no  population  \\\n",
       "144  Albania  2001    male  25-34 years           22      206484   \n",
       "145  Albania  2001    male  35-54 years           34      378826   \n",
       "146  Albania  2001    male  55-74 years           11      196670   \n",
       "147  Albania  2001  female    75+ years            2       47254   \n",
       "148  Albania  2001    male  15-24 years           10      256039   \n",
       "\n",
       "     suicides_100k   country_yr  HDI_yr         gdp_yr  gdp_pc           gen  \n",
       "144          10.65  Albania2001     NaN  4,060,758,804    1451  Generation X  \n",
       "145           8.98  Albania2001     NaN  4,060,758,804    1451       Boomers  \n",
       "146           5.59  Albania2001     NaN  4,060,758,804    1451        Silent  \n",
       "147           4.23  Albania2001     NaN  4,060,758,804    1451        Silent  \n",
       "148           3.91  Albania2001     NaN  4,060,758,804    1451    Millenials  "
      ]
     },
     "execution_count": 63,
     "metadata": {},
     "output_type": "execute_result"
    }
   ],
   "source": [
    "recent.head()"
   ]
  },
  {
   "cell_type": "code",
   "execution_count": 64,
   "metadata": {},
   "outputs": [
    {
     "data": {
      "text/html": [
       "<div>\n",
       "<style scoped>\n",
       "    .dataframe tbody tr th:only-of-type {\n",
       "        vertical-align: middle;\n",
       "    }\n",
       "\n",
       "    .dataframe tbody tr th {\n",
       "        vertical-align: top;\n",
       "    }\n",
       "\n",
       "    .dataframe thead th {\n",
       "        text-align: right;\n",
       "    }\n",
       "</style>\n",
       "<table border=\"1\" class=\"dataframe\">\n",
       "  <thead>\n",
       "    <tr style=\"text-align: right;\">\n",
       "      <th></th>\n",
       "      <th>country</th>\n",
       "      <th>yr</th>\n",
       "      <th>sex</th>\n",
       "      <th>age</th>\n",
       "      <th>suicides_no</th>\n",
       "      <th>population</th>\n",
       "      <th>suicides_100k</th>\n",
       "      <th>country_yr</th>\n",
       "      <th>HDI_yr</th>\n",
       "      <th>gdp_yr</th>\n",
       "      <th>gdp_pc</th>\n",
       "      <th>gen</th>\n",
       "    </tr>\n",
       "  </thead>\n",
       "  <tbody>\n",
       "    <tr>\n",
       "      <th>27815</th>\n",
       "      <td>Uzbekistan</td>\n",
       "      <td>2014</td>\n",
       "      <td>female</td>\n",
       "      <td>35-54 years</td>\n",
       "      <td>107</td>\n",
       "      <td>3620833</td>\n",
       "      <td>2.96</td>\n",
       "      <td>Uzbekistan2014</td>\n",
       "      <td>0.675</td>\n",
       "      <td>63,067,077,179</td>\n",
       "      <td>2309</td>\n",
       "      <td>Generation X</td>\n",
       "    </tr>\n",
       "    <tr>\n",
       "      <th>27816</th>\n",
       "      <td>Uzbekistan</td>\n",
       "      <td>2014</td>\n",
       "      <td>female</td>\n",
       "      <td>75+ years</td>\n",
       "      <td>9</td>\n",
       "      <td>348465</td>\n",
       "      <td>2.58</td>\n",
       "      <td>Uzbekistan2014</td>\n",
       "      <td>0.675</td>\n",
       "      <td>63,067,077,179</td>\n",
       "      <td>2309</td>\n",
       "      <td>Silent</td>\n",
       "    </tr>\n",
       "    <tr>\n",
       "      <th>27817</th>\n",
       "      <td>Uzbekistan</td>\n",
       "      <td>2014</td>\n",
       "      <td>male</td>\n",
       "      <td>5-14 years</td>\n",
       "      <td>60</td>\n",
       "      <td>2762158</td>\n",
       "      <td>2.17</td>\n",
       "      <td>Uzbekistan2014</td>\n",
       "      <td>0.675</td>\n",
       "      <td>63,067,077,179</td>\n",
       "      <td>2309</td>\n",
       "      <td>Generation Z</td>\n",
       "    </tr>\n",
       "    <tr>\n",
       "      <th>27818</th>\n",
       "      <td>Uzbekistan</td>\n",
       "      <td>2014</td>\n",
       "      <td>female</td>\n",
       "      <td>5-14 years</td>\n",
       "      <td>44</td>\n",
       "      <td>2631600</td>\n",
       "      <td>1.67</td>\n",
       "      <td>Uzbekistan2014</td>\n",
       "      <td>0.675</td>\n",
       "      <td>63,067,077,179</td>\n",
       "      <td>2309</td>\n",
       "      <td>Generation Z</td>\n",
       "    </tr>\n",
       "    <tr>\n",
       "      <th>27819</th>\n",
       "      <td>Uzbekistan</td>\n",
       "      <td>2014</td>\n",
       "      <td>female</td>\n",
       "      <td>55-74 years</td>\n",
       "      <td>21</td>\n",
       "      <td>1438935</td>\n",
       "      <td>1.46</td>\n",
       "      <td>Uzbekistan2014</td>\n",
       "      <td>0.675</td>\n",
       "      <td>63,067,077,179</td>\n",
       "      <td>2309</td>\n",
       "      <td>Boomers</td>\n",
       "    </tr>\n",
       "  </tbody>\n",
       "</table>\n",
       "</div>"
      ],
      "text/plain": [
       "          country    yr     sex          age  suicides_no  population  \\\n",
       "27815  Uzbekistan  2014  female  35-54 years          107     3620833   \n",
       "27816  Uzbekistan  2014  female    75+ years            9      348465   \n",
       "27817  Uzbekistan  2014    male   5-14 years           60     2762158   \n",
       "27818  Uzbekistan  2014  female   5-14 years           44     2631600   \n",
       "27819  Uzbekistan  2014  female  55-74 years           21     1438935   \n",
       "\n",
       "       suicides_100k      country_yr  HDI_yr          gdp_yr  gdp_pc  \\\n",
       "27815           2.96  Uzbekistan2014   0.675  63,067,077,179    2309   \n",
       "27816           2.58  Uzbekistan2014   0.675  63,067,077,179    2309   \n",
       "27817           2.17  Uzbekistan2014   0.675  63,067,077,179    2309   \n",
       "27818           1.67  Uzbekistan2014   0.675  63,067,077,179    2309   \n",
       "27819           1.46  Uzbekistan2014   0.675  63,067,077,179    2309   \n",
       "\n",
       "                gen  \n",
       "27815  Generation X  \n",
       "27816        Silent  \n",
       "27817  Generation Z  \n",
       "27818  Generation Z  \n",
       "27819       Boomers  "
      ]
     },
     "execution_count": 64,
     "metadata": {},
     "output_type": "execute_result"
    }
   ],
   "source": [
    "recent.tail()"
   ]
  },
  {
   "cell_type": "code",
   "execution_count": 65,
   "metadata": {},
   "outputs": [],
   "source": [
    "#We want to take samples less than 1153.2 for past, and less than 1423.2 for recent (to ensure independence)\n",
    "#Number of observations in sample should be > 100 to account for possible skew in population.\n",
    "#We take 300 samples from each category just to be certain we can account for the skew.\n",
    "sample_size = 300\n",
    "past_samp = past.sample(sample_size)\n",
    "recent_samp = recent.sample(sample_size)"
   ]
  },
  {
   "cell_type": "code",
   "execution_count": 66,
   "metadata": {},
   "outputs": [
    {
     "data": {
      "text/html": [
       "<div>\n",
       "<style scoped>\n",
       "    .dataframe tbody tr th:only-of-type {\n",
       "        vertical-align: middle;\n",
       "    }\n",
       "\n",
       "    .dataframe tbody tr th {\n",
       "        vertical-align: top;\n",
       "    }\n",
       "\n",
       "    .dataframe thead th {\n",
       "        text-align: right;\n",
       "    }\n",
       "</style>\n",
       "<table border=\"1\" class=\"dataframe\">\n",
       "  <thead>\n",
       "    <tr style=\"text-align: right;\">\n",
       "      <th></th>\n",
       "      <th>country</th>\n",
       "      <th>yr</th>\n",
       "      <th>sex</th>\n",
       "      <th>age</th>\n",
       "      <th>suicides_no</th>\n",
       "      <th>population</th>\n",
       "      <th>suicides_100k</th>\n",
       "      <th>country_yr</th>\n",
       "      <th>HDI_yr</th>\n",
       "      <th>gdp_yr</th>\n",
       "      <th>gdp_pc</th>\n",
       "      <th>gen</th>\n",
       "    </tr>\n",
       "  </thead>\n",
       "  <tbody>\n",
       "    <tr>\n",
       "      <th>15742</th>\n",
       "      <td>Maldives</td>\n",
       "      <td>2004</td>\n",
       "      <td>female</td>\n",
       "      <td>55-74 years</td>\n",
       "      <td>0</td>\n",
       "      <td>10331</td>\n",
       "      <td>0.00</td>\n",
       "      <td>Maldives2004</td>\n",
       "      <td>NaN</td>\n",
       "      <td>1,226,829,563</td>\n",
       "      <td>4373</td>\n",
       "      <td>Silent</td>\n",
       "    </tr>\n",
       "    <tr>\n",
       "      <th>4768</th>\n",
       "      <td>Bulgaria</td>\n",
       "      <td>2003</td>\n",
       "      <td>female</td>\n",
       "      <td>25-34 years</td>\n",
       "      <td>23</td>\n",
       "      <td>561600</td>\n",
       "      <td>4.10</td>\n",
       "      <td>Bulgaria2003</td>\n",
       "      <td>NaN</td>\n",
       "      <td>20,982,685,981</td>\n",
       "      <td>2800</td>\n",
       "      <td>Generation X</td>\n",
       "    </tr>\n",
       "    <tr>\n",
       "      <th>17418</th>\n",
       "      <td>Netherlands</td>\n",
       "      <td>2014</td>\n",
       "      <td>female</td>\n",
       "      <td>55-74 years</td>\n",
       "      <td>197</td>\n",
       "      <td>1922945</td>\n",
       "      <td>10.24</td>\n",
       "      <td>Netherlands2014</td>\n",
       "      <td>0.922</td>\n",
       "      <td>879,635,084,125</td>\n",
       "      <td>55325</td>\n",
       "      <td>Boomers</td>\n",
       "    </tr>\n",
       "    <tr>\n",
       "      <th>1208</th>\n",
       "      <td>Armenia</td>\n",
       "      <td>2012</td>\n",
       "      <td>female</td>\n",
       "      <td>55-74 years</td>\n",
       "      <td>4</td>\n",
       "      <td>273394</td>\n",
       "      <td>1.46</td>\n",
       "      <td>Armenia2012</td>\n",
       "      <td>0.728</td>\n",
       "      <td>10,619,320,049</td>\n",
       "      <td>3773</td>\n",
       "      <td>Boomers</td>\n",
       "    </tr>\n",
       "    <tr>\n",
       "      <th>6209</th>\n",
       "      <td>Costa Rica</td>\n",
       "      <td>2001</td>\n",
       "      <td>male</td>\n",
       "      <td>5-14 years</td>\n",
       "      <td>4</td>\n",
       "      <td>415961</td>\n",
       "      <td>0.96</td>\n",
       "      <td>Costa Rica2001</td>\n",
       "      <td>NaN</td>\n",
       "      <td>15,913,363,335</td>\n",
       "      <td>4412</td>\n",
       "      <td>Millenials</td>\n",
       "    </tr>\n",
       "  </tbody>\n",
       "</table>\n",
       "</div>"
      ],
      "text/plain": [
       "           country    yr     sex          age  suicides_no  population  \\\n",
       "15742     Maldives  2004  female  55-74 years            0       10331   \n",
       "4768      Bulgaria  2003  female  25-34 years           23      561600   \n",
       "17418  Netherlands  2014  female  55-74 years          197     1922945   \n",
       "1208       Armenia  2012  female  55-74 years            4      273394   \n",
       "6209    Costa Rica  2001    male   5-14 years            4      415961   \n",
       "\n",
       "       suicides_100k       country_yr  HDI_yr           gdp_yr  gdp_pc  \\\n",
       "15742           0.00     Maldives2004     NaN    1,226,829,563    4373   \n",
       "4768            4.10     Bulgaria2003     NaN   20,982,685,981    2800   \n",
       "17418          10.24  Netherlands2014   0.922  879,635,084,125   55325   \n",
       "1208            1.46      Armenia2012   0.728   10,619,320,049    3773   \n",
       "6209            0.96   Costa Rica2001     NaN   15,913,363,335    4412   \n",
       "\n",
       "                gen  \n",
       "15742        Silent  \n",
       "4768   Generation X  \n",
       "17418       Boomers  \n",
       "1208        Boomers  \n",
       "6209     Millenials  "
      ]
     },
     "execution_count": 66,
     "metadata": {},
     "output_type": "execute_result"
    }
   ],
   "source": [
    "recent_samp.head()"
   ]
  },
  {
   "cell_type": "code",
   "execution_count": 67,
   "metadata": {},
   "outputs": [
    {
     "data": {
      "text/html": [
       "<div>\n",
       "<style scoped>\n",
       "    .dataframe tbody tr th:only-of-type {\n",
       "        vertical-align: middle;\n",
       "    }\n",
       "\n",
       "    .dataframe tbody tr th {\n",
       "        vertical-align: top;\n",
       "    }\n",
       "\n",
       "    .dataframe thead th {\n",
       "        text-align: right;\n",
       "    }\n",
       "</style>\n",
       "<table border=\"1\" class=\"dataframe\">\n",
       "  <thead>\n",
       "    <tr style=\"text-align: right;\">\n",
       "      <th></th>\n",
       "      <th>country</th>\n",
       "      <th>yr</th>\n",
       "      <th>sex</th>\n",
       "      <th>age</th>\n",
       "      <th>suicides_no</th>\n",
       "      <th>population</th>\n",
       "      <th>suicides_100k</th>\n",
       "      <th>country_yr</th>\n",
       "      <th>HDI_yr</th>\n",
       "      <th>gdp_yr</th>\n",
       "      <th>gdp_pc</th>\n",
       "      <th>gen</th>\n",
       "    </tr>\n",
       "  </thead>\n",
       "  <tbody>\n",
       "    <tr>\n",
       "      <th>20731</th>\n",
       "      <td>Romania</td>\n",
       "      <td>1999</td>\n",
       "      <td>female</td>\n",
       "      <td>15-24 years</td>\n",
       "      <td>47</td>\n",
       "      <td>1800200</td>\n",
       "      <td>2.61</td>\n",
       "      <td>Romania1999</td>\n",
       "      <td>NaN</td>\n",
       "      <td>36,183,003,978</td>\n",
       "      <td>1698</td>\n",
       "      <td>Generation X</td>\n",
       "    </tr>\n",
       "    <tr>\n",
       "      <th>27261</th>\n",
       "      <td>Uruguay</td>\n",
       "      <td>1988</td>\n",
       "      <td>female</td>\n",
       "      <td>75+ years</td>\n",
       "      <td>7</td>\n",
       "      <td>74600</td>\n",
       "      <td>9.38</td>\n",
       "      <td>Uruguay1988</td>\n",
       "      <td>NaN</td>\n",
       "      <td>8,213,515,459</td>\n",
       "      <td>2934</td>\n",
       "      <td>G.I. Generation</td>\n",
       "    </tr>\n",
       "    <tr>\n",
       "      <th>23638</th>\n",
       "      <td>Spain</td>\n",
       "      <td>1994</td>\n",
       "      <td>male</td>\n",
       "      <td>25-34 years</td>\n",
       "      <td>418</td>\n",
       "      <td>3161200</td>\n",
       "      <td>13.22</td>\n",
       "      <td>Spain1994</td>\n",
       "      <td>NaN</td>\n",
       "      <td>529,121,577,320</td>\n",
       "      <td>14223</td>\n",
       "      <td>Boomers</td>\n",
       "    </tr>\n",
       "    <tr>\n",
       "      <th>14850</th>\n",
       "      <td>Latvia</td>\n",
       "      <td>1999</td>\n",
       "      <td>male</td>\n",
       "      <td>5-14 years</td>\n",
       "      <td>1</td>\n",
       "      <td>175500</td>\n",
       "      <td>0.57</td>\n",
       "      <td>Latvia1999</td>\n",
       "      <td>NaN</td>\n",
       "      <td>7,533,187,605</td>\n",
       "      <td>3228</td>\n",
       "      <td>Millenials</td>\n",
       "    </tr>\n",
       "    <tr>\n",
       "      <th>12119</th>\n",
       "      <td>Ireland</td>\n",
       "      <td>1990</td>\n",
       "      <td>male</td>\n",
       "      <td>75+ years</td>\n",
       "      <td>9</td>\n",
       "      <td>61000</td>\n",
       "      <td>14.75</td>\n",
       "      <td>Ireland1990</td>\n",
       "      <td>0.77</td>\n",
       "      <td>49,364,681,256</td>\n",
       "      <td>15312</td>\n",
       "      <td>G.I. Generation</td>\n",
       "    </tr>\n",
       "  </tbody>\n",
       "</table>\n",
       "</div>"
      ],
      "text/plain": [
       "       country    yr     sex          age  suicides_no  population  \\\n",
       "20731  Romania  1999  female  15-24 years           47     1800200   \n",
       "27261  Uruguay  1988  female    75+ years            7       74600   \n",
       "23638    Spain  1994    male  25-34 years          418     3161200   \n",
       "14850   Latvia  1999    male   5-14 years            1      175500   \n",
       "12119  Ireland  1990    male    75+ years            9       61000   \n",
       "\n",
       "       suicides_100k   country_yr  HDI_yr           gdp_yr  gdp_pc  \\\n",
       "20731           2.61  Romania1999     NaN   36,183,003,978    1698   \n",
       "27261           9.38  Uruguay1988     NaN    8,213,515,459    2934   \n",
       "23638          13.22    Spain1994     NaN  529,121,577,320   14223   \n",
       "14850           0.57   Latvia1999     NaN    7,533,187,605    3228   \n",
       "12119          14.75  Ireland1990    0.77   49,364,681,256   15312   \n",
       "\n",
       "                   gen  \n",
       "20731     Generation X  \n",
       "27261  G.I. Generation  \n",
       "23638          Boomers  \n",
       "14850       Millenials  \n",
       "12119  G.I. Generation  "
      ]
     },
     "execution_count": 67,
     "metadata": {},
     "output_type": "execute_result"
    }
   ],
   "source": [
    "past_samp.head()"
   ]
  },
  {
   "cell_type": "code",
   "execution_count": 68,
   "metadata": {},
   "outputs": [
    {
     "data": {
      "image/png": "[encoded data removed]",
      "text/plain": [
       "<Figure size 720x432 with 2 Axes>"
      ]
     },
     "metadata": {
      "needs_background": "light"
     },
     "output_type": "display_data"
    }
   ],
   "source": [
    "fig, ax = plt.subplots(1, 2, figsize=(10,6))\n",
    "ax[0].hist(past_samp['suicides_100k'].values, bins=25, histtype='bar', color='green')\n",
    "ax[0].set(xlabel='Bins', ylabel='Past Sample Frequency', title='Frequency of Suicides in Past Sample')\n",
    "ax[1].hist(recent_samp['suicides_100k'].values, bins=25, histtype='bar', color='blue')\n",
    "ax[1].set(xlabel='Bins', ylabel='Recent Sample Frequency', title='Frequency of Suicides in Recent Sample');"
   ]
  },
  {
   "cell_type": "markdown",
   "metadata": {},
   "source": [
    "We see a high amount of skew to the right for both past and recent categories. However, since our sample size is 300, we may ignore this skew in the samples."
   ]
  },
  {
   "cell_type": "code",
   "execution_count": 69,
   "metadata": {},
   "outputs": [
    {
     "data": {
      "image/png": "[encoded data removed]",
      "text/plain": [
       "<Figure size 720x432 with 1 Axes>"
      ]
     },
     "metadata": {
      "needs_background": "light"
     },
     "output_type": "display_data"
    }
   ],
   "source": [
    "fig, ax = plt.subplots(1, 1, figsize=(10,6))\n",
    "ax.hist(recent_samp['suicides_100k'].values - past_samp['suicides_100k'].values, bins=50, histtype='bar', color='red',\n",
    "         alpha=0.7, label='Difference')\n",
    "ax.set(xlabel='Bins',ylabel='Frequency',title='Difference between Recent and Past Suicide Groups')\n",
    "plt.legend();"
   ]
  },
  {
   "cell_type": "code",
   "execution_count": 70,
   "metadata": {},
   "outputs": [],
   "source": [
    "#We want to take our recent sample and compare against the past sample\n",
    "#The past sample's mean is taken as the null value\n",
    "#We want to check whether the recent sample's mean is \"larger\" than the past sample's mean\n",
    "from statsmodels.stats.weightstats import ztest\n",
    "zstat, pvalue = ztest(recent_samp['suicides_100k'].values, past_samp['suicides_100k'].values, 0, 'larger')"
   ]
  },
  {
   "cell_type": "code",
   "execution_count": 71,
   "metadata": {},
   "outputs": [
    {
     "name": "stdout",
     "output_type": "stream",
     "text": [
      "Z-statistic =  -1.2246910031260545\n",
      "P-value =  0.8896541673927261\n"
     ]
    }
   ],
   "source": [
    "print(\"Z-statistic = \", zstat)\n",
    "print(\"P-value = \", pvalue)"
   ]
  },
  {
   "cell_type": "markdown",
   "metadata": {},
   "source": [
    "Last try for p-value gave:\n",
    "Z = -1.188\n",
    "p = 0.883"
   ]
  },
  {
   "cell_type": "markdown",
   "metadata": {},
   "source": [
    "Since the p-value is much greater than alpha=0.05, we fail to reject the null hypothesis. So, there isn't enough evidence to suggest that the average suicide rate across the world has gone up in the recent decades (2001-2015) and so is more than that of the past decades (1985-2000). "
   ]
  }
 ],
 "metadata": {
  "kernelspec": {
   "display_name": "Python 3",
   "language": "python",
   "name": "python3"
  },
  "language_info": {
   "codemirror_mode": {
    "name": "ipython",
    "version": 3
   },
   "file_extension": ".py",
   "mimetype": "text/x-python",
   "name": "python",
   "nbconvert_exporter": "python",
   "pygments_lexer": "ipython3",
   "version": "3.5.5"
  }
 },
 "nbformat": 4,
 "nbformat_minor": 2
}
